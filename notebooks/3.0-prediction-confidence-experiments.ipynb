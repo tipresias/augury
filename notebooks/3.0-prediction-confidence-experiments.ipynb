{
 "cells": [
  {
   "cell_type": "markdown",
   "metadata": {},
   "source": [
    "## Revisit win probability experiments\n",
    "\n",
    "When I first tried experimenting with predicting win probabilities and measuring the bits metric, I made a lot of mistakes that resulted in zany bits scores for the various models. Now that I've worked out the bugs, it's worth going back and re-running those experiments with the correct bits results."
   ]
  },
  {
   "cell_type": "markdown",
   "metadata": {},
   "source": [
    "## Setup"
   ]
  },
  {
   "cell_type": "code",
   "execution_count": 1,
   "metadata": {
    "ExecuteTime": {
     "end_time": "2021-03-01T21:48:11.315258Z",
     "start_time": "2021-03-01T21:48:11.181928Z"
    }
   },
   "outputs": [
    {
     "name": "stderr",
     "output_type": "stream",
     "text": [
      "/usr/local/lib/python3.8/site-packages/ipykernel/ipkernel.py:283: DeprecationWarning: `should_run_async` will not call `transform_cell` automatically in the future. Please pass the result to `transformed_cell` argument and any exception that happen during thetransform in `preprocessing_exc_tuple` in IPython 7.17 and above.\n",
      "  and should_run_async(code)\n"
     ]
    }
   ],
   "source": [
    "%load_ext autoreload"
   ]
  },
  {
   "cell_type": "code",
   "execution_count": 34,
   "metadata": {
    "ExecuteTime": {
     "end_time": "2021-03-01T22:11:53.614382Z",
     "start_time": "2021-03-01T22:11:53.527853Z"
    }
   },
   "outputs": [
    {
     "name": "stderr",
     "output_type": "stream",
     "text": [
      "/usr/local/lib/python3.8/site-packages/ipykernel/ipkernel.py:283: DeprecationWarning: `should_run_async` will not call `transform_cell` automatically in the future. Please pass the result to `transformed_cell` argument and any exception that happen during thetransform in `preprocessing_exc_tuple` in IPython 7.17 and above.\n",
      "  and should_run_async(code)\n"
     ]
    }
   ],
   "source": [
    "%autoreload 2\n",
    "\n",
    "from functools import partial\n",
    "import math\n",
    "\n",
    "from sklearn.gaussian_process import GaussianProcessRegressor, GaussianProcessClassifier\n",
    "from sklearn.model_selection import cross_val_predict\n",
    "from sklearn.metrics import mean_absolute_error, mean_squared_error\n",
    "from sklearn.neighbors import KernelDensity\n",
    "from sklearn.pipeline import make_pipeline\n",
    "from sklearn.preprocessing import StandardScaler, OneHotEncoder\n",
    "from sklearn.compose import ColumnTransformer\n",
    "from sklearn.base import clone\n",
    "from sklearn.neighbors import KNeighborsRegressor\n",
    "from xgboost import XGBRegressor, XGBClassifier\n",
    "\n",
    "import numpy as np\n",
    "import seaborn as sns\n",
    "import scipy\n",
    "import pandas as pd\n",
    "\n",
    "from augury.ml_data import MLData\n",
    "from augury.ml_estimators import StackingEstimator, ConfidenceEstimator, base_ml_estimator\n",
    "from augury.model_tracking import score_model\n",
    "from augury.settings import TEAM_NAMES, ROUND_TYPES, VENUES, CATEGORY_COLS, CV_YEAR_RANGE, SEED\n",
    "from augury.sklearn.metrics import bits_scorer, _calculate_bits, bits_objective\n",
    "from augury.sklearn.model_selection import year_cv_split\n",
    "from augury.sklearn.models import EloRegressor\n",
    "from augury.sklearn.preprocessing import ColumnDropper, TeammatchToMatchConverter\n",
    "\n",
    "np.random.seed(SEED)\n",
    "\n",
    "N_ROWS_PER_MATCH = 2"
   ]
  },
  {
   "cell_type": "code",
   "execution_count": 3,
   "metadata": {
    "ExecuteTime": {
     "end_time": "2021-03-01T21:48:28.867998Z",
     "start_time": "2021-03-01T21:48:17.331509Z"
    },
    "scrolled": true
   },
   "outputs": [
    {
     "name": "stderr",
     "output_type": "stream",
     "text": [
      "/usr/local/lib/python3.8/site-packages/ipykernel/ipkernel.py:283: DeprecationWarning: `should_run_async` will not call `transform_cell` automatically in the future. Please pass the result to `transformed_cell` argument and any exception that happen during thetransform in `preprocessing_exc_tuple` in IPython 7.17 and above.\n",
      "  and should_run_async(code)\n"
     ]
    },
    {
     "name": "stdout",
     "output_type": "stream",
     "text": [
      "2021-03-01 21:48:17,705 - kedro.io.data_catalog - INFO - Loading data from `full_data` (JSONDataSet)...\n"
     ]
    },
    {
     "data": {
      "text/html": [
       "<div>\n",
       "<style scoped>\n",
       "    .dataframe tbody tr th:only-of-type {\n",
       "        vertical-align: middle;\n",
       "    }\n",
       "\n",
       "    .dataframe tbody tr th {\n",
       "        vertical-align: top;\n",
       "    }\n",
       "\n",
       "    .dataframe thead th {\n",
       "        text-align: right;\n",
       "    }\n",
       "</style>\n",
       "<table border=\"1\" class=\"dataframe\">\n",
       "  <thead>\n",
       "    <tr style=\"text-align: right;\">\n",
       "      <th></th>\n",
       "      <th></th>\n",
       "      <th></th>\n",
       "      <th>team</th>\n",
       "      <th>oppo_team</th>\n",
       "      <th>round_type</th>\n",
       "      <th>venue</th>\n",
       "      <th>prev_match_oppo_team</th>\n",
       "      <th>oppo_prev_match_oppo_team</th>\n",
       "      <th>date</th>\n",
       "      <th>team_goals</th>\n",
       "      <th>team_behinds</th>\n",
       "      <th>score</th>\n",
       "      <th>...</th>\n",
       "      <th>oppo_rolling_prev_match_time_on_ground_skew</th>\n",
       "      <th>oppo_rolling_prev_match_time_on_ground_std</th>\n",
       "      <th>oppo_last_year_brownlow_votes_sum</th>\n",
       "      <th>oppo_last_year_brownlow_votes_max</th>\n",
       "      <th>oppo_last_year_brownlow_votes_min</th>\n",
       "      <th>oppo_last_year_brownlow_votes_skew</th>\n",
       "      <th>oppo_last_year_brownlow_votes_std</th>\n",
       "      <th>oppo_cum_matches_played</th>\n",
       "      <th>oppo_rolling_prev_match_goals_plus_rolling_prev_match_behinds</th>\n",
       "      <th>oppo_rolling_prev_match_goals_divided_by_rolling_prev_match_goals_plus_rolling_prev_match_behinds</th>\n",
       "    </tr>\n",
       "  </thead>\n",
       "  <tbody>\n",
       "    <tr>\n",
       "      <th rowspan=\"5\" valign=\"top\">Adelaide</th>\n",
       "      <th rowspan=\"5\" valign=\"top\">1991</th>\n",
       "      <th>1</th>\n",
       "      <td>Adelaide</td>\n",
       "      <td>Hawthorn</td>\n",
       "      <td>Regular</td>\n",
       "      <td>Football Park</td>\n",
       "      <td>0</td>\n",
       "      <td>Melbourne</td>\n",
       "      <td>1991-03-22 03:56:00+00:00</td>\n",
       "      <td>24</td>\n",
       "      <td>11</td>\n",
       "      <td>155</td>\n",
       "      <td>...</td>\n",
       "      <td>0.0</td>\n",
       "      <td>0.0</td>\n",
       "      <td>72</td>\n",
       "      <td>15</td>\n",
       "      <td>0</td>\n",
       "      <td>1.565197</td>\n",
       "      <td>4.070433</td>\n",
       "      <td>80</td>\n",
       "      <td>1</td>\n",
       "      <td>0</td>\n",
       "    </tr>\n",
       "    <tr>\n",
       "      <th>2</th>\n",
       "      <td>Adelaide</td>\n",
       "      <td>Carlton</td>\n",
       "      <td>Regular</td>\n",
       "      <td>Football Park</td>\n",
       "      <td>Hawthorn</td>\n",
       "      <td>Fitzroy</td>\n",
       "      <td>1991-03-31 03:56:00+00:00</td>\n",
       "      <td>12</td>\n",
       "      <td>9</td>\n",
       "      <td>81</td>\n",
       "      <td>...</td>\n",
       "      <td>0.0</td>\n",
       "      <td>0.0</td>\n",
       "      <td>51</td>\n",
       "      <td>16</td>\n",
       "      <td>0</td>\n",
       "      <td>2.449132</td>\n",
       "      <td>3.913203</td>\n",
       "      <td>60</td>\n",
       "      <td>1</td>\n",
       "      <td>0</td>\n",
       "    </tr>\n",
       "    <tr>\n",
       "      <th>3</th>\n",
       "      <td>Adelaide</td>\n",
       "      <td>Sydney</td>\n",
       "      <td>Regular</td>\n",
       "      <td>S.C.G.</td>\n",
       "      <td>Carlton</td>\n",
       "      <td>Hawthorn</td>\n",
       "      <td>1991-04-07 03:05:00+00:00</td>\n",
       "      <td>19</td>\n",
       "      <td>18</td>\n",
       "      <td>132</td>\n",
       "      <td>...</td>\n",
       "      <td>0.0</td>\n",
       "      <td>0.0</td>\n",
       "      <td>33</td>\n",
       "      <td>7</td>\n",
       "      <td>0</td>\n",
       "      <td>1.403576</td>\n",
       "      <td>2.433862</td>\n",
       "      <td>92</td>\n",
       "      <td>1</td>\n",
       "      <td>0</td>\n",
       "    </tr>\n",
       "    <tr>\n",
       "      <th>4</th>\n",
       "      <td>Adelaide</td>\n",
       "      <td>Essendon</td>\n",
       "      <td>Regular</td>\n",
       "      <td>Windy Hill</td>\n",
       "      <td>Sydney</td>\n",
       "      <td>North Melbourne</td>\n",
       "      <td>1991-04-13 03:30:00+00:00</td>\n",
       "      <td>6</td>\n",
       "      <td>11</td>\n",
       "      <td>47</td>\n",
       "      <td>...</td>\n",
       "      <td>0.0</td>\n",
       "      <td>0.0</td>\n",
       "      <td>71</td>\n",
       "      <td>13</td>\n",
       "      <td>0</td>\n",
       "      <td>1.262708</td>\n",
       "      <td>4.524495</td>\n",
       "      <td>69</td>\n",
       "      <td>1</td>\n",
       "      <td>0</td>\n",
       "    </tr>\n",
       "    <tr>\n",
       "      <th>5</th>\n",
       "      <td>Adelaide</td>\n",
       "      <td>West Coast</td>\n",
       "      <td>Regular</td>\n",
       "      <td>Subiaco</td>\n",
       "      <td>Essendon</td>\n",
       "      <td>North Melbourne</td>\n",
       "      <td>1991-04-21 05:27:00+00:00</td>\n",
       "      <td>9</td>\n",
       "      <td>11</td>\n",
       "      <td>65</td>\n",
       "      <td>...</td>\n",
       "      <td>0.0</td>\n",
       "      <td>0.0</td>\n",
       "      <td>48</td>\n",
       "      <td>9</td>\n",
       "      <td>0</td>\n",
       "      <td>0.913203</td>\n",
       "      <td>3.218368</td>\n",
       "      <td>48</td>\n",
       "      <td>1</td>\n",
       "      <td>0</td>\n",
       "    </tr>\n",
       "    <tr>\n",
       "      <th>...</th>\n",
       "      <th>...</th>\n",
       "      <th>...</th>\n",
       "      <td>...</td>\n",
       "      <td>...</td>\n",
       "      <td>...</td>\n",
       "      <td>...</td>\n",
       "      <td>...</td>\n",
       "      <td>...</td>\n",
       "      <td>...</td>\n",
       "      <td>...</td>\n",
       "      <td>...</td>\n",
       "      <td>...</td>\n",
       "      <td>...</td>\n",
       "      <td>...</td>\n",
       "      <td>...</td>\n",
       "      <td>...</td>\n",
       "      <td>...</td>\n",
       "      <td>...</td>\n",
       "      <td>...</td>\n",
       "      <td>...</td>\n",
       "      <td>...</td>\n",
       "      <td>...</td>\n",
       "      <td>...</td>\n",
       "    </tr>\n",
       "    <tr>\n",
       "      <th rowspan=\"5\" valign=\"top\">Western Bulldogs</th>\n",
       "      <th rowspan=\"5\" valign=\"top\">2021</th>\n",
       "      <th>19</th>\n",
       "      <td>Western Bulldogs</td>\n",
       "      <td>Adelaide</td>\n",
       "      <td>Regular</td>\n",
       "      <td>Eureka Stadium</td>\n",
       "      <td>Gold Coast</td>\n",
       "      <td>West Coast</td>\n",
       "      <td>2021-07-24 02:20:00+00:00</td>\n",
       "      <td>0</td>\n",
       "      <td>0</td>\n",
       "      <td>0</td>\n",
       "      <td>...</td>\n",
       "      <td>0.0</td>\n",
       "      <td>0.0</td>\n",
       "      <td>0</td>\n",
       "      <td>0</td>\n",
       "      <td>0</td>\n",
       "      <td>0.000000</td>\n",
       "      <td>0.000000</td>\n",
       "      <td>0</td>\n",
       "      <td>0</td>\n",
       "      <td>0</td>\n",
       "    </tr>\n",
       "    <tr>\n",
       "      <th>20</th>\n",
       "      <td>Western Bulldogs</td>\n",
       "      <td>Melbourne</td>\n",
       "      <td>Regular</td>\n",
       "      <td>M.C.G.</td>\n",
       "      <td>Adelaide</td>\n",
       "      <td>Gold Coast</td>\n",
       "      <td>2021-07-31 02:20:00+00:00</td>\n",
       "      <td>0</td>\n",
       "      <td>0</td>\n",
       "      <td>0</td>\n",
       "      <td>...</td>\n",
       "      <td>0.0</td>\n",
       "      <td>0.0</td>\n",
       "      <td>0</td>\n",
       "      <td>0</td>\n",
       "      <td>0</td>\n",
       "      <td>0.000000</td>\n",
       "      <td>0.000000</td>\n",
       "      <td>0</td>\n",
       "      <td>0</td>\n",
       "      <td>0</td>\n",
       "    </tr>\n",
       "    <tr>\n",
       "      <th>21</th>\n",
       "      <td>Western Bulldogs</td>\n",
       "      <td>Essendon</td>\n",
       "      <td>Regular</td>\n",
       "      <td>Docklands</td>\n",
       "      <td>Melbourne</td>\n",
       "      <td>Sydney</td>\n",
       "      <td>2021-08-07 02:20:00+00:00</td>\n",
       "      <td>0</td>\n",
       "      <td>0</td>\n",
       "      <td>0</td>\n",
       "      <td>...</td>\n",
       "      <td>0.0</td>\n",
       "      <td>0.0</td>\n",
       "      <td>0</td>\n",
       "      <td>0</td>\n",
       "      <td>0</td>\n",
       "      <td>0.000000</td>\n",
       "      <td>0.000000</td>\n",
       "      <td>0</td>\n",
       "      <td>0</td>\n",
       "      <td>0</td>\n",
       "    </tr>\n",
       "    <tr>\n",
       "      <th>22</th>\n",
       "      <td>Western Bulldogs</td>\n",
       "      <td>Hawthorn</td>\n",
       "      <td>Regular</td>\n",
       "      <td>York Park</td>\n",
       "      <td>Essendon</td>\n",
       "      <td>Collingwood</td>\n",
       "      <td>2021-08-14 02:11:00+00:00</td>\n",
       "      <td>0</td>\n",
       "      <td>0</td>\n",
       "      <td>0</td>\n",
       "      <td>...</td>\n",
       "      <td>0.0</td>\n",
       "      <td>0.0</td>\n",
       "      <td>0</td>\n",
       "      <td>0</td>\n",
       "      <td>0</td>\n",
       "      <td>0.000000</td>\n",
       "      <td>0.000000</td>\n",
       "      <td>0</td>\n",
       "      <td>0</td>\n",
       "      <td>0</td>\n",
       "    </tr>\n",
       "    <tr>\n",
       "      <th>23</th>\n",
       "      <td>Western Bulldogs</td>\n",
       "      <td>Port Adelaide</td>\n",
       "      <td>Regular</td>\n",
       "      <td>Docklands</td>\n",
       "      <td>Hawthorn</td>\n",
       "      <td>Carlton</td>\n",
       "      <td>2021-08-21 02:20:00+00:00</td>\n",
       "      <td>0</td>\n",
       "      <td>0</td>\n",
       "      <td>0</td>\n",
       "      <td>...</td>\n",
       "      <td>0.0</td>\n",
       "      <td>0.0</td>\n",
       "      <td>0</td>\n",
       "      <td>0</td>\n",
       "      <td>0</td>\n",
       "      <td>0.000000</td>\n",
       "      <td>0.000000</td>\n",
       "      <td>0</td>\n",
       "      <td>0</td>\n",
       "      <td>0</td>\n",
       "    </tr>\n",
       "  </tbody>\n",
       "</table>\n",
       "<p>31584 rows × 284 columns</p>\n",
       "</div>"
      ],
      "text/plain": [
       "                                      team      oppo_team round_type  \\\n",
       "Adelaide         1991 1           Adelaide       Hawthorn    Regular   \n",
       "                      2           Adelaide        Carlton    Regular   \n",
       "                      3           Adelaide         Sydney    Regular   \n",
       "                      4           Adelaide       Essendon    Regular   \n",
       "                      5           Adelaide     West Coast    Regular   \n",
       "...                                    ...            ...        ...   \n",
       "Western Bulldogs 2021 19  Western Bulldogs       Adelaide    Regular   \n",
       "                      20  Western Bulldogs      Melbourne    Regular   \n",
       "                      21  Western Bulldogs       Essendon    Regular   \n",
       "                      22  Western Bulldogs       Hawthorn    Regular   \n",
       "                      23  Western Bulldogs  Port Adelaide    Regular   \n",
       "\n",
       "                                   venue prev_match_oppo_team  \\\n",
       "Adelaide         1991 1    Football Park                    0   \n",
       "                      2    Football Park             Hawthorn   \n",
       "                      3           S.C.G.              Carlton   \n",
       "                      4       Windy Hill               Sydney   \n",
       "                      5          Subiaco             Essendon   \n",
       "...                                  ...                  ...   \n",
       "Western Bulldogs 2021 19  Eureka Stadium           Gold Coast   \n",
       "                      20          M.C.G.             Adelaide   \n",
       "                      21       Docklands            Melbourne   \n",
       "                      22       York Park             Essendon   \n",
       "                      23       Docklands             Hawthorn   \n",
       "\n",
       "                         oppo_prev_match_oppo_team                      date  \\\n",
       "Adelaide         1991 1                  Melbourne 1991-03-22 03:56:00+00:00   \n",
       "                      2                    Fitzroy 1991-03-31 03:56:00+00:00   \n",
       "                      3                   Hawthorn 1991-04-07 03:05:00+00:00   \n",
       "                      4            North Melbourne 1991-04-13 03:30:00+00:00   \n",
       "                      5            North Melbourne 1991-04-21 05:27:00+00:00   \n",
       "...                                            ...                       ...   \n",
       "Western Bulldogs 2021 19                West Coast 2021-07-24 02:20:00+00:00   \n",
       "                      20                Gold Coast 2021-07-31 02:20:00+00:00   \n",
       "                      21                    Sydney 2021-08-07 02:20:00+00:00   \n",
       "                      22               Collingwood 2021-08-14 02:11:00+00:00   \n",
       "                      23                   Carlton 2021-08-21 02:20:00+00:00   \n",
       "\n",
       "                          team_goals  team_behinds  score  ...  \\\n",
       "Adelaide         1991 1           24            11    155  ...   \n",
       "                      2           12             9     81  ...   \n",
       "                      3           19            18    132  ...   \n",
       "                      4            6            11     47  ...   \n",
       "                      5            9            11     65  ...   \n",
       "...                              ...           ...    ...  ...   \n",
       "Western Bulldogs 2021 19           0             0      0  ...   \n",
       "                      20           0             0      0  ...   \n",
       "                      21           0             0      0  ...   \n",
       "                      22           0             0      0  ...   \n",
       "                      23           0             0      0  ...   \n",
       "\n",
       "                          oppo_rolling_prev_match_time_on_ground_skew  \\\n",
       "Adelaide         1991 1                                           0.0   \n",
       "                      2                                           0.0   \n",
       "                      3                                           0.0   \n",
       "                      4                                           0.0   \n",
       "                      5                                           0.0   \n",
       "...                                                               ...   \n",
       "Western Bulldogs 2021 19                                          0.0   \n",
       "                      20                                          0.0   \n",
       "                      21                                          0.0   \n",
       "                      22                                          0.0   \n",
       "                      23                                          0.0   \n",
       "\n",
       "                          oppo_rolling_prev_match_time_on_ground_std  \\\n",
       "Adelaide         1991 1                                          0.0   \n",
       "                      2                                          0.0   \n",
       "                      3                                          0.0   \n",
       "                      4                                          0.0   \n",
       "                      5                                          0.0   \n",
       "...                                                              ...   \n",
       "Western Bulldogs 2021 19                                         0.0   \n",
       "                      20                                         0.0   \n",
       "                      21                                         0.0   \n",
       "                      22                                         0.0   \n",
       "                      23                                         0.0   \n",
       "\n",
       "                          oppo_last_year_brownlow_votes_sum  \\\n",
       "Adelaide         1991 1                                  72   \n",
       "                      2                                  51   \n",
       "                      3                                  33   \n",
       "                      4                                  71   \n",
       "                      5                                  48   \n",
       "...                                                     ...   \n",
       "Western Bulldogs 2021 19                                  0   \n",
       "                      20                                  0   \n",
       "                      21                                  0   \n",
       "                      22                                  0   \n",
       "                      23                                  0   \n",
       "\n",
       "                          oppo_last_year_brownlow_votes_max  \\\n",
       "Adelaide         1991 1                                  15   \n",
       "                      2                                  16   \n",
       "                      3                                   7   \n",
       "                      4                                  13   \n",
       "                      5                                   9   \n",
       "...                                                     ...   \n",
       "Western Bulldogs 2021 19                                  0   \n",
       "                      20                                  0   \n",
       "                      21                                  0   \n",
       "                      22                                  0   \n",
       "                      23                                  0   \n",
       "\n",
       "                          oppo_last_year_brownlow_votes_min  \\\n",
       "Adelaide         1991 1                                   0   \n",
       "                      2                                   0   \n",
       "                      3                                   0   \n",
       "                      4                                   0   \n",
       "                      5                                   0   \n",
       "...                                                     ...   \n",
       "Western Bulldogs 2021 19                                  0   \n",
       "                      20                                  0   \n",
       "                      21                                  0   \n",
       "                      22                                  0   \n",
       "                      23                                  0   \n",
       "\n",
       "                          oppo_last_year_brownlow_votes_skew  \\\n",
       "Adelaide         1991 1                             1.565197   \n",
       "                      2                             2.449132   \n",
       "                      3                             1.403576   \n",
       "                      4                             1.262708   \n",
       "                      5                             0.913203   \n",
       "...                                                      ...   \n",
       "Western Bulldogs 2021 19                            0.000000   \n",
       "                      20                            0.000000   \n",
       "                      21                            0.000000   \n",
       "                      22                            0.000000   \n",
       "                      23                            0.000000   \n",
       "\n",
       "                          oppo_last_year_brownlow_votes_std  \\\n",
       "Adelaide         1991 1                            4.070433   \n",
       "                      2                            3.913203   \n",
       "                      3                            2.433862   \n",
       "                      4                            4.524495   \n",
       "                      5                            3.218368   \n",
       "...                                                     ...   \n",
       "Western Bulldogs 2021 19                           0.000000   \n",
       "                      20                           0.000000   \n",
       "                      21                           0.000000   \n",
       "                      22                           0.000000   \n",
       "                      23                           0.000000   \n",
       "\n",
       "                          oppo_cum_matches_played  \\\n",
       "Adelaide         1991 1                        80   \n",
       "                      2                        60   \n",
       "                      3                        92   \n",
       "                      4                        69   \n",
       "                      5                        48   \n",
       "...                                           ...   \n",
       "Western Bulldogs 2021 19                        0   \n",
       "                      20                        0   \n",
       "                      21                        0   \n",
       "                      22                        0   \n",
       "                      23                        0   \n",
       "\n",
       "                          oppo_rolling_prev_match_goals_plus_rolling_prev_match_behinds  \\\n",
       "Adelaide         1991 1                                                   1               \n",
       "                      2                                                   1               \n",
       "                      3                                                   1               \n",
       "                      4                                                   1               \n",
       "                      5                                                   1               \n",
       "...                                                                     ...               \n",
       "Western Bulldogs 2021 19                                                  0               \n",
       "                      20                                                  0               \n",
       "                      21                                                  0               \n",
       "                      22                                                  0               \n",
       "                      23                                                  0               \n",
       "\n",
       "                          oppo_rolling_prev_match_goals_divided_by_rolling_prev_match_goals_plus_rolling_prev_match_behinds  \n",
       "Adelaide         1991 1                                                   0                                                  \n",
       "                      2                                                   0                                                  \n",
       "                      3                                                   0                                                  \n",
       "                      4                                                   0                                                  \n",
       "                      5                                                   0                                                  \n",
       "...                                                                     ...                                                  \n",
       "Western Bulldogs 2021 19                                                  0                                                  \n",
       "                      20                                                  0                                                  \n",
       "                      21                                                  0                                                  \n",
       "                      22                                                  0                                                  \n",
       "                      23                                                  0                                                  \n",
       "\n",
       "[31584 rows x 284 columns]"
      ]
     },
     "execution_count": 3,
     "metadata": {},
     "output_type": "execute_result"
    }
   ],
   "source": [
    "result_data = MLData(train_year_range=(max(CV_YEAR_RANGE),), label_col='result')\n",
    "margin_data = MLData(train_year_range=(max(CV_YEAR_RANGE),), label_col='margin')\n",
    "result_data.data"
   ]
  },
  {
   "cell_type": "code",
   "execution_count": 4,
   "metadata": {
    "ExecuteTime": {
     "end_time": "2021-03-01T21:48:28.951165Z",
     "start_time": "2021-03-01T21:48:28.870819Z"
    }
   },
   "outputs": [
    {
     "name": "stderr",
     "output_type": "stream",
     "text": [
      "/usr/local/lib/python3.8/site-packages/ipykernel/ipkernel.py:283: DeprecationWarning: `should_run_async` will not call `transform_cell` automatically in the future. Please pass the result to `transformed_cell` argument and any exception that happen during thetransform in `preprocessing_exc_tuple` in IPython 7.17 and above.\n",
      "  and should_run_async(code)\n"
     ]
    }
   ],
   "source": [
    "# We need to create our own cross_val_predict, because the version from Scikit-Learn\n",
    "# doesn't permit time-series CV splits\n",
    "def _make_cv_prediction(estimator, X, y, train, test):\n",
    "    X_train, y_train = X[train], y[train]\n",
    "    X_test = X[test]\n",
    "    estimator.fit(X_train, y_train)\n",
    "    return estimator.predict(X_test)\n",
    "\n",
    "def time_series_cross_val_predict(estimator, X, y, cv):\n",
    "    make_cv_prediction = partial(_make_cv_prediction, estimator, X, y)\n",
    "\n",
    "    return np.array([make_cv_prediction(train, test) for train, test in cv])"
   ]
  },
  {
   "cell_type": "markdown",
   "metadata": {},
   "source": [
    "## Test Models"
   ]
  },
  {
   "cell_type": "markdown",
   "metadata": {},
   "source": [
    "### ConfidenceEstimator\n",
    "\n",
    "This is the current model used to make win probability predictions."
   ]
  },
  {
   "cell_type": "code",
   "execution_count": 5,
   "metadata": {
    "ExecuteTime": {
     "end_time": "2021-03-01T21:48:29.105646Z",
     "start_time": "2021-03-01T21:48:28.973179Z"
    }
   },
   "outputs": [],
   "source": [
    "tipresias_proba = ConfidenceEstimator()"
   ]
  },
  {
   "cell_type": "code",
   "execution_count": 6,
   "metadata": {
    "ExecuteTime": {
     "end_time": "2021-03-01T21:50:39.845659Z",
     "start_time": "2021-03-01T21:48:29.120008Z"
    },
    "scrolled": true
   },
   "outputs": [
    {
     "name": "stderr",
     "output_type": "stream",
     "text": [
      "[Parallel(n_jobs=-1)]: Using backend LokyBackend with 4 concurrent workers.\n",
      "[Parallel(n_jobs=-1)]: Done   5 out of   5 | elapsed:  2.2min finished\n"
     ]
    },
    {
     "data": {
      "text/plain": [
       "{'fit_time': array([105.10931158, 107.21892929, 103.08525348, 108.38244581,\n",
       "         14.94646168]),\n",
       " 'score_time': array([0.10475111, 0.0650692 , 0.10036898, 0.01539826, 0.0113008 ]),\n",
       " 'test_bits': array([ -9.52772771, -13.06468416,  -7.3097688 , -10.06808159,\n",
       "        -46.2403722 ])}"
      ]
     },
     "execution_count": 6,
     "metadata": {},
     "output_type": "execute_result"
    }
   ],
   "source": [
    "tipresias_scores = score_model(tipresias_proba, result_data, n_jobs=-1, scoring={'bits': bits_scorer})\n",
    "tipresias_scores"
   ]
  },
  {
   "cell_type": "code",
   "execution_count": 7,
   "metadata": {
    "ExecuteTime": {
     "end_time": "2021-03-01T21:50:39.974841Z",
     "start_time": "2021-03-01T21:50:39.849775Z"
    }
   },
   "outputs": [
    {
     "name": "stderr",
     "output_type": "stream",
     "text": [
      "/usr/local/lib/python3.8/site-packages/ipykernel/ipkernel.py:283: DeprecationWarning: `should_run_async` will not call `transform_cell` automatically in the future. Please pass the result to `transformed_cell` argument and any exception that happen during thetransform in `preprocessing_exc_tuple` in IPython 7.17 and above.\n",
      "  and should_run_async(code)\n"
     ]
    },
    {
     "name": "stdout",
     "output_type": "stream",
     "text": [
      "Bits per season: -17.242126892854166\n"
     ]
    }
   ],
   "source": [
    "print('Bits per season:', tipresias_scores['test_bits'].sum() / len(tipresias_scores['test_bits']))"
   ]
  },
  {
   "cell_type": "markdown",
   "metadata": {},
   "source": [
    "### Confidence from sampling margin predictions"
   ]
  },
  {
   "cell_type": "code",
   "execution_count": 16,
   "metadata": {
    "ExecuteTime": {
     "end_time": "2021-03-01T21:58:14.372791Z",
     "start_time": "2021-03-01T21:58:14.102415Z"
    }
   },
   "outputs": [
    {
     "name": "stderr",
     "output_type": "stream",
     "text": [
      "/usr/local/lib/python3.8/site-packages/ipykernel/ipkernel.py:283: DeprecationWarning: `should_run_async` will not call `transform_cell` automatically in the future. Please pass the result to `transformed_cell` argument and any exception that happen during thetransform in `preprocessing_exc_tuple` in IPython 7.17 and above.\n",
      "  and should_run_async(code)\n"
     ]
    }
   ],
   "source": [
    "stacking = StackingEstimator()\n",
    "\n",
    "sampling_test_year = CV_YEAR_RANGE[1] - 1\n",
    "sampling_train_year_range = (CV_YEAR_RANGE[0], sampling_test_year)\n",
    "\n",
    "X_train, y_train = margin_data.train_data\n",
    "X_val = X_train.query(f'year == {sampling_test_year}')\n",
    "y_val = y_train.loc[(slice(None), sampling_test_year, slice(None))]"
   ]
  },
  {
   "cell_type": "code",
   "execution_count": 9,
   "metadata": {
    "ExecuteTime": {
     "end_time": "2021-03-01T21:55:44.972152Z",
     "start_time": "2021-03-01T21:50:40.352420Z"
    },
    "scrolled": true
   },
   "outputs": [
    {
     "name": "stdout",
     "output_type": "stream",
     "text": [
      "2021-03-01 21:50:40,529 - kedro.io.data_catalog - INFO - Loading data from `full_data` (JSONDataSet)...\n"
     ]
    },
    {
     "name": "stderr",
     "output_type": "stream",
     "text": [
      "/usr/local/lib/python3.8/site-packages/ipykernel/ipkernel.py:283: DeprecationWarning: `should_run_async` will not call `transform_cell` automatically in the future. Please pass the result to `transformed_cell` argument and any exception that happen during thetransform in `preprocessing_exc_tuple` in IPython 7.17 and above.\n",
      "  and should_run_async(code)\n",
      "<ipython-input-4-ca92af5bb448>:12: VisibleDeprecationWarning: Creating an ndarray from ragged nested sequences (which is a list-or-tuple of lists-or-tuples-or ndarrays with different lengths or shapes) is deprecated. If you meant to do this, you must specify 'dtype=object' when creating the ndarray\n",
      "  return np.array([make_cv_prediction(train, test) for train, test in cv])\n"
     ]
    },
    {
     "data": {
      "text/plain": [
       "array([array([ 8.94476744e+00,  3.98546512e+00,  3.56453488e+01,  1.99854651e+01,\n",
       "        1.74186047e+01,  2.19651163e+01,  5.73517442e+01, -1.27325581e+00,\n",
       "       -3.09883721e+00,  2.60843023e+01, -1.31860465e+01,  2.85000000e+01,\n",
       "       -2.78779070e+01, -5.00000000e-01,  5.74273256e+01, -1.59651163e+01,\n",
       "        1.19069767e+01,  1.62470930e+01,  5.48197674e+01,  4.36627907e+00,\n",
       "       -6.68604651e-01,  3.23604651e+01, -2.60261628e+01, -1.66569767e+00,\n",
       "       -2.41773256e+01, -2.51308140e+01, -1.31191860e+01, -3.75872093e+00,\n",
       "       -1.85116279e+01, -2.32500000e+01, -1.99040698e+01,  2.79796512e+01,\n",
       "       -3.20552326e+01, -1.92151163e+01, -2.55523256e+01, -5.36046512e+01,\n",
       "       -3.96627907e+01,  7.56395349e+00, -4.08575581e+01, -4.04563953e+01,\n",
       "        1.09767442e+01,  3.43313953e+00, -6.31947674e+01, -5.03197674e+01,\n",
       "       -1.89011628e+01,  6.25000000e-01, -2.93808140e+01, -2.19534884e+01,\n",
       "        1.68023256e+00, -5.38081395e+00,  9.91569767e+00,  2.41860465e+00,\n",
       "       -2.73313953e+01, -5.49447674e+01, -2.66889535e+01, -1.40145349e+01,\n",
       "        1.79738372e+01, -2.46046512e+01, -2.89534884e+01, -5.48779070e+01,\n",
       "       -3.27296512e+01, -4.09156977e+01, -2.46918605e+01, -6.33139535e+00,\n",
       "       -5.69767442e-01, -1.99098837e+01, -6.25377907e+01, -5.43895349e+00,\n",
       "       -8.08720930e+00,  2.00000000e+01, -1.07238372e+01,  2.86046512e+00,\n",
       "        7.43604651e+00, -1.15988372e+00,  1.02587209e+01,  3.63372093e+00,\n",
       "        3.28052326e+01,  8.73546512e+00, -1.84273256e+01, -2.31046512e+01,\n",
       "       -1.57063953e+01, -1.30261628e+01, -5.08720930e+00,  2.86366279e+01,\n",
       "        2.08488372e+01, -2.35552326e+01, -6.99418605e+00, -1.11482558e+01,\n",
       "        3.39854651e+01, -6.92441860e+00, -1.65988372e+01,  2.05029070e+01,\n",
       "        7.58720930e+00,  1.98924419e+01, -2.25116279e+01, -1.12238372e+01,\n",
       "        1.51627907e+01, -3.75000000e+00,  1.44767442e+00, -2.91308140e+01,\n",
       "       -3.79622093e+01,  2.19534884e+01,  1.16744186e+01, -1.97122093e+01,\n",
       "       -5.72383721e+00, -9.78197674e+00, -1.63197674e+01, -1.62267442e+01,\n",
       "        1.88662791e+00, -2.44593023e+01, -3.11744186e+01, -2.09302326e+00,\n",
       "       -1.11046512e+00, -7.23255814e+00,  2.41279070e+00,  3.73168605e+01,\n",
       "        2.17209302e+01,  2.45116279e+01,  2.14215116e+01,  7.15406977e+00,\n",
       "        1.56744186e+01,  3.91104651e+01,  1.82180233e+01,  5.16802326e+01,\n",
       "       -1.95872093e+01,  5.36947674e+01, -2.84883721e+00,  3.09767442e+01,\n",
       "        6.25581395e+00, -9.84593023e+00, -1.77325581e-01,  4.21308140e+01,\n",
       "       -2.51046512e+01,  2.79418605e+01, -2.20174419e+01,  8.75000000e+00,\n",
       "        1.17994186e+01, -3.09825581e+01,  1.36744186e+01, -2.01802326e+01,\n",
       "       -2.59767442e+01, -3.11627907e+00, -1.32151163e+01,  1.05203488e+01,\n",
       "        2.42354651e+01, -1.14331395e+01, -2.70930233e+00, -2.37848837e+01,\n",
       "        1.14941860e+01,  1.79680233e+01, -1.23313953e+01, -3.68691860e+01,\n",
       "        1.98139535e+01, -1.17819767e+01,  1.25203488e+01,  2.10290698e+01,\n",
       "        2.34563953e+01, -1.84127907e+01, -9.43604651e+00,  1.98081395e+01,\n",
       "       -1.43604651e+00,  3.45058140e+00, -1.02936047e+01, -1.64098837e+01,\n",
       "        3.38895349e+01, -1.86686047e+01, -9.98546512e+00, -1.30930233e+01,\n",
       "        4.21889535e+01,  7.10465116e+00,  1.45901163e+01,  5.20058140e+00,\n",
       "        4.11191860e+01,  1.94186047e+00, -1.60290698e+01,  1.99825581e+01,\n",
       "        1.64505814e+01,  2.26744186e+00,  2.61831395e+01,  2.88633721e+01,\n",
       "       -2.42151163e+01, -8.22383721e+00,  7.88081395e+00, -2.20697674e+01,\n",
       "       -3.70639535e+01, -1.65755814e+01, -5.57325581e+01, -4.05872093e+01,\n",
       "       -4.33866279e+01, -1.87906977e+01, -3.22470930e+01, -2.21017442e+01,\n",
       "       -5.25872093e+00, -6.00145349e+01, -4.81046512e+01,  2.89534884e+00,\n",
       "       -3.32732558e+01, -3.75290698e+00, -2.86337209e+01, -6.98750000e+01,\n",
       "        1.88168605e+01,  1.17383721e+01,  4.10290698e+01,  1.89273256e+01,\n",
       "        2.60581395e+01,  2.19244186e+01,  3.71133721e+01,  6.93313953e+00,\n",
       "        6.11046512e+01,  4.68226744e+01,  1.20726744e+01,  3.40988372e+01,\n",
       "        1.41744186e+01,  1.69883721e+01,  1.37209302e+00,  4.10087209e+01,\n",
       "        1.64331395e+01,  9.88372093e-02,  2.47412791e+01,  4.41947674e+01,\n",
       "        4.55436047e+01,  5.53081395e+01, -2.49040698e+01,  2.92674419e+01,\n",
       "        2.52383721e+01,  2.99360465e+01, -2.85406977e+01, -5.18895349e+00,\n",
       "       -4.32703488e+01, -3.34215116e+01, -2.99563953e+01, -3.52587209e+01,\n",
       "       -4.79215116e+01, -1.33110465e+01, -1.47151163e+01, -3.49331395e+01,\n",
       "       -1.98488372e+01, -3.91598837e+01, -5.08895349e+01, -1.11424419e+01,\n",
       "       -4.93023256e+00, -1.81104651e+00, -1.95087209e+01, -2.84098837e+01,\n",
       "       -4.34796512e+01, -4.74127907e+00, -4.34186047e+01, -3.14069767e+01,\n",
       "       -5.83720930e+00,  3.35901163e+01,  8.60465116e-01, -1.71511628e+00,\n",
       "       -2.25988372e+01,  5.81104651e+00,  1.32267442e+01, -2.25145349e+01,\n",
       "       -9.36046512e-01, -1.50813953e+01, -1.17151163e+01, -1.28488372e+00,\n",
       "        2.77529070e+01, -1.41250000e+01,  1.64534884e+01,  3.42936047e+01,\n",
       "        3.29651163e+01,  3.08546512e+01,  5.73081395e+01, -2.85174419e+00,\n",
       "        1.54389535e+01, -1.24767442e+01,  2.34534884e+01,  2.66744186e+01,\n",
       "       -6.23575581e+01, -5.82848837e+00, -3.80232558e+00, -9.23255814e+00,\n",
       "       -2.11482558e+01, -1.45116279e+01,  9.30523256e+00,  2.08720930e+01,\n",
       "        3.16569767e+00,  9.39244186e+00,  2.85319767e+01,  4.00000000e+00,\n",
       "        1.90552326e+01, -3.18982558e+01,  7.34883721e+00,  3.77034884e+00,\n",
       "        1.14302326e+01,  2.01686047e+01, -1.42122093e+01,  5.68895349e+00,\n",
       "       -3.39680233e+01,  2.67063953e+01,  3.40145349e+01,  7.74127907e+00,\n",
       "        1.50348837e+01,  1.66075581e+01,  3.11133721e+01,  2.51162791e+00,\n",
       "       -1.49883721e+01,  2.85174419e+00, -8.63081395e+00,  4.48837209e+00,\n",
       "       -2.01627907e+01, -2.40406977e+00, -1.89302326e+01,  2.80290698e+01,\n",
       "        3.30552326e+01,  1.94011628e+01,  5.50000000e+00, -1.27093023e+01,\n",
       "       -7.62500000e+00,  3.39854651e+01,  1.05232558e+00,  1.96656977e+01,\n",
       "        9.64534884e+00, -2.16366279e+01, -1.59709302e+01, -3.09418605e+01,\n",
       "       -2.33313953e+01, -1.25000000e-01, -2.03343023e+01, -2.71133721e+01,\n",
       "       -5.35552326e+01, -3.32732558e+01, -2.03081395e+01, -3.98575581e+01,\n",
       "        1.70406977e+01, -1.35959302e+01, -1.44215116e+01, -1.04622093e+01,\n",
       "       -2.49825581e+01,  7.12209302e-01, -3.14011628e+01, -7.17441860e+00,\n",
       "       -5.96279070e+01, -2.32732558e+01, -2.73633721e+01, -4.79273256e+01,\n",
       "        7.97093023e+00, -6.16279070e-01,  2.53139535e+01, -4.82558140e+00,\n",
       "        3.65930233e+01,  4.29709302e+01,  1.45901163e+01, -2.88953488e+00,\n",
       "        5.92063953e+01,  4.07354651e+01,  1.54476744e+01,  1.73023256e+01,\n",
       "        4.04418605e+01,  3.60174419e+01, -6.80232558e-01, -2.20348837e+01,\n",
       "        1.09215116e+01, -7.61627907e-01,  2.39331395e+01, -1.08343023e+01,\n",
       "        2.61744186e+01,  7.22151163e+01, -2.69244186e+01, -2.24563953e+01,\n",
       "        6.89825581e+00,  2.82151163e+01, -3.58430233e+00,  1.55552326e+01,\n",
       "        1.99738372e+01,  2.30813953e+00,  3.97238372e+01,  3.17296512e+01,\n",
       "        1.27616279e+01,  8.09011628e+00,  2.09127907e+01, -1.10465116e+00,\n",
       "        4.11540698e+01,  2.34127907e+01,  1.27674419e+01,  2.36715116e+01,\n",
       "        4.47732558e+01,  4.06976744e-02,  3.27034884e+00,  2.60901163e+01,\n",
       "       -6.23255814e+00,  5.19651163e+01,  2.46744186e+01,  5.99273256e+01,\n",
       "       -2.70755814e+01, -1.22093023e+00, -1.67441860e+01, -4.27761628e+01,\n",
       "       -2.14738372e+01, -3.27412791e+01,  1.88226744e+01, -3.55232558e+01,\n",
       "        1.06889535e+01, -1.20959302e+01, -2.58081395e+01,  1.05552326e+01,\n",
       "        8.91860465e+00,  2.81337209e+01,  3.18546512e+01, -1.69069767e+01,\n",
       "        6.90116279e+00,  9.11337209e+00,  8.92732558e+00,  5.35116279e+01,\n",
       "       -2.95116279e+01, -1.47848837e+01,  1.74244186e+01, -2.82965116e+01]),\n",
       "       array([ -1.80232558,   1.59302326, -12.60755814,  -3.24418605,\n",
       "       -26.23837209,  21.09883721,  -6.0377907 ,  -8.68313953,\n",
       "        23.92732558,   9.67151163,  47.56976744, -14.87209302,\n",
       "        16.40116279,   9.38662791,  26.51453488,  37.57267442,\n",
       "       -19.76162791,  65.17732558,  64.86627907,  42.41860465,\n",
       "        23.49127907,  16.09302326,  42.74418605, -27.34011628,\n",
       "       -40.30813953, -25.64825581, -39.03488372,  -3.25      ,\n",
       "       -57.4505814 , -34.42151163, -32.99418605,   7.81395349,\n",
       "       -29.65697674, -42.80523256, -18.53197674,  -9.63372093,\n",
       "       -44.52906977, -33.32848837, -21.00581395, -26.89825581,\n",
       "        -0.9127907 , -23.41569767, -59.06104651,  19.38662791,\n",
       "       -39.46802326, -31.35174419, -33.81104651, -47.72674419,\n",
       "       -27.31104651, -32.92732558, -27.52616279,  12.43313953,\n",
       "         1.50290698, -18.48546512, -44.60174419, -37.05523256,\n",
       "        23.73255814,   6.62790698, -41.40116279,  -9.64534884,\n",
       "       -29.77616279, -25.02325581, -42.71511628, -58.22965116,\n",
       "        -8.11918605,  -9.73546512, -18.58430233,  12.32848837,\n",
       "       -10.75872093, -16.13662791,   9.63372093,  23.47965116,\n",
       "        14.65406977, -38.77325581,   5.65697674,  -7.        ,\n",
       "       -21.125     ,  -1.54069767,  -8.375     , -16.04360465,\n",
       "        -2.27034884,   2.31395349, -37.07848837, -35.25872093,\n",
       "       -12.56976744, -17.92732558,  -1.66860465, -21.18604651,\n",
       "        20.65406977, -28.56686047,   9.75872093,  -6.27906977,\n",
       "       -31.20639535, -22.16569767, -10.68313953,  -1.23255814,\n",
       "       -69.65988372, -40.57267442, -24.61337209, -33.62209302,\n",
       "       -22.42151163, -28.61337209, -22.75      , -63.17732558,\n",
       "       -18.68023256, -16.04651163,  11.89534884, -64.02616279,\n",
       "       -71.6627907 ,  -5.03488372, -17.93313953,   5.63953488,\n",
       "        10.63662791,  22.31104651,  -5.68023256, -10.8255814 ,\n",
       "        24.43604651, -26.79360465, -10.65116279, -33.70930233,\n",
       "       -17.61627907, -12.39244186,  22.2005814 ,   1.00581395,\n",
       "        -4.10465116,   3.875     , -12.37209302, -10.43023256,\n",
       "       -23.        , -24.54069767, -32.77616279, -34.42151163,\n",
       "       -65.50290698,  -7.0872093 ,  -2.73546512, -14.59302326,\n",
       "       -37.9244186 , -19.01453488,   9.45639535,  -7.04651163,\n",
       "         3.15116279,  42.30813953,  12.4622093 ,  -9.63081395,\n",
       "       -18.65406977, -14.02616279,  14.38081395,  38.85465116,\n",
       "        32.30523256,  26.09011628,   1.68895349,  27.50872093,\n",
       "        25.15116279,  10.02906977,  65.77616279,   1.00581395,\n",
       "        25.27325581, -16.06976744, -11.62209302,  17.72674419,\n",
       "        39.86918605,  22.19476744,   0.78488372,  33.57267442,\n",
       "        20.36627907,  -2.89244186,  27.76744186,  32.86337209,\n",
       "        17.22674419,   4.50872093,  10.13372093,  27.02034884,\n",
       "        21.77616279,  20.4505814 ,  15.24418605,  25.89534884,\n",
       "        79.96511628,  11.59593023,  38.82848837,  39.46802326,\n",
       "        34.56976744, -22.04360465, -10.97674419, -23.0494186 ,\n",
       "        22.79360465,   6.89244186, -19.07267442, -43.88081395,\n",
       "         0.36046512, -42.22674419, -28.42732558, -58.7005814 ,\n",
       "       -29.47093023, -24.82848837, -62.7994186 ,  -0.37790698,\n",
       "        29.00290698, -46.77034884,   9.13662791, -14.88081395,\n",
       "       -34.06686047,  10.30523256, -24.75      , -14.80813953,\n",
       "         9.24418605,   2.41860465,   2.88081395,  56.91569767,\n",
       "        18.93895349,   5.5494186 ,  21.34302326,  42.60465116,\n",
       "         9.24709302,  44.70639535,  28.52034884,  33.86627907,\n",
       "        15.875     ,  58.64244186,   4.71511628,   8.24127907,\n",
       "        28.33139535,  52.41860465,  20.89825581,   8.7005814 ,\n",
       "        -1.30813953,  31.62790698, -28.78488372, -26.15116279,\n",
       "         6.95930233,  16.41569767, -40.42732558, -17.66569767,\n",
       "       -12.48837209,  18.34883721,  -0.69476744, -12.80232558,\n",
       "        32.38953488,  -1.27034884, -25.72093023,  21.76453488,\n",
       "       -40.04651163,  -9.7122093 ,   8.98837209,  -8.29651163,\n",
       "       -46.84593023,  24.40116279, -22.75      , -11.55813953,\n",
       "         7.16860465, -40.91569767,  -1.80232558,  34.71802326,\n",
       "        45.63565891,   7.93023256,  15.50581395,  -7.26453488,\n",
       "        37.33430233,  37.75872093,  46.81104651,  -8.36627907,\n",
       "        15.9127907 , -10.88372093, -22.06104651, -22.65697674,\n",
       "       -30.03197674,   3.23546512,   9.09011628,  20.34011628,\n",
       "         2.58139535, -12.95348837,  -9.06395349,   1.76453488,\n",
       "       -45.31104651,  50.83430233,   0.16860465,  28.59011628,\n",
       "        19.0755814 ,   4.92732558,  -7.03197674,  33.80523256,\n",
       "        23.0872093 ,  -9.89825581,   9.77906977,   6.02616279,\n",
       "         4.22965116,   3.43313953,   6.9622093 ,  -9.16569767,\n",
       "       -10.31104651,   7.80523256,  17.57848837, -26.48837209,\n",
       "        10.38662791, -17.68023256,  17.52034884,  36.48837209,\n",
       "        10.4622093 ,   9.07267442, -18.875     ,   9.27616279,\n",
       "         8.11337209, -23.70348837, -15.11046512,  20.45639535,\n",
       "        31.69186047, -24.52906977,  24.94186047,  29.5377907 ,\n",
       "        -6.125     , -20.47383721,  14.64534884, -20.78488372,\n",
       "       -31.94186047,  -2.94186047, -18.74127907,   8.24709302,\n",
       "       -48.49709302, -60.86337209, -21.43604651,   1.92151163,\n",
       "       -55.88081395,  -6.69767442, -15.14534884, -29.19767442,\n",
       "       -52.55232558,  20.2994186 ,  20.88081395, -44.13662791,\n",
       "        -8.7877907 , -27.25581395,   0.27906977,  20.9127907 ,\n",
       "         8.73837209, -19.71802326, -20.84883721,   9.21511628,\n",
       "       -13.66860465,  -4.83139535,  30.76453488,   1.56976744,\n",
       "        50.49418605,  30.61918605,   0.68604651,   7.6627907 ,\n",
       "        36.34883721,  65.52034884,   6.88662791, -11.9127907 ,\n",
       "        13.49127907,  29.42151163,  15.56686047,  33.90697674,\n",
       "        18.30813953, -18.35174419,  -3.82267442,  44.0755814 ,\n",
       "        29.13662791,  21.34883721,  13.8372093 ,  12.43895349,\n",
       "        40.73255814, -17.72674419,  25.53197674,  20.74127907,\n",
       "       -26.48546512,  30.78197674,  -1.64244186,   3.04651163,\n",
       "        19.87790698,  -9.51744186,  39.8255814 , -28.50872093,\n",
       "        46.66569767,   1.75872093,  58.80523256, -12.78197674,\n",
       "        11.53488372,  37.23837209,  68.6627907 ,  32.5872093 ,\n",
       "        25.05813953,  38.49418605,  17.85755814,  32.89534884,\n",
       "       -18.41569767,   7.73837209, -16.9505814 , -11.25872093,\n",
       "       -12.16569767,  19.90697674,  -2.49709302,  36.2877907 ,\n",
       "        47.71802326,   1.7994186 ,   4.74127907,   8.34302326,\n",
       "       -17.40697674,   8.05232558,   1.54651163, -14.47383721,\n",
       "        -0.54651163, -13.74127907,  21.43895349,  50.26744186,\n",
       "        16.43023256, -22.6744186 ,   0.55813953,  16.73546512,\n",
       "        20.86918605,   6.13372093,  15.11337209,  26.75290698,\n",
       "        17.28488372,  26.34883721]),\n",
       "       array([ 8.12790698e+00,  9.95348837e+00,  6.15988372e+00,  2.93895349e+01,\n",
       "        2.44040698e+01,  2.76511628e+01,  2.65087209e+01,  4.91075581e+01,\n",
       "        4.39825581e+01,  3.48197674e+01, -1.49186047e+01,  2.62412791e+01,\n",
       "        2.98837209e+01,  3.34389535e+01,  2.61279070e+01,  1.99738372e+01,\n",
       "        2.30813953e+00,  9.29069767e+00,  2.81104651e+01,  7.15116279e+00,\n",
       "        3.18604651e+00,  1.45261628e+01,  3.41744186e+01,  2.80552326e+01,\n",
       "       -2.88691860e+01, -2.07441860e+01, -1.40988372e+00, -3.57645349e+01,\n",
       "       -2.41337209e+01, -5.03982558e+01, -3.66395349e+01, -3.61046512e+01,\n",
       "       -4.47034884e+01, -3.44593023e+01, -3.13750000e+01, -1.58081395e+01,\n",
       "       -3.86104651e+01, -4.42819767e+01, -3.79244186e+01, -3.63604651e+01,\n",
       "       -3.05465116e+01,  7.67732558e+00, -4.79593023e+01, -2.83517442e+01,\n",
       "        6.99709302e+00, -3.02645349e+01,  1.15581395e+01,  5.05232558e+00,\n",
       "       -2.05261628e+01, -1.19534884e+01,  1.76162791e+00, -3.18982558e+01,\n",
       "       -2.40377907e+01, -3.41569767e+00, -3.29796512e+01, -2.35348837e+01,\n",
       "       -1.80813953e+00, -2.93430233e+01, -1.19825581e+01, -1.82093023e+01,\n",
       "       -2.89651163e+01, -1.20697674e+01, -1.68081395e+01, -8.40116279e+00,\n",
       "       -2.99389535e+01, -2.31540698e+01, -4.52470930e+01, -2.64215116e+01,\n",
       "       -4.69796512e+01, -1.11017442e+01,  2.39534884e+00, -2.04970930e+01,\n",
       "       -9.17732558e+00,  1.66598837e+01, -2.35145349e+01,  4.35174419e+00,\n",
       "       -1.72354651e+01, -3.66569767e+00,  3.32790698e+01,  3.13081395e+00,\n",
       "       -1.01308140e+01,  3.05232558e-01,  6.84302326e+00,  2.77325581e+00,\n",
       "       -4.88372093e-01, -7.26744186e+00, -7.87209302e+00,  2.41017442e+01,\n",
       "       -1.38779070e+01, -1.92209302e+01, -1.18139535e+01, -1.63924419e+01,\n",
       "       -3.53779070e+00,  1.58517442e+01, -3.03953488e+01, -7.73546512e+00,\n",
       "        8.58430233e+00, -1.15697674e+01, -9.16569767e+00, -1.67645349e+01,\n",
       "        5.69767442e-01, -1.38924419e+01, -1.08837209e+01, -1.81424419e+01,\n",
       "        3.82500000e+01,  2.90697674e-03, -1.33197674e+01,  4.48401163e+01,\n",
       "        3.54360465e+00,  2.86860465e+01, -1.06424419e+01,  1.46366279e+01,\n",
       "        2.87005814e+01, -2.67848837e+01, -1.43604651e+00, -2.30523256e+01,\n",
       "       -1.27703488e+01, -1.53691860e+01,  1.71831395e+01, -2.75203488e+01,\n",
       "        6.94767442e+00, -1.19098837e+01,  1.64534884e+01, -2.95465116e+01,\n",
       "       -3.80813953e+00,  2.14302326e+01, -4.70639535e+01, -2.34593023e+01,\n",
       "       -1.16947674e+01, -1.43517442e+01,  1.73546512e+00, -4.41540698e+01,\n",
       "        1.76453488e+01, -3.65087209e+01, -1.16308140e+01, -3.47848837e+01,\n",
       "       -9.44186047e+00,  3.43023256e+01,  1.04447674e+01,  1.95930233e+01,\n",
       "        6.72674419e+00,  2.68604651e+00, -2.42441860e+00,  1.40087209e+01,\n",
       "        3.04883721e+01, -1.80465116e+01,  2.28517442e+01,  3.45494186e+01,\n",
       "        4.81540698e+01,  1.59883721e+01,  5.11046512e+00,  1.30523256e+01,\n",
       "       -5.73546512e+00,  4.18372093e+01,  3.15988372e+01,  8.80813953e+00,\n",
       "        1.39215116e+01, -8.34593023e+00, -3.78924419e+01,  3.43633721e+01,\n",
       "       -3.13343023e+01,  2.00000000e+00,  3.33895349e+01,  2.76482558e+01,\n",
       "        9.14534884e+00,  4.56976744e+00,  2.23808140e+01,  2.62354651e+01,\n",
       "        1.43110465e+01,  8.51453488e+00,  2.20901163e+01,  1.63662791e+01,\n",
       "       -1.00465116e+01,  4.43401163e+01, -1.64738372e+01,  3.58982558e+01,\n",
       "        2.83226744e+01, -5.60174419e+00,  2.82093023e+01,  1.31831395e+01,\n",
       "        1.19360465e+01,  1.10203488e+01,  1.53720930e+01, -2.84098837e+01,\n",
       "        2.85174419e+01, -3.24244186e+01,  1.55755814e+01, -3.88517442e+01,\n",
       "       -3.37529070e+01, -7.68023256e+00, -2.40406977e+01, -8.42151163e+00,\n",
       "       -2.43982558e+01, -1.70930233e+01, -2.45116279e+01, -1.21569767e+01,\n",
       "       -9.11918605e+00,  1.70813953e+01, -4.46046512e+01,  9.72674419e+00,\n",
       "       -3.95813953e+01, -2.44476744e+00, -3.40465116e+01, -1.65697674e+01,\n",
       "       -2.70901163e+01, -7.90406977e+00, -2.20726744e+01, -5.67936047e+01,\n",
       "        2.02877907e+01, -7.93604651e+00,  2.28372093e+01, -1.40610465e+01,\n",
       "       -1.43953488e+01,  1.12558140e+01,  4.23837209e+00,  4.08313953e+01,\n",
       "       -2.51162791e+00, -1.37383721e+01, -1.19941860e+01,  8.92151163e+00,\n",
       "       -3.03226744e+01,  6.62790698e-01,  1.00668605e+01, -2.27558140e+01,\n",
       "       -1.95348837e+00, -2.01744186e+01, -3.76162791e+00,  1.73750000e+01,\n",
       "        3.03401163e+01, -3.43023256e+00, -2.53459302e+01,  1.70436047e+01,\n",
       "       -2.11744186e+01,  8.04360465e+00, -6.64825581e+00, -4.88372093e+00,\n",
       "       -2.29360465e+00, -4.37558140e+01,  7.85465116e+00,  2.48401163e+01,\n",
       "        2.00581395e+00, -1.35697674e+01, -1.48779070e+01, -1.61104651e+01,\n",
       "        6.14244186e+00, -1.50755814e+01, -6.27325581e+00,  1.67877907e+01,\n",
       "       -2.52180233e+01, -1.61918605e+00,  2.09215116e+01,  1.06046512e+01,\n",
       "       -3.25058140e+01, -2.29796512e+01, -1.56191860e+01, -3.00290698e+01,\n",
       "       -1.21598837e+01,  3.77906977e+00, -3.37703488e+01, -2.17529070e+01,\n",
       "       -1.17325581e+01,  8.21511628e+00, -1.35872093e+01, -1.19186047e+01,\n",
       "       -2.91831395e+01, -1.11598837e+01,  1.73168605e+01, -5.00930233e+01,\n",
       "       -4.12877907e+01, -1.25290698e+01, -2.41017442e+01, -2.32122093e+01,\n",
       "       -3.22761628e+01, -9.77616279e+00, -1.86686047e+01,  2.96598837e+01,\n",
       "       -1.71511628e+00, -1.26337209e+01,  3.10668605e+01,  3.93750000e+01,\n",
       "        1.33662791e+01,  2.26395349e+01, -1.14709302e+01,  1.18081395e+01,\n",
       "        7.29360465e+00,  3.08372093e+01,  8.45930233e+00,  2.69418605e+01,\n",
       "       -1.35436047e+01,  5.06802326e+01,  6.21220930e+00,  2.98284884e+01,\n",
       "       -2.05145349e+01,  2.43866279e+01, -8.75000000e+00,  5.59825581e+01,\n",
       "       -2.81860465e+01,  2.44767442e+00, -1.56104651e+00, -1.68779070e+01,\n",
       "        2.47906977e+01,  4.19186047e+00, -2.25174419e+01, -1.93866279e+01,\n",
       "        1.14970930e+01, -3.23604651e+01, -2.07267442e+00,  1.21046512e+01,\n",
       "       -1.64825581e+00,  8.56104651e+00, -1.97936047e+01, -1.06395349e+01,\n",
       "        2.38924419e+01,  2.82558140e+00,  1.25784884e+01,  9.06976744e+00,\n",
       "       -8.43313953e+00,  1.58720930e+01,  8.96802326e+00,  2.49883721e+01,\n",
       "        3.19563953e+01,  2.84825581e+01,  3.76453488e+01, -1.63953488e+01,\n",
       "        4.92790698e+01,  3.10465116e+00, -1.31627907e+01, -3.81395349e+00,\n",
       "       -9.06976744e-01,  3.55436047e+01,  1.38604651e+01,  5.69767442e-01,\n",
       "       -2.58575581e+01,  1.73023256e+01,  4.87441860e+01,  1.80581395e+01,\n",
       "        1.32703488e+01,  1.43720930e+01, -2.47558140e+01, -2.37093023e+01,\n",
       "       -7.40697674e+00,  4.26744186e+00,  3.35552326e+01, -5.45930233e+00,\n",
       "        1.81133721e+01, -1.25901163e+01,  4.00872093e+00, -1.78546512e+01,\n",
       "       -1.54069767e+00,  1.41686047e+01,  4.03372093e+01,  2.45872093e+01,\n",
       "       -1.08023256e+01,  2.00697674e+01,  2.73546512e+00, -4.97674419e+00,\n",
       "        6.38953488e+00,  7.66279070e+00,  3.27267442e+01, -2.53197674e+00,\n",
       "        2.07790698e+01,  1.43197674e+01, -1.68837209e+01,  3.82325581e+01,\n",
       "       -2.03488372e+00,  4.29912791e+01,  2.90145349e+01, -2.66308140e+01,\n",
       "        2.93401163e+01,  2.66308140e+01,  1.97412791e+01,  1.47587209e+01,\n",
       "        1.05843023e+01,  3.14127907e+01, -5.61627907e+00,  1.69040698e+01,\n",
       "        1.71337209e+01,  1.84389535e+01,  2.35668605e+01,  5.43023256e+00,\n",
       "        1.03604651e+01, -1.43691860e+01,  1.44593023e+01,  1.94215116e+01,\n",
       "        7.39534884e+00,  4.42906977e+01,  9.61337209e+00,  3.76976744e+01,\n",
       "       -1.26453488e+01, -1.88953488e-01,  3.43226744e+01, -3.25843023e+01,\n",
       "        6.54069767e+00,  7.21511628e+00,  1.96802326e+01,  3.27587209e+01,\n",
       "        5.01744186e+01, -8.80523256e+00,  1.57529070e+01, -1.50494186e+01,\n",
       "       -1.42325581e+01,  3.66279070e-01, -1.45348837e+00,  1.77151163e+01,\n",
       "        2.94127907e+01,  1.43284884e+01, -1.37674419e+01,  1.62063953e+01,\n",
       "        3.80290698e+01,  4.86046512e+00,  3.84534884e+01, -6.96511628e+00,\n",
       "        2.85465116e+00,  9.93604651e+00]),\n",
       "       array([ 6.59883721e-01, -1.05232558e+01,  1.88372093e+01,  3.20290698e+01,\n",
       "       -2.28226744e+01,  4.46831395e+01,  6.73052326e+01,  3.87790698e+00,\n",
       "        3.26482558e+01, -5.31976744e+00,  1.68953488e+01,  2.15668605e+01,\n",
       "       -3.69186047e+00,  1.49331395e+01, -1.90494186e+01,  4.02616279e+00,\n",
       "        1.35319767e+01,  2.06104651e+00,  2.13081395e+00, -1.90377907e+01,\n",
       "        8.55232558e+00,  3.09912791e+01, -2.41715116e+01, -1.92761628e+01,\n",
       "       -5.54854651e+01, -5.79302326e+01,  5.97965116e+00, -4.70377907e+01,\n",
       "       -2.69883721e+01, -2.36017442e+01, -2.01860465e+01, -2.47093023e+01,\n",
       "       -1.55813953e+01, -5.96802326e+00, -2.45319767e+01, -1.95901163e+01,\n",
       "        2.96598837e+01, -4.19418605e+01, -2.67063953e+01, -4.80843023e+01,\n",
       "       -2.44767442e+01, -4.38372093e+01,  3.36627907e+00, -1.33662791e+01,\n",
       "       -4.72122093e+01, -1.69563953e+01, -7.03197674e+00, -2.45465116e+01,\n",
       "       -3.55755814e+01, -1.56889535e+01, -6.90755814e+01, -1.99040698e+01,\n",
       "       -3.41831395e+01, -4.06831395e+01, -6.23604651e+01, -4.41569767e+00,\n",
       "       -4.03488372e+01, -4.17790698e+01, -2.73924419e+01, -1.67965116e+01,\n",
       "       -4.02645349e+01,  6.34011628e+00, -3.47877907e+01, -2.01569767e+01,\n",
       "       -1.20377907e+01, -3.07732558e+01, -1.26104651e+01, -6.48255814e+00,\n",
       "        2.13372093e+00, -3.10813953e+01, -2.18313953e+00, -2.68197674e+01,\n",
       "        2.82877907e+01, -1.18837209e+01,  1.12877907e+01,  1.51162791e+01,\n",
       "        3.79273256e+01, -1.09883721e+01,  3.97500000e+01,  4.22994186e+01,\n",
       "        1.33720930e-01,  1.20000000e+01,  1.77063953e+01, -1.50000000e+01,\n",
       "       -1.48982558e+01,  4.16308140e+01,  7.59593023e+00,  2.08226744e+01,\n",
       "       -3.15406977e+01,  3.36279070e+01,  3.44302326e+01, -2.14738372e+01,\n",
       "        3.56395349e+00,  1.81220930e+01,  1.78081395e+01, -5.84011628e+00,\n",
       "        4.59302326e-01,  1.37529070e+01, -6.06976744e+00,  2.51802326e+01,\n",
       "       -7.86046512e+00, -1.14302326e+01, -8.72383721e+00,  9.04069767e+00,\n",
       "       -1.51860465e+01,  3.77906977e-02, -1.59331395e+01,  1.81220930e+01,\n",
       "        1.74011628e+01, -1.29651163e+01, -1.49302326e+01,  3.70901163e+01,\n",
       "       -2.28081395e+01, -1.07267442e+01, -3.30377907e+01, -1.53662791e+01,\n",
       "       -1.48255814e+01, -3.12238372e+01,  1.24622093e+01, -8.12790698e+00,\n",
       "       -4.96250000e+01,  1.42790698e+01, -2.48691860e+01, -7.54069767e+00,\n",
       "       -3.85232558e+01, -2.16075581e+01, -3.56104651e+00,  1.71918605e+01,\n",
       "       -1.62412791e+01, -1.45755814e+01, -2.11686047e+01, -2.13575581e+01,\n",
       "       -3.45290698e+01,  1.86656977e+01, -3.66308140e+01, -2.24912791e+01,\n",
       "        1.62994186e+01,  4.09883721e+00, -1.88953488e-01,  2.76889535e+01,\n",
       "        1.80552326e+01,  4.93372093e+01, -1.42877907e+01,  3.34302326e-01,\n",
       "       -1.82441860e+01,  2.76162791e+00, -1.68110465e+01,  3.87005814e+01,\n",
       "        2.34040698e+01,  5.64244186e+00, -2.11308140e+01, -1.26715116e+01,\n",
       "       -1.67267442e+01,  5.15319767e+01,  3.79651163e+01,  1.76162791e+01,\n",
       "       -1.50000000e+00, -2.32558140e+00,  2.64883721e+01, -3.20290698e+01,\n",
       "        8.12209302e+00, -5.47383721e+00,  6.48255814e+00,  1.62965116e+01,\n",
       "       -1.28546512e+01,  1.17674419e+01,  1.36162791e+01,  1.18110465e+01,\n",
       "        1.60406977e+01,  4.41046512e+01,  2.88866279e+01,  2.04273256e+01,\n",
       "       -4.63372093e+00,  2.89912791e+01, -9.11337209e+00,  3.19186047e+00,\n",
       "        1.43517442e+01,  4.67267442e+01, -2.04505814e+01, -2.22093023e+00,\n",
       "        2.68284884e+01,  6.84680233e+01, -3.43895349e+01, -1.01133721e+01,\n",
       "        1.60755814e+00,  7.50581395e+00, -2.31627907e+01, -9.50872093e+00,\n",
       "       -5.56395349e+01, -2.17470930e+01, -2.63110465e+01, -4.80436047e+01,\n",
       "       -3.18139535e+01, -4.07180233e+01, -1.56976744e+00, -5.99883721e+01,\n",
       "       -3.66744186e+01, -4.63313953e+01, -2.26715116e+01, -6.40901163e+01,\n",
       "        7.41860465e+00, -5.38895349e+01, -4.61366279e+01, -3.41569767e+00,\n",
       "       -6.92645349e+01,  5.91279070e+00, -1.83430233e+00, -4.99127907e+00,\n",
       "        1.21511628e+00, -7.99418605e-01,  1.83430233e+01, -6.59883721e-01,\n",
       "        1.00465116e+01,  2.88430233e+01, -2.83430233e+00,  2.29360465e+00,\n",
       "        7.30232558e+00,  4.67703488e+01, -5.10465116e+00,  1.63837209e+01,\n",
       "        4.18110465e+01,  3.77267442e+01,  1.40610465e+01,  1.17674419e+01,\n",
       "        6.87790698e+00,  3.79389535e+01, -1.56686047e+00, -3.49622093e+01,\n",
       "       -3.57238372e+01, -8.13081395e+00,  2.49389535e+01,  2.20058140e+00,\n",
       "       -3.31976744e+00, -9.44767442e+00, -1.13662791e+01,  6.52616279e+00,\n",
       "        2.28895349e+01,  2.00552326e+01, -1.58430233e+00,  1.64912791e+01,\n",
       "        6.54651163e+00, -1.57005814e+01,  1.15843023e+01,  2.50465116e+01,\n",
       "        2.71918605e+01, -1.10784884e+01, -5.33430233e+00,  4.71104651e+01,\n",
       "       -1.73546512e+00, -1.68720930e+01, -4.97093023e+00,  3.22122093e+01,\n",
       "        3.24825581e+01, -3.00813953e+01, -2.24418605e+00, -1.36540698e+01,\n",
       "       -2.26162791e+00,  2.68982558e+01, -2.83430233e+00, -5.97093023e+00,\n",
       "       -1.64098837e+01,  1.35174419e+00,  2.06453488e+01,  6.72093023e+00,\n",
       "        2.19912791e+01, -2.49011628e+01,  1.83430233e+00, -2.54941860e+00,\n",
       "        3.06220930e+01, -4.50290698e+00, -2.20406977e+01, -3.42441860e+00,\n",
       "        2.53284884e+01,  3.84825581e+01, -1.85465116e+00,  2.40523256e+01,\n",
       "        2.68226744e+01, -4.63953488e+00,  5.96191860e+01,  8.28488372e+00,\n",
       "        1.83313953e+01,  1.29360465e+00, -1.25319767e+01,  2.64825581e+00,\n",
       "        3.64563953e+01,  3.11337209e+00, -1.03488372e+00,  4.09331395e+01,\n",
       "        1.75523256e+01,  3.77616279e+01,  5.45813953e+01,  6.26453488e+00,\n",
       "        2.28633721e+01,  1.73401163e+01,  1.35465116e+00,  3.54941860e+00,\n",
       "       -1.59912791e+01,  3.00000000e+00,  6.20494186e+01,  6.12790698e+00,\n",
       "       -1.50290698e+00,  5.43168605e+01,  1.62180233e+01,  2.33226744e+01,\n",
       "        3.77063953e+01,  5.92151163e+00, -3.17441860e+00,  4.82180233e+01,\n",
       "        1.04215116e+01, -6.98837209e+00,  8.92732558e+00, -1.43779070e+01,\n",
       "        1.88720930e+01,  6.42732558e+00,  2.96976744e+01,  2.09215116e+01,\n",
       "        2.65145349e+01,  4.99563953e+01,  2.84970930e+01,  3.73255814e+01,\n",
       "        3.73691860e+01, -3.65145349e+01,  1.97354651e+01,  4.69767442e+00,\n",
       "       -2.22093023e+01, -1.42965116e+01, -1.43488372e+01, -2.04912791e+01,\n",
       "       -1.40116279e+01, -1.36540698e+01, -9.51744186e+00, -5.18982558e+01,\n",
       "       -5.30697674e+01, -3.46918605e+01, -4.03488372e+00, -2.27180233e+01,\n",
       "       -5.61395349e+01,  1.44069767e+01, -3.27122093e+01, -5.39331395e+01,\n",
       "        1.03924419e+01, -3.33168605e+01, -2.69476744e+01, -2.48023256e+01,\n",
       "        1.31744186e+01,  9.06976744e+00,  6.60465116e+00,  2.00959302e+01,\n",
       "        2.26889535e+01, -1.68372093e+01,  2.11860465e+01, -1.53750000e+01,\n",
       "        2.76279070e+01,  2.25494186e+01,  6.16395349e+01,  3.23168605e+01,\n",
       "        1.80813953e+01,  1.25406977e+01,  1.77412791e+01,  1.56686047e+00,\n",
       "        6.34651163e+01,  1.32122093e+01,  1.00436047e+01, -1.34883721e+00,\n",
       "        3.77906977e-01, -7.56104651e+00, -2.60465116e+01, -1.47093023e+01,\n",
       "        2.72383721e+00, -5.07848837e+00,  2.97122093e+01,  3.13779070e+01,\n",
       "        7.11918605e+00,  1.04593023e+01, -7.90116279e+00,  1.05872093e+01,\n",
       "       -4.58720930e+00,  5.44680233e+01, -1.69302326e+01,  1.50377907e+01,\n",
       "       -8.55813953e+00,  1.94389535e+01, -1.39127907e+01,  4.73575581e+01,\n",
       "       -3.08430233e+00,  4.01395349e+01, -8.05232558e-01,  1.71424419e+01,\n",
       "        2.11250000e+01,  3.02529070e+01,  2.73720930e+01,  1.87674419e+01,\n",
       "       -2.54244186e+01,  3.25581395e-01, -1.16889535e+01, -1.78837209e+01,\n",
       "       -1.16656977e+01,  1.21133721e+01,  1.91220930e+01,  2.40319767e+01,\n",
       "       -2.63982558e+01, -1.35000000e+01, -1.33168605e+01, -3.98808140e+01,\n",
       "        3.56686047e+00, -2.62732558e+01, -1.87151163e+01, -1.88546512e+01,\n",
       "       -5.14098837e+01, -2.74244186e+01, -9.18604651e+00, -3.30988372e+01,\n",
       "        1.11569767e+01, -4.11773256e+01]),\n",
       "       array([ 1.11976744e+01,  5.26162791e-01,  1.99534884e+01,  5.25872093e+00,\n",
       "        3.44796512e+01, -8.59302326e+00,  2.32674419e+01,  9.47674419e-01,\n",
       "        4.87209302e+00, -8.35755814e+00,  7.12500000e+00,  5.90406977e+00,\n",
       "        2.00058140e+01, -1.66947674e+01,  2.27936047e+01,  4.37819767e+01,\n",
       "        2.64593023e+01,  3.06715116e+01,  3.90145349e+01, -1.38866279e+01,\n",
       "        8.74127907e+00, -6.74709302e+00, -1.68197674e+01,  2.83430233e+00,\n",
       "        1.24098837e+01, -2.22965116e+00, -1.06656977e+01,  9.86046512e+00,\n",
       "        4.91569767e+00,  7.67441860e-01, -8.88953488e+00,  8.61918605e+00,\n",
       "       -1.05232558e+00,  2.52674419e+01,  7.50872093e+00,  8.87500000e+00,\n",
       "       -2.31075581e+01, -7.09883721e+00,  1.72093023e+01, -3.56976744e+00,\n",
       "        1.41453488e+01,  7.39273256e+01,  5.00581395e+00, -1.32819767e+01,\n",
       "        5.40000000e+01,  4.42383721e+01, -1.73808140e+01, -4.08284884e+01,\n",
       "       -3.08197674e+01,  2.58720930e-01, -1.48837209e+01, -3.36453488e+01,\n",
       "       -3.03139535e+01, -4.14680233e+01, -5.43284884e+01, -2.20029070e+01,\n",
       "       -1.41511628e+01, -2.57325581e+01, -9.72093023e+00, -2.60959302e+01,\n",
       "       -1.23633721e+01, -1.78343023e+01,  1.73226744e+01, -2.70959302e+01,\n",
       "       -1.82616279e+01, -4.02063953e+01, -1.46773256e+01, -4.72936047e+01,\n",
       "        2.26075581e+01,  1.51162791e+00,  5.50872093e+00,  1.19796512e+01,\n",
       "        2.65988372e+00,  7.25000000e+00,  1.98401163e+01,  3.84244186e+01,\n",
       "        3.87529070e+01,  3.92732558e+00,  3.93023256e+01,  1.75523256e+01,\n",
       "        1.55290698e+01,  3.46947674e+01,  1.30639535e+01, -2.43720930e+01,\n",
       "       -6.08430233e+00, -1.25581395e+00,  4.44738372e+01,  2.18139535e+01,\n",
       "       -1.13052326e+01,  2.30843023e+01, -3.21569767e+01,  3.34796512e+01,\n",
       "        4.62209302e-01,  1.64302326e+01,  1.26453488e+00,  2.72093023e+00,\n",
       "        5.49709302e+00, -3.20930233e+00, -2.00116279e+01,  7.76162791e+00,\n",
       "        1.66773256e+01, -1.23459302e+01,  1.43197674e+01,  8.91279070e+00,\n",
       "       -1.33168605e+01, -5.23837209e+00,  1.14156977e+01,  2.21889535e+01,\n",
       "       -1.64825581e+01,  3.84912791e+01,  2.83691860e+01,  4.11627907e+00,\n",
       "       -2.02034884e+00, -2.03604651e+01, -3.24883721e+01, -1.21773256e+01,\n",
       "        2.69505814e+01,  1.90319767e+01, -3.16511628e+01, -2.50843023e+01,\n",
       "        1.86191860e+01, -2.70319767e+01,  9.82848837e+00, -1.55755814e+01,\n",
       "       -5.98255814e+00, -3.85058140e+01, -1.45348837e-01, -1.89244186e+00,\n",
       "        2.10523256e+01, -4.73255814e+00, -2.03343023e+01, -1.72383721e+00,\n",
       "       -6.91860465e+00, -2.11627907e+01, -1.35697674e+01, -6.80813953e+00,\n",
       "       -2.49476744e+01,  7.64534884e-01, -1.13168605e+01,  8.35465116e+00,\n",
       "       -2.22819767e+01,  3.04244186e+01,  1.06947674e+01,  3.46075581e+01,\n",
       "        2.24127907e+00,  5.60755814e+01,  1.52529070e+01,  6.54215116e+01,\n",
       "       -4.93313953e+00, -1.14418605e+01,  5.38662791e+00,  1.75813953e+01,\n",
       "       -1.50581395e+01,  4.18895349e+00, -3.60465116e-01,  2.09360465e+01,\n",
       "        3.76395349e+01,  8.36918605e+00,  4.60290698e+01,  3.83023256e+01,\n",
       "       -4.90610465e+01, -3.03343023e+01, -2.96831395e+01, -1.84069767e+01,\n",
       "        2.52412791e+01, -8.36046512e+00,  1.95784884e+01,  7.70930233e+00,\n",
       "        1.80203488e+01,  1.50872093e+01,  1.58343023e+01,  3.41656977e+01,\n",
       "        4.55843023e+01,  2.74127907e+01,  2.69186047e+00,  1.69534884e+01,\n",
       "        1.67674419e+01,  1.83459302e+01,  6.19244186e+01,  2.23488372e+01,\n",
       "        1.65930233e+01,  1.70377907e+01,  2.48284884e+01,  1.48837209e+00,\n",
       "        4.76482558e+01,  3.31220930e+01,  3.25000000e+01, -2.97325581e+01,\n",
       "       -2.04738372e+01, -2.11976744e+01, -2.82500000e+01,  3.36046512e+00,\n",
       "       -3.02616279e+01, -1.07470930e+01, -4.92674419e+01, -2.85406977e+01,\n",
       "       -4.08662791e+01, -4.63139535e+01, -7.20668605e+01, -2.40726744e+01,\n",
       "       -2.97383721e+00, -2.23139535e+01, -3.26686047e+01, -4.17325581e+01,\n",
       "       -2.13866279e+01, -3.51802326e+01, -4.29098837e+01, -7.47965116e+01,\n",
       "       -4.13837209e+01, -3.92441860e+01, -1.13517442e+01,  1.65174419e+01,\n",
       "        5.25581395e+00,  1.85668605e+01, -3.93313953e+00,  2.65901163e+01,\n",
       "        1.00319767e+01, -6.18604651e+00, -1.84302326e+00,  1.07906977e+01,\n",
       "       -6.42441860e+00, -3.66279070e+00, -2.34302326e+00, -1.77441860e+01,\n",
       "       -1.77267442e+01,  1.50087209e+01, -1.99069767e+01,  1.20058140e+00,\n",
       "       -6.95639535e+00, -3.75697674e+01,  3.96569767e+01, -1.87703488e+01,\n",
       "        8.72965116e+00, -1.67151163e+01, -5.72965116e+00, -5.77034884e+00,\n",
       "       -3.64534884e+00,  3.11046512e+00, -8.19186047e+00,  2.87441860e+01,\n",
       "       -2.83313953e+01, -1.03430233e+01, -7.88372093e+00, -2.27761628e+01,\n",
       "       -3.11918605e+00, -1.06424419e+01,  1.28779070e+01,  1.52906977e+00,\n",
       "       -1.20436047e+01,  8.65988372e+00, -2.79593023e+01, -3.31482558e+01,\n",
       "        7.18023256e-01, -3.58633721e+01, -4.91279070e-01, -2.98255814e+00,\n",
       "       -7.63953488e+00, -9.64244186e+00, -3.25581395e-01, -1.50436047e+01,\n",
       "        2.73720930e+01, -1.62616279e+01,  1.62412791e+01,  1.67151163e+00,\n",
       "       -8.24418605e+00,  1.97441860e+01,  7.16279070e+00, -3.28895349e+01,\n",
       "        2.59418605e+01, -1.69360465e+01, -2.08197674e+01, -1.81250000e+01,\n",
       "        1.15784884e+01, -1.32790698e+01, -1.07267442e+00,  3.95232558e+01,\n",
       "       -1.51831395e+01,  3.98604651e+01, -1.09476744e+01,  1.61337209e+01,\n",
       "       -3.63808140e+01,  1.67296512e+01, -2.06162791e+01, -7.07267442e+00,\n",
       "        3.42093023e+01, -9.55232558e+00,  1.93255814e+01, -7.40988372e+00,\n",
       "       -1.19622093e+01,  1.59970930e+01, -1.70988372e+01,  9.30523256e+00,\n",
       "       -1.52063953e+01,  9.01162791e-02, -1.75319767e+01,  3.19186047e+01,\n",
       "        2.63953488e+00,  2.24273256e+01,  2.60755814e+01,  2.12790698e+00,\n",
       "       -1.35755814e+01, -2.03401163e+01,  4.10465116e+00,  4.02616279e+00,\n",
       "        1.40290698e+01,  9.36046512e-01,  1.16860465e+00,  2.65116279e+00,\n",
       "        1.71075581e+01, -1.20348837e+00, -1.56366279e+01,  2.12267442e+01,\n",
       "        3.14825581e+01,  9.21511628e+00,  2.03430233e+01,  1.47383721e+00,\n",
       "        2.39215116e+01,  4.24127907e+01,  1.34418605e+01,  1.13953488e+01,\n",
       "       -4.88779070e+01,  2.85639535e+01,  2.75988372e+01,  2.42790698e+01,\n",
       "       -7.86046512e+00, -1.37296512e+01, -1.71918605e+01, -4.24127907e+00,\n",
       "        2.06104651e+00, -2.88633721e+01, -2.16976744e+01, -3.80930233e+01,\n",
       "        1.93255814e+01, -1.86104651e+01,  2.49709302e+00, -3.42151163e+00,\n",
       "       -1.91511628e+01, -2.78459302e+01, -5.69796512e+01, -1.65872093e+01,\n",
       "       -4.65406977e+00, -3.52703488e+01,  6.49709302e+00,  1.73430233e+01,\n",
       "       -2.09389535e+01,  1.16162791e+01, -7.26744186e-02,  3.94011628e+01,\n",
       "        1.24156977e+01, -3.43023256e+00, -1.67761628e+01, -9.60465116e+00,\n",
       "       -9.82267442e+00, -1.31773256e+01,  2.72093023e+00, -2.66075581e+01,\n",
       "       -2.98255814e+00, -1.63081395e+00,  2.69418605e+01, -8.07848837e+00,\n",
       "        1.57034884e+01, -7.01744186e+00, -1.72558140e+01, -1.70319767e+01,\n",
       "       -2.79302326e+01,  1.45348837e-01,  1.30610465e+01,  1.94854651e+01,\n",
       "        7.47965116e+00, -5.93313953e+00,  4.29418605e+01,  3.74273256e+01,\n",
       "       -1.67529070e+01,  5.08023256e+01,  1.57703488e+01,  2.98343023e+01,\n",
       "        4.22965116e+00,  4.41511628e+01,  6.65697674e-01,  1.21802326e+01,\n",
       "        1.41133721e+01,  5.26162791e+00,  2.92151163e+01,  1.62790698e-01,\n",
       "        2.69505814e+01,  3.12819767e+01,  2.03023256e+01, -7.06395349e+00,\n",
       "        2.92761628e+01,  3.84040698e+01, -3.31976744e+01, -3.03779070e+00,\n",
       "       -2.45174419e+01,  2.52965116e+01, -1.63052326e+01,  1.85465116e+01,\n",
       "       -2.76627907e+01, -9.85465116e+00, -3.17732558e+00, -3.38226744e+01,\n",
       "       -3.92441860e-01, -4.36366279e+01,  6.54360465e+00, -1.92500000e+01,\n",
       "       -2.04273256e+01, -1.72558140e+01, -1.03575581e+01,  2.70523256e+01,\n",
       "        6.19186047e-01, -1.49505814e+01, -7.59593023e+00, -3.68313953e+00,\n",
       "        4.55523256e+00, -3.17674419e+01])], dtype=object)"
      ]
     },
     "execution_count": 9,
     "metadata": {},
     "output_type": "execute_result"
    }
   ],
   "source": [
    "margin_cv_preds = time_series_cross_val_predict(\n",
    "    stacking,\n",
    "    *margin_data.train_data,\n",
    "    cv=year_cv_split(X_train, CV_YEAR_RANGE)\n",
    ")\n",
    "\n",
    "margin_cv_preds"
   ]
  },
  {
   "cell_type": "markdown",
   "metadata": {},
   "source": [
    "#### Kernel Density Estimation\n",
    "\n",
    "We can use KernelDensity to generate a distribution based on margin predictions from a regressor. We can then use this distribution to measure the model's confidence that a given team will win its match (i.e. what % of predictions are greater than 0?)."
   ]
  },
  {
   "cell_type": "code",
   "execution_count": 10,
   "metadata": {
    "ExecuteTime": {
     "end_time": "2021-03-01T21:55:45.051801Z",
     "start_time": "2021-03-01T21:55:44.975254Z"
    }
   },
   "outputs": [
    {
     "name": "stderr",
     "output_type": "stream",
     "text": [
      "/usr/local/lib/python3.8/site-packages/ipykernel/ipkernel.py:283: DeprecationWarning: `should_run_async` will not call `transform_cell` automatically in the future. Please pass the result to `transformed_cell` argument and any exception that happen during thetransform in `preprocessing_exc_tuple` in IPython 7.17 and above.\n",
      "  and should_run_async(code)\n"
     ]
    }
   ],
   "source": [
    "train_preds = np.concatenate(margin_cv_preds[:-1])\n",
    "test_preds = margin_cv_preds[-1]"
   ]
  },
  {
   "cell_type": "code",
   "execution_count": 17,
   "metadata": {
    "ExecuteTime": {
     "end_time": "2021-03-01T21:58:28.207675Z",
     "start_time": "2021-03-01T21:58:27.870427Z"
    },
    "scrolled": true
   },
   "outputs": [
    {
     "name": "stderr",
     "output_type": "stream",
     "text": [
      "/usr/local/lib/python3.8/site-packages/ipykernel/ipkernel.py:283: DeprecationWarning: `should_run_async` will not call `transform_cell` automatically in the future. Please pass the result to `transformed_cell` argument and any exception that happen during thetransform in `preprocessing_exc_tuple` in IPython 7.17 and above.\n",
      "  and should_run_async(code)\n"
     ]
    },
    {
     "data": {
      "text/plain": [
       "<AxesSubplot:>"
      ]
     },
     "execution_count": 17,
     "metadata": {},
     "output_type": "execute_result"
    },
    {
     "data": {
      "image/png": "[encoded data removed]",
      "text/plain": [
       "<Figure size 432x288 with 1 Axes>"
      ]
     },
     "metadata": {
      "needs_background": "light"
     },
     "output_type": "display_data"
    }
   ],
   "source": [
    "# Scatter of predictions vs results\n",
    "\n",
    "sns.scatterplot(\n",
    "    x=y_train.loc[(slice(None), slice(sampling_train_year_range[0], sampling_train_year_range[1] - 1), slice(None))].to_numpy(),\n",
    "    y=train_preds\n",
    ")"
   ]
  },
  {
   "cell_type": "code",
   "execution_count": 18,
   "metadata": {
    "ExecuteTime": {
     "end_time": "2021-03-01T21:58:31.195017Z",
     "start_time": "2021-03-01T21:58:30.769790Z"
    }
   },
   "outputs": [
    {
     "name": "stderr",
     "output_type": "stream",
     "text": [
      "/usr/local/lib/python3.8/site-packages/ipykernel/ipkernel.py:283: DeprecationWarning: `should_run_async` will not call `transform_cell` automatically in the future. Please pass the result to `transformed_cell` argument and any exception that happen during thetransform in `preprocessing_exc_tuple` in IPython 7.17 and above.\n",
      "  and should_run_async(code)\n",
      "/usr/local/lib/python3.8/site-packages/seaborn/distributions.py:2557: FutureWarning: `distplot` is a deprecated function and will be removed in a future version. Please adapt your code to use either `displot` (a figure-level function with similar flexibility) or `histplot` (an axes-level function for histograms).\n",
      "  warnings.warn(msg, FutureWarning)\n"
     ]
    },
    {
     "data": {
      "text/plain": [
       "<AxesSubplot:ylabel='Density'>"
      ]
     },
     "execution_count": 18,
     "metadata": {},
     "output_type": "execute_result"
    },
    {
     "data": {
      "image/png": "[encoded data removed]",
      "text/plain": [
       "<Figure size 432x288 with 1 Axes>"
      ]
     },
     "metadata": {
      "needs_background": "light"
     },
     "output_type": "display_data"
    }
   ],
   "source": [
    "# Histogram of predictions\n",
    "\n",
    "sns.distplot(train_preds)"
   ]
  },
  {
   "cell_type": "code",
   "execution_count": 19,
   "metadata": {
    "ExecuteTime": {
     "end_time": "2021-03-01T21:58:32.244885Z",
     "start_time": "2021-03-01T21:58:31.887040Z"
    }
   },
   "outputs": [
    {
     "name": "stderr",
     "output_type": "stream",
     "text": [
      "/usr/local/lib/python3.8/site-packages/ipykernel/ipkernel.py:283: DeprecationWarning: `should_run_async` will not call `transform_cell` automatically in the future. Please pass the result to `transformed_cell` argument and any exception that happen during thetransform in `preprocessing_exc_tuple` in IPython 7.17 and above.\n",
      "  and should_run_async(code)\n",
      "/usr/local/lib/python3.8/site-packages/seaborn/distributions.py:2557: FutureWarning: `distplot` is a deprecated function and will be removed in a future version. Please adapt your code to use either `displot` (a figure-level function with similar flexibility) or `histplot` (an axes-level function for histograms).\n",
      "  warnings.warn(msg, FutureWarning)\n"
     ]
    },
    {
     "data": {
      "text/plain": [
       "<AxesSubplot:ylabel='Density'>"
      ]
     },
     "execution_count": 19,
     "metadata": {},
     "output_type": "execute_result"
    },
    {
     "data": {
      "image/png": "[encoded data removed]",
      "text/plain": [
       "<Figure size 432x288 with 1 Axes>"
      ]
     },
     "metadata": {
      "needs_background": "light"
     },
     "output_type": "display_data"
    }
   ],
   "source": [
    "kd = KernelDensity()\n",
    "\n",
    "kd.fit(train_preds.reshape(-1, 1))\n",
    "sample = kd.sample(n_samples=1000)\n",
    "\n",
    "# Histogram of predictions generated from the distribution\n",
    "sns.distplot(sample.reshape(-1, 1))"
   ]
  },
  {
   "cell_type": "code",
   "execution_count": 20,
   "metadata": {
    "ExecuteTime": {
     "end_time": "2021-03-01T21:58:32.744088Z",
     "start_time": "2021-03-01T21:58:32.626183Z"
    }
   },
   "outputs": [
    {
     "name": "stdout",
     "output_type": "stream",
     "text": [
      "Mean prediction: -0.18263922086930445\n",
      "Mean prediction from sample: -0.7558251122840653\n"
     ]
    },
    {
     "name": "stderr",
     "output_type": "stream",
     "text": [
      "/usr/local/lib/python3.8/site-packages/ipykernel/ipkernel.py:283: DeprecationWarning: `should_run_async` will not call `transform_cell` automatically in the future. Please pass the result to `transformed_cell` argument and any exception that happen during thetransform in `preprocessing_exc_tuple` in IPython 7.17 and above.\n",
      "  and should_run_async(code)\n"
     ]
    }
   ],
   "source": [
    "print('Mean prediction:', train_preds.mean())\n",
    "print('Mean prediction from sample:', sample.mean())"
   ]
  },
  {
   "cell_type": "code",
   "execution_count": 21,
   "metadata": {
    "ExecuteTime": {
     "end_time": "2021-03-01T21:58:34.917163Z",
     "start_time": "2021-03-01T21:58:34.847237Z"
    }
   },
   "outputs": [
    {
     "name": "stdout",
     "output_type": "stream",
     "text": [
      "Std for predictions: 25.409055098616896\n",
      "Std for predictions from sample: 24.79040795631061\n"
     ]
    }
   ],
   "source": [
    "print('Std for predictions:', train_preds.std())\n",
    "print('Std for predictions from sample:', sample.std())"
   ]
  },
  {
   "cell_type": "code",
   "execution_count": 22,
   "metadata": {
    "ExecuteTime": {
     "end_time": "2021-03-01T21:58:35.640366Z",
     "start_time": "2021-03-01T21:58:35.556194Z"
    },
    "scrolled": true
   },
   "outputs": [
    {
     "data": {
      "text/plain": [
       "array([0.67 , 0.517, 0.788, 0.581, 0.933, 0.393, 0.831, 0.528, 0.578,\n",
       "       0.394, 0.604, 0.592, 0.788, 0.264, 0.825, 0.972, 0.862, 0.899,\n",
       "       0.957, 0.317, 0.632, 0.417, 0.263, 0.557, 0.68 , 0.481, 0.363,\n",
       "       0.648, 0.578, 0.522, 0.392, 0.63 , 0.492, 0.849, 0.61 , 0.632,\n",
       "       0.196, 0.416, 0.748, 0.457, 0.704, 0.997, 0.579, 0.324, 0.985,\n",
       "       0.972, 0.257, 0.053, 0.114, 0.514, 0.292, 0.086, 0.119, 0.051,\n",
       "       0.012, 0.21 , 0.313, 0.16 , 0.379, 0.153, 0.338, 0.254, 0.748,\n",
       "       0.15 , 0.253, 0.058, 0.298, 0.033, 0.823, 0.533, 0.585, 0.677,\n",
       "       0.554, 0.606, 0.783, 0.953, 0.956, 0.569, 0.96 , 0.749, 0.717,\n",
       "       0.933, 0.69 , 0.18 , 0.426, 0.488, 0.973, 0.813, 0.356, 0.829,\n",
       "       0.104, 0.927, 0.516, 0.734, 0.529, 0.555, 0.585, 0.466, 0.229,\n",
       "       0.617, 0.74 , 0.338, 0.706, 0.633, 0.323, 0.439, 0.674, 0.816,\n",
       "       0.269, 0.954, 0.883, 0.571, 0.483, 0.227, 0.1  , 0.343, 0.868,\n",
       "       0.773, 0.107, 0.173, 0.767, 0.15 , 0.648, 0.279, 0.428, 0.06 ,\n",
       "       0.503, 0.483, 0.805, 0.446, 0.227, 0.484, 0.417, 0.221, 0.32 ,\n",
       "       0.417, 0.174, 0.522, 0.356, 0.626, 0.205, 0.899, 0.662, 0.933,\n",
       "       0.548, 0.988, 0.717, 0.995, 0.443, 0.355, 0.583, 0.75 , 0.286,\n",
       "       0.572, 0.501, 0.802, 0.95 , 0.627, 0.974, 0.953, 0.025, 0.119,\n",
       "       0.124, 0.252, 0.849, 0.394, 0.78 , 0.615, 0.756, 0.714, 0.721,\n",
       "       0.931, 0.974, 0.87 , 0.555, 0.744, 0.742, 0.761, 0.994, 0.819,\n",
       "       0.74 , 0.746, 0.846, 0.532, 0.975, 0.922, 0.917, 0.124, 0.226,\n",
       "       0.22 , 0.14 , 0.562, 0.119, 0.363, 0.023, 0.139, 0.053, 0.035,\n",
       "       0.   , 0.182, 0.469, 0.204, 0.097, 0.05 , 0.218, 0.074, 0.045,\n",
       "       0.   , 0.051, 0.059, 0.356, 0.737, 0.581, 0.764, 0.452, 0.864,\n",
       "       0.65 , 0.426, 0.483, 0.665, 0.422, 0.455, 0.478, 0.254, 0.254,\n",
       "       0.713, 0.231, 0.528, 0.416, 0.065, 0.961, 0.246, 0.632, 0.264,\n",
       "       0.428, 0.428, 0.456, 0.561, 0.395, 0.887, 0.14 , 0.369, 0.402,\n",
       "       0.2  , 0.466, 0.364, 0.689, 0.533, 0.347, 0.63 , 0.14 , 0.092,\n",
       "       0.521, 0.073, 0.499, 0.467, 0.408, 0.38 , 0.502, 0.287, 0.87 ,\n",
       "       0.272, 0.734, 0.538, 0.395, 0.782, 0.605, 0.095, 0.857, 0.262,\n",
       "       0.223, 0.253, 0.674, 0.324, 0.492, 0.96 , 0.284, 0.961, 0.361,\n",
       "       0.732, 0.071, 0.741, 0.224, 0.416, 0.931, 0.382, 0.78 , 0.414,\n",
       "       0.349, 0.727, 0.262, 0.64 , 0.284, 0.508, 0.254, 0.91 , 0.554,\n",
       "       0.82 , 0.859, 0.547, 0.32 , 0.227, 0.571, 0.57 , 0.703, 0.528,\n",
       "       0.528, 0.554, 0.747, 0.488, 0.279, 0.805, 0.905, 0.64 , 0.794,\n",
       "       0.532, 0.839, 0.969, 0.698, 0.674, 0.025, 0.886, 0.872, 0.842,\n",
       "       0.403, 0.318, 0.258, 0.448, 0.546, 0.132, 0.213, 0.064, 0.78 ,\n",
       "       0.25 , 0.553, 0.461, 0.244, 0.14 , 0.009, 0.264, 0.446, 0.074,\n",
       "       0.596, 0.748, 0.223, 0.674, 0.503, 0.96 , 0.68 , 0.461, 0.264,\n",
       "       0.382, 0.378, 0.324, 0.555, 0.153, 0.467, 0.485, 0.868, 0.399,\n",
       "       0.719, 0.416, 0.258, 0.262, 0.14 , 0.51 , 0.69 , 0.78 , 0.609,\n",
       "       0.428, 0.97 , 0.948, 0.264, 0.98 , 0.719, 0.894, 0.572, 0.972,\n",
       "       0.52 , 0.677, 0.704, 0.581, 0.891, 0.51 , 0.868, 0.902, 0.794,\n",
       "       0.416, 0.891, 0.953, 0.092, 0.466, 0.178, 0.85 , 0.271, 0.763,\n",
       "       0.144, 0.376, 0.466, 0.084, 0.5  , 0.044, 0.596, 0.244, 0.226,\n",
       "       0.258, 0.369, 0.868, 0.52 , 0.29 , 0.411, 0.455, 0.574, 0.107])"
      ]
     },
     "execution_count": 22,
     "metadata": {},
     "output_type": "execute_result"
    }
   ],
   "source": [
    "kd_confidences = np.array([\n",
    "    scipy.stats.percentileofscore(sample, pred) / 100\n",
    "    for pred in test_preds\n",
    "])\n",
    "\n",
    "kd_confidences"
   ]
  },
  {
   "cell_type": "code",
   "execution_count": 35,
   "metadata": {
    "ExecuteTime": {
     "end_time": "2021-03-01T22:11:58.710268Z",
     "start_time": "2021-03-01T22:11:58.622865Z"
    },
    "scrolled": true
   },
   "outputs": [
    {
     "data": {
      "text/plain": [
       "-101.83959661544088"
      ]
     },
     "execution_count": 35,
     "metadata": {},
     "output_type": "execute_result"
    }
   ],
   "source": [
    "bits = _calculate_bits(y_val, kd_confidences).sum()\n",
    "bits / N_ROWS_PER_MATCH"
   ]
  },
  {
   "cell_type": "markdown",
   "metadata": {},
   "source": [
    "### Bootstrapping"
   ]
  },
  {
   "cell_type": "code",
   "execution_count": 26,
   "metadata": {
    "ExecuteTime": {
     "end_time": "2021-03-01T21:59:14.806172Z",
     "start_time": "2021-03-01T21:59:14.761862Z"
    }
   },
   "outputs": [],
   "source": [
    "BOOTSTRAP_YEAR_RANGE = (1966, sampling_test_year)\n",
    "\n",
    "def bootstrap_predictions(estimator, X, y, year_range, n_iter=10, one_year=True):\n",
    "    \"\"\"Split data by year for cross-validation for time-series data\"\"\"\n",
    "\n",
    "    test_years = np.random.choice(range(*sampling_train_year_range), n_iter)\n",
    "    preds = []\n",
    "    \n",
    "    for year in test_years:\n",
    "        X_train = X.query('year < @year')\n",
    "        X_test = X.query('year == @year') if one_year else X.query('year >= @year')\n",
    "        y_train = y.loc[X_train.index]\n",
    "        \n",
    "        boot_estimator = clone(estimator)\n",
    "        boot_estimator.fit(X_train, y_train)\n",
    "        preds.append(boot_estimator.predict(X_test))\n",
    "        \n",
    "    return np.concatenate(preds)"
   ]
  },
  {
   "cell_type": "code",
   "execution_count": 27,
   "metadata": {
    "ExecuteTime": {
     "end_time": "2021-03-01T22:08:54.054696Z",
     "start_time": "2021-03-01T21:59:15.588260Z"
    },
    "scrolled": true
   },
   "outputs": [
    {
     "data": {
      "text/plain": [
       "array([  8.94476744,   3.98546512,  35.64534884, ..., -33.09883721,\n",
       "        11.15697674, -41.17732558])"
      ]
     },
     "execution_count": 27,
     "metadata": {},
     "output_type": "execute_result"
    }
   ],
   "source": [
    "boot_preds = bootstrap_predictions(stacking, X_train, y_train, BOOTSTRAP_YEAR_RANGE)\n",
    "boot_preds"
   ]
  },
  {
   "cell_type": "code",
   "execution_count": 28,
   "metadata": {
    "ExecuteTime": {
     "end_time": "2021-03-01T22:08:54.617039Z",
     "start_time": "2021-03-01T22:08:54.059029Z"
    },
    "scrolled": false
   },
   "outputs": [
    {
     "name": "stderr",
     "output_type": "stream",
     "text": [
      "/usr/local/lib/python3.8/site-packages/ipykernel/ipkernel.py:283: DeprecationWarning: `should_run_async` will not call `transform_cell` automatically in the future. Please pass the result to `transformed_cell` argument and any exception that happen during thetransform in `preprocessing_exc_tuple` in IPython 7.17 and above.\n",
      "  and should_run_async(code)\n",
      "/usr/local/lib/python3.8/site-packages/seaborn/distributions.py:2557: FutureWarning: `distplot` is a deprecated function and will be removed in a future version. Please adapt your code to use either `displot` (a figure-level function with similar flexibility) or `histplot` (an axes-level function for histograms).\n",
      "  warnings.warn(msg, FutureWarning)\n"
     ]
    },
    {
     "data": {
      "text/plain": [
       "<AxesSubplot:ylabel='Density'>"
      ]
     },
     "execution_count": 28,
     "metadata": {},
     "output_type": "execute_result"
    },
    {
     "data": {
      "image/png": "[encoded data removed]",
      "text/plain": [
       "<Figure size 432x288 with 1 Axes>"
      ]
     },
     "metadata": {
      "needs_background": "light"
     },
     "output_type": "display_data"
    }
   ],
   "source": [
    "sns.distplot(boot_preds.reshape(-1, 1))"
   ]
  },
  {
   "cell_type": "code",
   "execution_count": 29,
   "metadata": {
    "ExecuteTime": {
     "end_time": "2021-03-01T22:08:54.712850Z",
     "start_time": "2021-03-01T22:08:54.622717Z"
    }
   },
   "outputs": [
    {
     "name": "stderr",
     "output_type": "stream",
     "text": [
      "/usr/local/lib/python3.8/site-packages/ipykernel/ipkernel.py:283: DeprecationWarning: `should_run_async` will not call `transform_cell` automatically in the future. Please pass the result to `transformed_cell` argument and any exception that happen during thetransform in `preprocessing_exc_tuple` in IPython 7.17 and above.\n",
      "  and should_run_async(code)\n"
     ]
    },
    {
     "data": {
      "text/plain": [
       "(-0.258410054995589, 25.372979401372096)"
      ]
     },
     "execution_count": 29,
     "metadata": {},
     "output_type": "execute_result"
    }
   ],
   "source": [
    "boot_preds.mean(), boot_preds.std()"
   ]
  },
  {
   "cell_type": "code",
   "execution_count": 30,
   "metadata": {
    "ExecuteTime": {
     "end_time": "2021-03-01T22:08:54.880055Z",
     "start_time": "2021-03-01T22:08:54.725068Z"
    },
    "scrolled": true
   },
   "outputs": [
    {
     "data": {
      "text/plain": [
       "array([0.66803874, 0.51501211, 0.77772397, 0.58280872, 0.91985472,\n",
       "       0.38571429, 0.81331719, 0.52130751, 0.58038741, 0.38813559,\n",
       "       0.60702179, 0.58813559, 0.78305085, 0.26731235, 0.81113801,\n",
       "       0.96004843, 0.84576271, 0.88571429, 0.93946731, 0.31138015,\n",
       "       0.63244552, 0.40653753, 0.26368039, 0.55060533, 0.68377724,\n",
       "       0.4653753 , 0.36343826, 0.65084746, 0.58038741, 0.51985472,\n",
       "       0.38256659, 0.63075061, 0.49176755, 0.83535109, 0.61428571,\n",
       "       0.63414044, 0.18958838, 0.40169492, 0.7409201 , 0.44552058,\n",
       "       0.69878935, 0.99975787, 0.58062954, 0.32009685, 0.98208232,\n",
       "       0.96246973, 0.25835351, 0.0527845 , 0.11307506, 0.51162228,\n",
       "       0.2937046 , 0.08668281, 0.11501211, 0.04891041, 0.01864407,\n",
       "       0.20871671, 0.30677966, 0.15641646, 0.37409201, 0.15181598,\n",
       "       0.33583535, 0.25714286, 0.74358354, 0.14140436, 0.25375303,\n",
       "       0.05786925, 0.29830508, 0.03317191, 0.80992736, 0.52760291,\n",
       "       0.58450363, 0.68087167, 0.54769976, 0.6094431 , 0.77602906,\n",
       "       0.93728814, 0.93898305, 0.56973366, 0.94067797, 0.74806295,\n",
       "       0.71646489, 0.92058111, 0.69007264, 0.17433414, 0.41113801,\n",
       "       0.48668281, 0.96343826, 0.80363196, 0.35254237, 0.81307506,\n",
       "       0.1       , 0.90702179, 0.51501211, 0.72760291, 0.52348668,\n",
       "       0.54818402, 0.58329298, 0.44939467, 0.2283293 , 0.61985472,\n",
       "       0.73389831, 0.33583535, 0.70181598, 0.63414044, 0.31876513,\n",
       "       0.42421308, 0.66900726, 0.80823245, 0.27021792, 0.93825666,\n",
       "       0.86610169, 0.57360775, 0.468523  , 0.2220339 , 0.09733656,\n",
       "       0.337046  , 0.85254237, 0.76610169, 0.10411622, 0.16198547,\n",
       "       0.76029056, 0.14309927, 0.65084746, 0.28595642, 0.41186441,\n",
       "       0.06489104, 0.5062954 , 0.46900726, 0.79782082, 0.43365617,\n",
       "       0.22276029, 0.47263923, 0.40653753, 0.21622276, 0.31634383,\n",
       "       0.40653753, 0.16343826, 0.51985472, 0.35254237, 0.6283293 ,\n",
       "       0.20169492, 0.88450363, 0.66464891, 0.92058111, 0.53849879,\n",
       "       0.98644068, 0.71331719, 0.9968523 , 0.42929782, 0.3503632 ,\n",
       "       0.58280872, 0.74842615, 0.29007264, 0.57360775, 0.50411622,\n",
       "       0.79661017, 0.93171913, 0.6283293 , 0.96731235, 0.93728814,\n",
       "       0.02760291, 0.11452785, 0.11864407, 0.2535109 , 0.83535109,\n",
       "       0.38813559, 0.77046005, 0.61840194, 0.75423729, 0.71113801,\n",
       "       0.72009685, 0.91622276, 0.96707022, 0.85375303, 0.54818402,\n",
       "       0.73559322, 0.73414044, 0.75956416, 0.99539952, 0.80895884,\n",
       "       0.73220339, 0.73680387, 0.83099274, 0.52736077, 0.97118644,\n",
       "       0.90556901, 0.89975787, 0.11864407, 0.22154964, 0.21501211,\n",
       "       0.13365617, 0.56101695, 0.11549637, 0.36150121, 0.02760291,\n",
       "       0.12929782, 0.05157385, 0.03607748, 0.        , 0.17820823,\n",
       "       0.4527845 , 0.20169492, 0.09636804, 0.04891041, 0.21452785,\n",
       "       0.07772397, 0.04600484, 0.        , 0.04915254, 0.06174334,\n",
       "       0.35254237, 0.73220339, 0.58280872, 0.76029056, 0.43680387,\n",
       "       0.84745763, 0.65326877, 0.41089588, 0.46949153, 0.66464891,\n",
       "       0.40774818, 0.44430993, 0.46319613, 0.25714286, 0.25738499,\n",
       "       0.7094431 , 0.22953995, 0.52300242, 0.40532688, 0.06731235,\n",
       "       0.94140436, 0.24600484, 0.63099274, 0.26731235, 0.41622276,\n",
       "       0.4157385 , 0.44430993, 0.55617433, 0.39007264, 0.87263923,\n",
       "       0.13244552, 0.36658596, 0.39394673, 0.19322034, 0.44987893,\n",
       "       0.36404358, 0.68958838, 0.52760291, 0.33995157, 0.63075061,\n",
       "       0.13414044, 0.09128329, 0.51985472, 0.07360775, 0.50338983,\n",
       "       0.4527845 , 0.39588378, 0.37457627, 0.50411622, 0.2905569 ,\n",
       "       0.85363196, 0.27457627, 0.72372881, 0.52929782, 0.38886199,\n",
       "       0.77360775, 0.60871671, 0.09322034, 0.8377724 , 0.26004843,\n",
       "       0.21864407, 0.25520581, 0.67263923, 0.32009685, 0.49176755,\n",
       "       0.94140436, 0.28789346, 0.9433414 , 0.35859564, 0.72276029,\n",
       "       0.07263923, 0.73389831, 0.21937046, 0.40193705, 0.91670702,\n",
       "       0.37506053, 0.76803874, 0.39806295, 0.34140436, 0.7220339 ,\n",
       "       0.25883777, 0.64552058, 0.2874092 , 0.50968523, 0.25811138,\n",
       "       0.89564165, 0.5472155 , 0.8094431 , 0.83898305, 0.537046  ,\n",
       "       0.31598063, 0.2220339 , 0.57360775, 0.57300242, 0.69830508,\n",
       "       0.52130751, 0.52300242, 0.54769976, 0.73898305, 0.48813559,\n",
       "       0.28498789, 0.79903148, 0.89225182, 0.64358354, 0.78668281,\n",
       "       0.52736077, 0.82082324, 0.95762712, 0.6937046 , 0.66900726,\n",
       "       0.02760291, 0.87021792, 0.85399516, 0.82493947, 0.39479419,\n",
       "       0.31307506, 0.25883777, 0.43607748, 0.53692494, 0.12663438,\n",
       "       0.21089588, 0.06489104, 0.76803874, 0.24891041, 0.54576271,\n",
       "       0.44745763, 0.2401937 , 0.13535109, 0.01283293, 0.268523  ,\n",
       "       0.43365617, 0.07627119, 0.59564165, 0.7440678 , 0.21840194,\n",
       "       0.67336562, 0.50750605, 0.94116223, 0.68377724, 0.4468523 ,\n",
       "       0.26513317, 0.37506053, 0.37215496, 0.32251816, 0.54818402,\n",
       "       0.14891041, 0.4527845 , 0.47651332, 0.85242131, 0.39249395,\n",
       "       0.71961259, 0.40290557, 0.25835351, 0.25932203, 0.13414044,\n",
       "       0.51138015, 0.69007264, 0.77046005, 0.61380145, 0.41283293,\n",
       "       0.95835351, 0.931477  , 0.26561743, 0.97627119, 0.72009685,\n",
       "       0.88184019, 0.57433414, 0.96125908, 0.51840194, 0.68353511,\n",
       "       0.69878935, 0.58280872, 0.87627119, 0.51138015, 0.85254237,\n",
       "       0.89128329, 0.78644068, 0.40193705, 0.87748184, 0.93728814,\n",
       "       0.09128329, 0.4527845 , 0.1716707 , 0.83559322, 0.27457627,\n",
       "       0.76029056, 0.13535109, 0.37094431, 0.44939467, 0.08523002,\n",
       "       0.50387409, 0.04116223, 0.59661017, 0.23849879, 0.2220339 ,\n",
       "       0.25835351, 0.36658596, 0.8527845 , 0.51622276, 0.29225182,\n",
       "       0.39709443, 0.44382567, 0.57845036, 0.10411622])"
      ]
     },
     "execution_count": 30,
     "metadata": {},
     "output_type": "execute_result"
    }
   ],
   "source": [
    "bs_confidences = np.array([\n",
    "    scipy.stats.percentileofscore(boot_preds, pred) / 100\n",
    "    for pred in margin_cv_preds[-1]\n",
    "])\n",
    "    \n",
    "bs_confidences"
   ]
  },
  {
   "cell_type": "code",
   "execution_count": 36,
   "metadata": {
    "ExecuteTime": {
     "end_time": "2021-03-01T22:12:02.528375Z",
     "start_time": "2021-03-01T22:12:02.433571Z"
    },
    "scrolled": true
   },
   "outputs": [
    {
     "name": "stderr",
     "output_type": "stream",
     "text": [
      "/usr/local/lib/python3.8/site-packages/ipykernel/ipkernel.py:283: DeprecationWarning: `should_run_async` will not call `transform_cell` automatically in the future. Please pass the result to `transformed_cell` argument and any exception that happen during thetransform in `preprocessing_exc_tuple` in IPython 7.17 and above.\n",
      "  and should_run_async(code)\n"
     ]
    },
    {
     "data": {
      "text/plain": [
       "-99.9549462987879"
      ]
     },
     "execution_count": 36,
     "metadata": {},
     "output_type": "execute_result"
    }
   ],
   "source": [
    "bits = _calculate_bits(y_val, bs_confidences).sum()\n",
    "bits / N_ROWS_PER_MATCH"
   ]
  },
  {
   "cell_type": "markdown",
   "metadata": {},
   "source": [
    "### XGBoost"
   ]
  },
  {
   "cell_type": "code",
   "execution_count": 40,
   "metadata": {
    "ExecuteTime": {
     "end_time": "2021-03-01T23:03:05.509544Z",
     "start_time": "2021-03-01T23:03:05.435098Z"
    }
   },
   "outputs": [],
   "source": [
    "xgbc = make_pipeline(\n",
    "    base_ml_estimator.BASE_ML_PIPELINE,\n",
    "    XGBClassifier(\n",
    "        random_state=SEED,\n",
    "        verbosity=0,\n",
    "    ),\n",
    ")"
   ]
  },
  {
   "cell_type": "code",
   "execution_count": 41,
   "metadata": {
    "ExecuteTime": {
     "end_time": "2021-03-01T23:10:46.127565Z",
     "start_time": "2021-03-01T23:03:06.475962Z"
    },
    "scrolled": true
   },
   "outputs": [
    {
     "name": "stderr",
     "output_type": "stream",
     "text": [
      "[Parallel(n_jobs=-1)]: Using backend LokyBackend with 4 concurrent workers.\n",
      "[Parallel(n_jobs=-1)]: Done   5 out of   5 | elapsed:  7.6min finished\n"
     ]
    },
    {
     "data": {
      "text/plain": [
       "{'fit_time': array([416.51529408, 424.04242039, 421.99258065, 421.9609611 ,\n",
       "         23.70892549]),\n",
       " 'score_time': array([0.31759024, 0.01759958, 0.15513158, 0.04422712, 0.0122478 ]),\n",
       " 'test_bits': array([-95.52236703, -94.63192785, -91.71138542, -97.27927473,\n",
       "        -80.70420222])}"
      ]
     },
     "execution_count": 41,
     "metadata": {},
     "output_type": "execute_result"
    }
   ],
   "source": [
    "xgbc_scores = score_model(xgbc, result_data, n_jobs=-1, scoring={'bits': bits_scorer})\n",
    "xgbc_scores"
   ]
  },
  {
   "cell_type": "code",
   "execution_count": 42,
   "metadata": {
    "ExecuteTime": {
     "end_time": "2021-03-01T23:10:46.653665Z",
     "start_time": "2021-03-01T23:10:46.138564Z"
    }
   },
   "outputs": [
    {
     "name": "stderr",
     "output_type": "stream",
     "text": [
      "/usr/local/lib/python3.8/site-packages/ipykernel/ipkernel.py:283: DeprecationWarning: `should_run_async` will not call `transform_cell` automatically in the future. Please pass the result to `transformed_cell` argument and any exception that happen during thetransform in `preprocessing_exc_tuple` in IPython 7.17 and above.\n",
      "  and should_run_async(code)\n"
     ]
    },
    {
     "name": "stdout",
     "output_type": "stream",
     "text": [
      "Bits per season: -91.96983144954753\n"
     ]
    }
   ],
   "source": [
    "print('Bits per season:', xgbc_scores['test_bits'].sum() / len(xgbc_scores['test_bits']))"
   ]
  },
  {
   "cell_type": "markdown",
   "metadata": {},
   "source": [
    "## Conclusion\n",
    "\n",
    "Bits scores are still garbage even after correcting how they're calculated. I'll go ahead and run the same confidence model that was at least mediocre last year and see how it goes. The experiments this year have revealed some aspects of my data processing that could use improvement to simplify both the pipeline and experimenting with models. Namely, I should index the data, so it's sorted by datetime (or maybe by season, then round number) and reconsider organising rows by team-match (since match rows would be easier to work with, especially when measuring performance)."
   ]
  },
  {
   "cell_type": "code",
   "execution_count": null,
   "metadata": {},
   "outputs": [],
   "source": []
  }
 ],
 "metadata": {
  "kernelspec": {
   "display_name": "augury",
   "language": "python",
   "name": "python3"
  },
  "language_info": {
   "codemirror_mode": {
    "name": "ipython",
    "version": 3
   },
   "file_extension": ".py",
   "mimetype": "text/x-python",
   "name": "python",
   "nbconvert_exporter": "python",
   "pygments_lexer": "ipython3",
   "version": "3.8.6"
  },
  "notify_time": "30",
  "toc": {
   "base_numbering": 1,
   "nav_menu": {},
   "number_sections": true,
   "sideBar": true,
   "skip_h1_title": false,
   "title_cell": "Table of Contents",
   "title_sidebar": "Contents",
   "toc_cell": false,
   "toc_position": {},
   "toc_section_display": true,
   "toc_window_display": false
  }
 },
 "nbformat": 4,
 "nbformat_minor": 2
}
