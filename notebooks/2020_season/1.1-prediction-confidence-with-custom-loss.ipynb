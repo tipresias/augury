{
 "cells": [
  {
   "cell_type": "markdown",
   "metadata": {},
   "source": [
    "## Code Setup"
   ]
  },
  {
   "cell_type": "code",
   "execution_count": 1,
   "metadata": {
    "ExecuteTime": {
     "end_time": "2020-01-17T11:33:06.725500Z",
     "start_time": "2020-01-17T11:33:06.571167Z"
    }
   },
   "outputs": [],
   "source": [
    "%load_ext autoreload"
   ]
  },
  {
   "cell_type": "code",
   "execution_count": 2,
   "metadata": {
    "ExecuteTime": {
     "end_time": "2020-01-17T11:33:07.209219Z",
     "start_time": "2020-01-17T11:33:06.729160Z"
    }
   },
   "outputs": [],
   "source": [
    "%autoreload 2\n",
    "\n",
    "import math\n",
    "from functools import partial\n",
    "\n",
    "import numpy as np\n",
    "from xgboost import XGBClassifier, XGBRegressor\n",
    "from sklearn.pipeline import make_pipeline\n",
    "from sklearn.base import clone, BaseEstimator, TransformerMixin, ClassifierMixin\n",
    "from sklearn.preprocessing import StandardScaler, OneHotEncoder\n",
    "from sklearn.compose import ColumnTransformer\n",
    "from sklearn.model_selection import GridSearchCV\n",
    "import pandas as pd\n",
    "import seaborn as sns\n",
    "import statsmodels.api as sm\n",
    "import scipy\n",
    "import tensorflow.keras.backend as K\n",
    "from tensorflow.keras import callbacks, layers, wrappers, models, constraints, optimizers\n",
    "import tensorflow as tf\n",
    "from category_encoders import OrdinalEncoder\n",
    "\n",
    "from augury import model_tracking\n",
    "from augury.ml_data import MLData\n",
    "from augury.ml_estimators import StackingEstimator, ConfidenceEstimator\n",
    "from augury.ml_estimators.stacking_estimator import ML_PIPELINE\n",
    "from augury.sklearn import (\n",
    "    TeammatchToMatchConverter,\n",
    "    EloRegressor,\n",
    "    bits_scorer,\n",
    "    _calculate_bits,\n",
    "    TimeSeriesRegressor,\n",
    "    ColumnDropper,\n",
    "    CorrelationSelector,\n",
    ")\n",
    "from augury.settings import SEED, CV_YEAR_RANGE, TRAIN_YEAR_RANGE, CATEGORY_COLS, TEAM_NAMES, ROUND_TYPES, VENUES\n",
    "\n",
    "\n",
    "np.random.seed(SEED)"
   ]
  },
  {
   "cell_type": "code",
   "execution_count": 3,
   "metadata": {
    "ExecuteTime": {
     "end_time": "2020-01-17T11:33:21.307584Z",
     "start_time": "2020-01-17T11:33:07.213109Z"
    },
    "scrolled": true
   },
   "outputs": [
    {
     "name": "stdout",
     "output_type": "stream",
     "text": [
      "2020-01-17 11:33:07,510 - kedro.io.data_catalog - INFO - Loading data from `model_data` (JSONLocalDataSet)...\n"
     ]
    },
    {
     "data": {
      "text/html": [
       "<div>\n",
       "<style scoped>\n",
       "    .dataframe tbody tr th:only-of-type {\n",
       "        vertical-align: middle;\n",
       "    }\n",
       "\n",
       "    .dataframe tbody tr th {\n",
       "        vertical-align: top;\n",
       "    }\n",
       "\n",
       "    .dataframe thead th {\n",
       "        text-align: right;\n",
       "    }\n",
       "</style>\n",
       "<table border=\"1\" class=\"dataframe\">\n",
       "  <thead>\n",
       "    <tr style=\"text-align: right;\">\n",
       "      <th></th>\n",
       "      <th></th>\n",
       "      <th></th>\n",
       "      <th>team</th>\n",
       "      <th>oppo_team</th>\n",
       "      <th>round_type</th>\n",
       "      <th>venue</th>\n",
       "      <th>prev_match_oppo_team</th>\n",
       "      <th>oppo_prev_match_oppo_team</th>\n",
       "      <th>date</th>\n",
       "      <th>team_goals</th>\n",
       "      <th>team_behinds</th>\n",
       "      <th>score</th>\n",
       "      <th>...</th>\n",
       "      <th>oppo_rolling_prev_match_goals_divided_by_rolling_prev_match_goals_plus_rolling_prev_match_behinds</th>\n",
       "      <th>win_odds</th>\n",
       "      <th>oppo_win_odds</th>\n",
       "      <th>line_odds</th>\n",
       "      <th>oppo_line_odds</th>\n",
       "      <th>betting_pred_win</th>\n",
       "      <th>rolling_betting_pred_win_rate</th>\n",
       "      <th>oppo_betting_pred_win</th>\n",
       "      <th>oppo_rolling_betting_pred_win_rate</th>\n",
       "      <th>win_odds_multiplied_by_ladder_position</th>\n",
       "    </tr>\n",
       "  </thead>\n",
       "  <tbody>\n",
       "    <tr>\n",
       "      <th rowspan=\"5\" valign=\"top\">Adelaide</th>\n",
       "      <th rowspan=\"5\" valign=\"top\">1991</th>\n",
       "      <th>1</th>\n",
       "      <td>Adelaide</td>\n",
       "      <td>Hawthorn</td>\n",
       "      <td>Regular</td>\n",
       "      <td>Football Park</td>\n",
       "      <td>0</td>\n",
       "      <td>Melbourne</td>\n",
       "      <td>1991-03-22 03:56:00+00:00</td>\n",
       "      <td>24</td>\n",
       "      <td>11</td>\n",
       "      <td>155</td>\n",
       "      <td>...</td>\n",
       "      <td>0.0</td>\n",
       "      <td>0.00</td>\n",
       "      <td>0.00</td>\n",
       "      <td>0.0</td>\n",
       "      <td>0.0</td>\n",
       "      <td>0.0</td>\n",
       "      <td>0.000000</td>\n",
       "      <td>0.0</td>\n",
       "      <td>0.000000</td>\n",
       "      <td>0.00</td>\n",
       "    </tr>\n",
       "    <tr>\n",
       "      <th>2</th>\n",
       "      <td>Adelaide</td>\n",
       "      <td>Carlton</td>\n",
       "      <td>Regular</td>\n",
       "      <td>Football Park</td>\n",
       "      <td>Hawthorn</td>\n",
       "      <td>Fitzroy</td>\n",
       "      <td>1991-03-31 03:56:00+00:00</td>\n",
       "      <td>12</td>\n",
       "      <td>9</td>\n",
       "      <td>81</td>\n",
       "      <td>...</td>\n",
       "      <td>0.0</td>\n",
       "      <td>0.00</td>\n",
       "      <td>0.00</td>\n",
       "      <td>0.0</td>\n",
       "      <td>0.0</td>\n",
       "      <td>0.0</td>\n",
       "      <td>0.000000</td>\n",
       "      <td>0.0</td>\n",
       "      <td>0.000000</td>\n",
       "      <td>0.00</td>\n",
       "    </tr>\n",
       "    <tr>\n",
       "      <th>3</th>\n",
       "      <td>Adelaide</td>\n",
       "      <td>Sydney</td>\n",
       "      <td>Regular</td>\n",
       "      <td>S.C.G.</td>\n",
       "      <td>Carlton</td>\n",
       "      <td>Hawthorn</td>\n",
       "      <td>1991-04-07 03:05:00+00:00</td>\n",
       "      <td>19</td>\n",
       "      <td>18</td>\n",
       "      <td>132</td>\n",
       "      <td>...</td>\n",
       "      <td>0.0</td>\n",
       "      <td>0.00</td>\n",
       "      <td>0.00</td>\n",
       "      <td>0.0</td>\n",
       "      <td>0.0</td>\n",
       "      <td>0.0</td>\n",
       "      <td>0.000000</td>\n",
       "      <td>0.0</td>\n",
       "      <td>0.000000</td>\n",
       "      <td>0.00</td>\n",
       "    </tr>\n",
       "    <tr>\n",
       "      <th>4</th>\n",
       "      <td>Adelaide</td>\n",
       "      <td>Essendon</td>\n",
       "      <td>Regular</td>\n",
       "      <td>Windy Hill</td>\n",
       "      <td>Sydney</td>\n",
       "      <td>North Melbourne</td>\n",
       "      <td>1991-04-13 03:30:00+00:00</td>\n",
       "      <td>6</td>\n",
       "      <td>11</td>\n",
       "      <td>47</td>\n",
       "      <td>...</td>\n",
       "      <td>0.0</td>\n",
       "      <td>0.00</td>\n",
       "      <td>0.00</td>\n",
       "      <td>0.0</td>\n",
       "      <td>0.0</td>\n",
       "      <td>0.0</td>\n",
       "      <td>0.000000</td>\n",
       "      <td>0.0</td>\n",
       "      <td>0.000000</td>\n",
       "      <td>0.00</td>\n",
       "    </tr>\n",
       "    <tr>\n",
       "      <th>5</th>\n",
       "      <td>Adelaide</td>\n",
       "      <td>West Coast</td>\n",
       "      <td>Regular</td>\n",
       "      <td>Subiaco</td>\n",
       "      <td>Essendon</td>\n",
       "      <td>North Melbourne</td>\n",
       "      <td>1991-04-21 05:27:00+00:00</td>\n",
       "      <td>9</td>\n",
       "      <td>11</td>\n",
       "      <td>65</td>\n",
       "      <td>...</td>\n",
       "      <td>0.0</td>\n",
       "      <td>0.00</td>\n",
       "      <td>0.00</td>\n",
       "      <td>0.0</td>\n",
       "      <td>0.0</td>\n",
       "      <td>0.0</td>\n",
       "      <td>0.000000</td>\n",
       "      <td>0.0</td>\n",
       "      <td>0.000000</td>\n",
       "      <td>0.00</td>\n",
       "    </tr>\n",
       "    <tr>\n",
       "      <th>...</th>\n",
       "      <th>...</th>\n",
       "      <th>...</th>\n",
       "      <td>...</td>\n",
       "      <td>...</td>\n",
       "      <td>...</td>\n",
       "      <td>...</td>\n",
       "      <td>...</td>\n",
       "      <td>...</td>\n",
       "      <td>...</td>\n",
       "      <td>...</td>\n",
       "      <td>...</td>\n",
       "      <td>...</td>\n",
       "      <td>...</td>\n",
       "      <td>...</td>\n",
       "      <td>...</td>\n",
       "      <td>...</td>\n",
       "      <td>...</td>\n",
       "      <td>...</td>\n",
       "      <td>...</td>\n",
       "      <td>...</td>\n",
       "      <td>...</td>\n",
       "      <td>...</td>\n",
       "      <td>...</td>\n",
       "    </tr>\n",
       "    <tr>\n",
       "      <th rowspan=\"5\" valign=\"top\">Western Bulldogs</th>\n",
       "      <th rowspan=\"5\" valign=\"top\">2019</th>\n",
       "      <th>20</th>\n",
       "      <td>Western Bulldogs</td>\n",
       "      <td>Brisbane</td>\n",
       "      <td>Regular</td>\n",
       "      <td>Gabba</td>\n",
       "      <td>Fremantle</td>\n",
       "      <td>Hawthorn</td>\n",
       "      <td>2019-08-04 02:58:00+00:00</td>\n",
       "      <td>11</td>\n",
       "      <td>14</td>\n",
       "      <td>80</td>\n",
       "      <td>...</td>\n",
       "      <td>0.0</td>\n",
       "      <td>3.15</td>\n",
       "      <td>1.36</td>\n",
       "      <td>18.5</td>\n",
       "      <td>-18.5</td>\n",
       "      <td>0.0</td>\n",
       "      <td>0.391304</td>\n",
       "      <td>1.0</td>\n",
       "      <td>0.478261</td>\n",
       "      <td>28.35</td>\n",
       "    </tr>\n",
       "    <tr>\n",
       "      <th>21</th>\n",
       "      <td>Western Bulldogs</td>\n",
       "      <td>Essendon</td>\n",
       "      <td>Regular</td>\n",
       "      <td>Docklands</td>\n",
       "      <td>Brisbane</td>\n",
       "      <td>Port Adelaide</td>\n",
       "      <td>2019-08-10 03:30:00+00:00</td>\n",
       "      <td>21</td>\n",
       "      <td>11</td>\n",
       "      <td>137</td>\n",
       "      <td>...</td>\n",
       "      <td>0.0</td>\n",
       "      <td>1.68</td>\n",
       "      <td>2.20</td>\n",
       "      <td>-6.5</td>\n",
       "      <td>6.5</td>\n",
       "      <td>1.0</td>\n",
       "      <td>0.434783</td>\n",
       "      <td>0.0</td>\n",
       "      <td>0.521739</td>\n",
       "      <td>18.48</td>\n",
       "    </tr>\n",
       "    <tr>\n",
       "      <th>22</th>\n",
       "      <td>Western Bulldogs</td>\n",
       "      <td>GWS</td>\n",
       "      <td>Regular</td>\n",
       "      <td>Sydney Showground</td>\n",
       "      <td>Essendon</td>\n",
       "      <td>Hawthorn</td>\n",
       "      <td>2019-08-18 03:05:00+00:00</td>\n",
       "      <td>19</td>\n",
       "      <td>12</td>\n",
       "      <td>126</td>\n",
       "      <td>...</td>\n",
       "      <td>0.0</td>\n",
       "      <td>2.15</td>\n",
       "      <td>1.71</td>\n",
       "      <td>5.5</td>\n",
       "      <td>-5.5</td>\n",
       "      <td>0.0</td>\n",
       "      <td>0.434783</td>\n",
       "      <td>1.0</td>\n",
       "      <td>0.695652</td>\n",
       "      <td>21.50</td>\n",
       "    </tr>\n",
       "    <tr>\n",
       "      <th>23</th>\n",
       "      <td>Western Bulldogs</td>\n",
       "      <td>Adelaide</td>\n",
       "      <td>Regular</td>\n",
       "      <td>Eureka Stadium</td>\n",
       "      <td>GWS</td>\n",
       "      <td>Collingwood</td>\n",
       "      <td>2019-08-25 03:30:00+00:00</td>\n",
       "      <td>18</td>\n",
       "      <td>13</td>\n",
       "      <td>121</td>\n",
       "      <td>...</td>\n",
       "      <td>0.0</td>\n",
       "      <td>1.33</td>\n",
       "      <td>3.35</td>\n",
       "      <td>-18.5</td>\n",
       "      <td>18.5</td>\n",
       "      <td>1.0</td>\n",
       "      <td>0.434783</td>\n",
       "      <td>0.0</td>\n",
       "      <td>0.739130</td>\n",
       "      <td>11.97</td>\n",
       "    </tr>\n",
       "    <tr>\n",
       "      <th>24</th>\n",
       "      <td>Western Bulldogs</td>\n",
       "      <td>GWS</td>\n",
       "      <td>Finals</td>\n",
       "      <td>Sydney Showground</td>\n",
       "      <td>Adelaide</td>\n",
       "      <td>Gold Coast</td>\n",
       "      <td>2019-09-07 03:05:00+00:00</td>\n",
       "      <td>8</td>\n",
       "      <td>7</td>\n",
       "      <td>55</td>\n",
       "      <td>...</td>\n",
       "      <td>0.0</td>\n",
       "      <td>2.00</td>\n",
       "      <td>1.82</td>\n",
       "      <td>2.5</td>\n",
       "      <td>-2.5</td>\n",
       "      <td>0.0</td>\n",
       "      <td>0.434783</td>\n",
       "      <td>1.0</td>\n",
       "      <td>0.739130</td>\n",
       "      <td>16.00</td>\n",
       "    </tr>\n",
       "  </tbody>\n",
       "</table>\n",
       "<p>31188 rows × 293 columns</p>\n",
       "</div>"
      ],
      "text/plain": [
       "                                      team   oppo_team round_type  \\\n",
       "Adelaide         1991 1           Adelaide    Hawthorn    Regular   \n",
       "                      2           Adelaide     Carlton    Regular   \n",
       "                      3           Adelaide      Sydney    Regular   \n",
       "                      4           Adelaide    Essendon    Regular   \n",
       "                      5           Adelaide  West Coast    Regular   \n",
       "...                                    ...         ...        ...   \n",
       "Western Bulldogs 2019 20  Western Bulldogs    Brisbane    Regular   \n",
       "                      21  Western Bulldogs    Essendon    Regular   \n",
       "                      22  Western Bulldogs         GWS    Regular   \n",
       "                      23  Western Bulldogs    Adelaide    Regular   \n",
       "                      24  Western Bulldogs         GWS     Finals   \n",
       "\n",
       "                                      venue prev_match_oppo_team  \\\n",
       "Adelaide         1991 1       Football Park                    0   \n",
       "                      2       Football Park             Hawthorn   \n",
       "                      3              S.C.G.              Carlton   \n",
       "                      4          Windy Hill               Sydney   \n",
       "                      5             Subiaco             Essendon   \n",
       "...                                     ...                  ...   \n",
       "Western Bulldogs 2019 20              Gabba            Fremantle   \n",
       "                      21          Docklands             Brisbane   \n",
       "                      22  Sydney Showground             Essendon   \n",
       "                      23     Eureka Stadium                  GWS   \n",
       "                      24  Sydney Showground             Adelaide   \n",
       "\n",
       "                         oppo_prev_match_oppo_team                      date  \\\n",
       "Adelaide         1991 1                  Melbourne 1991-03-22 03:56:00+00:00   \n",
       "                      2                    Fitzroy 1991-03-31 03:56:00+00:00   \n",
       "                      3                   Hawthorn 1991-04-07 03:05:00+00:00   \n",
       "                      4            North Melbourne 1991-04-13 03:30:00+00:00   \n",
       "                      5            North Melbourne 1991-04-21 05:27:00+00:00   \n",
       "...                                            ...                       ...   \n",
       "Western Bulldogs 2019 20                  Hawthorn 2019-08-04 02:58:00+00:00   \n",
       "                      21             Port Adelaide 2019-08-10 03:30:00+00:00   \n",
       "                      22                  Hawthorn 2019-08-18 03:05:00+00:00   \n",
       "                      23               Collingwood 2019-08-25 03:30:00+00:00   \n",
       "                      24                Gold Coast 2019-09-07 03:05:00+00:00   \n",
       "\n",
       "                          team_goals  team_behinds  score  ...  \\\n",
       "Adelaide         1991 1           24            11    155  ...   \n",
       "                      2           12             9     81  ...   \n",
       "                      3           19            18    132  ...   \n",
       "                      4            6            11     47  ...   \n",
       "                      5            9            11     65  ...   \n",
       "...                              ...           ...    ...  ...   \n",
       "Western Bulldogs 2019 20          11            14     80  ...   \n",
       "                      21          21            11    137  ...   \n",
       "                      22          19            12    126  ...   \n",
       "                      23          18            13    121  ...   \n",
       "                      24           8             7     55  ...   \n",
       "\n",
       "                          oppo_rolling_prev_match_goals_divided_by_rolling_prev_match_goals_plus_rolling_prev_match_behinds  \\\n",
       "Adelaide         1991 1                                                 0.0                                                   \n",
       "                      2                                                 0.0                                                   \n",
       "                      3                                                 0.0                                                   \n",
       "                      4                                                 0.0                                                   \n",
       "                      5                                                 0.0                                                   \n",
       "...                                                                     ...                                                   \n",
       "Western Bulldogs 2019 20                                                0.0                                                   \n",
       "                      21                                                0.0                                                   \n",
       "                      22                                                0.0                                                   \n",
       "                      23                                                0.0                                                   \n",
       "                      24                                                0.0                                                   \n",
       "\n",
       "                          win_odds  oppo_win_odds  line_odds  oppo_line_odds  \\\n",
       "Adelaide         1991 1       0.00           0.00        0.0             0.0   \n",
       "                      2       0.00           0.00        0.0             0.0   \n",
       "                      3       0.00           0.00        0.0             0.0   \n",
       "                      4       0.00           0.00        0.0             0.0   \n",
       "                      5       0.00           0.00        0.0             0.0   \n",
       "...                            ...            ...        ...             ...   \n",
       "Western Bulldogs 2019 20      3.15           1.36       18.5           -18.5   \n",
       "                      21      1.68           2.20       -6.5             6.5   \n",
       "                      22      2.15           1.71        5.5            -5.5   \n",
       "                      23      1.33           3.35      -18.5            18.5   \n",
       "                      24      2.00           1.82        2.5            -2.5   \n",
       "\n",
       "                          betting_pred_win  rolling_betting_pred_win_rate  \\\n",
       "Adelaide         1991 1                0.0                       0.000000   \n",
       "                      2                0.0                       0.000000   \n",
       "                      3                0.0                       0.000000   \n",
       "                      4                0.0                       0.000000   \n",
       "                      5                0.0                       0.000000   \n",
       "...                                    ...                            ...   \n",
       "Western Bulldogs 2019 20               0.0                       0.391304   \n",
       "                      21               1.0                       0.434783   \n",
       "                      22               0.0                       0.434783   \n",
       "                      23               1.0                       0.434783   \n",
       "                      24               0.0                       0.434783   \n",
       "\n",
       "                          oppo_betting_pred_win  \\\n",
       "Adelaide         1991 1                     0.0   \n",
       "                      2                     0.0   \n",
       "                      3                     0.0   \n",
       "                      4                     0.0   \n",
       "                      5                     0.0   \n",
       "...                                         ...   \n",
       "Western Bulldogs 2019 20                    1.0   \n",
       "                      21                    0.0   \n",
       "                      22                    1.0   \n",
       "                      23                    0.0   \n",
       "                      24                    1.0   \n",
       "\n",
       "                          oppo_rolling_betting_pred_win_rate  \\\n",
       "Adelaide         1991 1                             0.000000   \n",
       "                      2                             0.000000   \n",
       "                      3                             0.000000   \n",
       "                      4                             0.000000   \n",
       "                      5                             0.000000   \n",
       "...                                                      ...   \n",
       "Western Bulldogs 2019 20                            0.478261   \n",
       "                      21                            0.521739   \n",
       "                      22                            0.695652   \n",
       "                      23                            0.739130   \n",
       "                      24                            0.739130   \n",
       "\n",
       "                          win_odds_multiplied_by_ladder_position  \n",
       "Adelaide         1991 1                                     0.00  \n",
       "                      2                                     0.00  \n",
       "                      3                                     0.00  \n",
       "                      4                                     0.00  \n",
       "                      5                                     0.00  \n",
       "...                                                          ...  \n",
       "Western Bulldogs 2019 20                                   28.35  \n",
       "                      21                                   18.48  \n",
       "                      22                                   21.50  \n",
       "                      23                                   11.97  \n",
       "                      24                                   16.00  \n",
       "\n",
       "[31188 rows x 293 columns]"
      ]
     },
     "execution_count": 3,
     "metadata": {},
     "output_type": "execute_result"
    }
   ],
   "source": [
    "data = MLData()\n",
    "data.data"
   ]
  },
  {
   "cell_type": "code",
   "execution_count": 4,
   "metadata": {
    "ExecuteTime": {
     "end_time": "2020-01-17T11:36:14.008459Z",
     "start_time": "2020-01-17T11:33:21.311551Z"
    },
    "scrolled": true
   },
   "outputs": [
    {
     "name": "stdout",
     "output_type": "stream",
     "text": [
      "2020-01-17 11:33:21,736 - numexpr.utils - INFO - NumExpr defaulting to 4 threads.\n"
     ]
    },
    {
     "data": {
      "text/plain": [
       "StackingEstimator(min_year=1965, name='stacking_estimator',\n",
       "                  pipeline=StackingRegressor(meta_regressor=Pipeline(memory=None,\n",
       "                                                                     steps=[('standardscaler',\n",
       "                                                                             StandardScaler(copy=True,\n",
       "                                                                                            with_mean=True,\n",
       "                                                                                            with_std=True)),\n",
       "                                                                            ('extratreesregressor',\n",
       "                                                                             ExtraTreesRegressor(bootstrap=False,\n",
       "                                                                                                 ccp_alpha=0.0,\n",
       "                                                                                                 criterion='mse',\n",
       "                                                                                                 max_depth=None,\n",
       "                                                                                                 max_features='auto',\n",
       "                                                                                                 max_leaf_nodes=None,\n",
       "                                                                                                 max_...\n",
       "            ('Western Bulldogs', 2016, 25),\n",
       "            ('Western Bulldogs', 2016, 26),\n",
       "            ('Western Bulldogs', 2016, 27)],\n",
       "           length=16862))),\n",
       "                                                                         ('timeseriesregressor',\n",
       "                                                                          TimeSeriesRegressor(confidence=False,\n",
       "                                                                                              exog_cols=['at_home',\n",
       "                                                                                                         'oppo_cum_percent'],\n",
       "                                                                                              order=(6,\n",
       "                                                                                                     0,\n",
       "                                                                                                     1),\n",
       "                                                                                              stats_model=<class 'statsmodels.tsa.arima_model.ARIMA'>))],\n",
       "                                                                  verbose=False)],\n",
       "                                             store_train_meta_features=False,\n",
       "                                             use_features_in_secondary=False,\n",
       "                                             verbose=0))"
      ]
     },
     "execution_count": 4,
     "metadata": {},
     "output_type": "execute_result"
    }
   ],
   "source": [
    "se = StackingEstimator()\n",
    "se.fit(*data.train_data)"
   ]
  },
  {
   "cell_type": "markdown",
   "metadata": {},
   "source": [
    "## ELO"
   ]
  },
  {
   "cell_type": "code",
   "execution_count": 5,
   "metadata": {
    "ExecuteTime": {
     "end_time": "2020-01-16T21:59:54.016216Z",
     "start_time": "2020-01-16T21:59:30.377137Z"
    }
   },
   "outputs": [
    {
     "data": {
      "text/plain": [
       "ConfidenceEstimator(name='confidence_estimator',\n",
       "                    pipeline=Pipeline(memory=None,\n",
       "                                      steps=[('teammatchtomatchconverter',\n",
       "                                              TeammatchToMatchConverter(match_cols=['date',\n",
       "                                                                                    'venue',\n",
       "                                                                                    'round_type'])),\n",
       "                                             ('eloregressor',\n",
       "                                              EloRegressor(home_ground_advantage=9,\n",
       "                                                           k=35.6, m=130, s=250,\n",
       "                                                           season_carryover=0.575,\n",
       "                                                           x=0.49))],\n",
       "                                      verbose=False))"
      ]
     },
     "execution_count": 5,
     "metadata": {},
     "output_type": "execute_result"
    }
   ],
   "source": [
    "elo = ConfidenceEstimator()\n",
    "\n",
    "data.train_year_range = TRAIN_YEAR_RANGE\n",
    "elo.fit(*data.train_data)"
   ]
  },
  {
   "cell_type": "code",
   "execution_count": 6,
   "metadata": {
    "ExecuteTime": {
     "end_time": "2020-01-16T22:00:00.493208Z",
     "start_time": "2020-01-16T21:59:54.037324Z"
    },
    "scrolled": true
   },
   "outputs": [
    {
     "data": {
      "text/plain": [
       "13.280320786654055"
      ]
     },
     "execution_count": 6,
     "metadata": {},
     "output_type": "execute_result"
    }
   ],
   "source": [
    "bits = bits_scorer(elo, *data.test_data)\n",
    "bits"
   ]
  },
  {
   "cell_type": "markdown",
   "metadata": {},
   "source": [
    "## Time-series model"
   ]
  },
  {
   "cell_type": "code",
   "execution_count": 7,
   "metadata": {
    "ExecuteTime": {
     "end_time": "2020-01-16T22:00:56.773190Z",
     "start_time": "2020-01-16T22:00:00.501063Z"
    },
    "scrolled": true
   },
   "outputs": [
    {
     "data": {
      "text/plain": [
       "TimeSeriesRegressor(confidence=True, exog_cols=[], order=(6, 0, 1),\n",
       "                    stats_model=<class 'statsmodels.tsa.arima_model.ARIMA'>)"
      ]
     },
     "execution_count": 7,
     "metadata": {},
     "output_type": "execute_result"
    }
   ],
   "source": [
    "# Based on StackingEstimator predictions\n",
    "\n",
    "tsr = TimeSeriesRegressor(sm.tsa.ARIMA, order=(6, 0, 1), confidence=True)\n",
    "\n",
    "data.train_year_range = TRAIN_YEAR_RANGE\n",
    "X_train, y_train = data.train_data\n",
    "X_train_filt = X_train.query('year >= @se.min_year')\n",
    "\n",
    "X_train_ts = pd.DataFrame(\n",
    "    {\n",
    "        'pred_margin': se.predict(X_train),\n",
    "        'date': X_train_filt['date'],\n",
    "        'team': X_train_filt['team'],\n",
    "    },\n",
    "    index=X_train_filt.index,\n",
    ")\n",
    "\n",
    "tsr.fit(X_train_ts, y_train)"
   ]
  },
  {
   "cell_type": "code",
   "execution_count": 8,
   "metadata": {
    "ExecuteTime": {
     "end_time": "2020-01-16T22:00:59.557594Z",
     "start_time": "2020-01-16T22:00:56.800193Z"
    }
   },
   "outputs": [
    {
     "data": {
      "text/plain": [
       "-1.3526412966339958"
      ]
     },
     "execution_count": 8,
     "metadata": {},
     "output_type": "execute_result"
    }
   ],
   "source": [
    "bits = bits_scorer(tsr, *data.test_data)\n",
    "bits"
   ]
  },
  {
   "cell_type": "code",
   "execution_count": 9,
   "metadata": {
    "ExecuteTime": {
     "end_time": "2020-01-16T22:02:21.198922Z",
     "start_time": "2020-01-16T22:00:59.571012Z"
    }
   },
   "outputs": [
    {
     "name": "stderr",
     "output_type": "stream",
     "text": [
      "/usr/local/lib/python3.7/site-packages/statsmodels/tsa/tsatools.py:668: RuntimeWarning: overflow encountered in exp\n",
      "  newparams = ((1-np.exp(-params))/(1+np.exp(-params))).copy()\n",
      "/usr/local/lib/python3.7/site-packages/statsmodels/tsa/tsatools.py:668: RuntimeWarning: invalid value encountered in true_divide\n",
      "  newparams = ((1-np.exp(-params))/(1+np.exp(-params))).copy()\n",
      "/usr/local/lib/python3.7/site-packages/statsmodels/tsa/tsatools.py:669: RuntimeWarning: overflow encountered in exp\n",
      "  tmp = ((1-np.exp(-params))/(1+np.exp(-params))).copy()\n",
      "/usr/local/lib/python3.7/site-packages/statsmodels/tsa/tsatools.py:669: RuntimeWarning: invalid value encountered in true_divide\n",
      "  tmp = ((1-np.exp(-params))/(1+np.exp(-params))).copy()\n"
     ]
    },
    {
     "data": {
      "text/plain": [
       "TimeSeriesRegressor(confidence=True, exog_cols=['at_home', 'oppo_cum_percent'],\n",
       "                    order=(6, 0, 1),\n",
       "                    stats_model=<class 'statsmodels.tsa.arima_model.ARIMA'>)"
      ]
     },
     "execution_count": 9,
     "metadata": {},
     "output_type": "execute_result"
    }
   ],
   "source": [
    "# Based on raw time-series data\n",
    "\n",
    "tsr = TimeSeriesRegressor(\n",
    "    sm.tsa.ARIMA, order=(6, 0, 1), exog_cols=[\"at_home\", \"oppo_cum_percent\"], confidence=True\n",
    ")\n",
    "tsr.fit(*data.train_data)"
   ]
  },
  {
   "cell_type": "code",
   "execution_count": 10,
   "metadata": {
    "ExecuteTime": {
     "end_time": "2020-01-16T22:02:22.702674Z",
     "start_time": "2020-01-16T22:02:21.209051Z"
    }
   },
   "outputs": [
    {
     "data": {
      "text/plain": [
       "-1.9456151833768789"
      ]
     },
     "execution_count": 10,
     "metadata": {},
     "output_type": "execute_result"
    }
   ],
   "source": [
    "bits = bits_scorer(tsr, *data.test_data)\n",
    "bits"
   ]
  },
  {
   "cell_type": "markdown",
   "metadata": {},
   "source": [
    "## ML algorithms"
   ]
  },
  {
   "cell_type": "markdown",
   "metadata": {},
   "source": [
    "### Code setup"
   ]
  },
  {
   "cell_type": "code",
   "execution_count": 5,
   "metadata": {
    "ExecuteTime": {
     "end_time": "2020-01-17T11:36:18.475607Z",
     "start_time": "2020-01-17T11:36:14.011427Z"
    }
   },
   "outputs": [],
   "source": [
    "# train/validation/test data for models that use full data set\n",
    "data.train_year_range = TRAIN_YEAR_RANGE\n",
    "X_train, _y_train = data.train_data\n",
    "# Arbitrarily making draws losses, because why not\n",
    "y_train = (_y_train > 0).astype(int)\n",
    "\n",
    "_X_test, _y_test = data.test_data\n",
    "test_years = _X_test['year'].drop_duplicates().sort_values()\n",
    "\n",
    "# Separating the two default test years into validation & test sets,\n",
    "# so we can use the validation set for early stopping during XGB training\n",
    "X_val = _X_test.query('year < @test_years.iloc[-1]')\n",
    "X_test = _X_test.query('year == @test_years.iloc[-1]')\n",
    "\n",
    "y_win = (_y_test > 0).astype(int)\n",
    "y_val = y_win.loc[(slice(None), test_years.iloc[:-1], slice(None))]\n",
    "y_test = y_win.loc[(slice(None), test_years.iloc[-1:], slice(None))]\n",
    "\n",
    "\n",
    "# train/validation/test data for models based on main model's predictions\n",
    "X_train_se = se.predict(data.train_data[0]).reshape(-1, 1)\n",
    "y_train_se = y_train.loc[(slice(None), slice(1965, None), slice(None))]\n",
    "X_pred = pd.DataFrame(se.predict(data.test_data[0]), columns=['pred_margin'], index=data.test_data[0].index)\n",
    "X_val_se = X_pred.loc[(slice(None), test_years.iloc[:-1], slice(None)), :]\n",
    "\n",
    "X_test_se = X_pred.loc[(slice(None), test_years.iloc[-1:], slice(None)), :]"
   ]
  },
  {
   "cell_type": "markdown",
   "metadata": {},
   "source": [
    "#### Base bits calculation"
   ]
  },
  {
   "cell_type": "code",
   "execution_count": 6,
   "metadata": {
    "ExecuteTime": {
     "end_time": "2020-01-17T11:36:18.595499Z",
     "start_time": "2020-01-17T11:36:18.478157Z"
    },
    "scrolled": true
   },
   "outputs": [],
   "source": [
    "LOG_BASE = 2\n",
    "# For regressors that might try to predict negative values or 0,\n",
    "# we need a slightly positive minimum to not get errors when calculating\n",
    "# logarithms\n",
    "MIN_VAL = 1 * 10 ** -10\n",
    "\n",
    "\n",
    "def _positive_pred(y_pred):\n",
    "    min_array = np.repeat(MIN_VAL, len(y_pred))\n",
    "    return np.where(y_pred <= 0, min_array, y_pred)\n",
    "\n",
    "\n",
    "def _draw_bits(y_pred, y_true):\n",
    "    return 1 + (0.5 * np.log2(_positive_pred(y_pred * (1 - y_pred))))\n",
    "\n",
    "def _win_bits(y_pred, y_true):\n",
    "    return 1 + np.log2(_positive_pred(y_pred))\n",
    "\n",
    "def _loss_bits(y_pred, y_true):\n",
    "    return 1 + np.log2(_positive_pred(1 - y_pred))\n",
    "\n",
    "# Raw bits calculations per http://probabilistic-footy.monash.edu/~footy/about.shtml\n",
    "def calculate_bits(y_pred, y_true):\n",
    "    return np.where(\n",
    "        y_true == 0.5,\n",
    "        _draw_bits(y_pred, y_true),\n",
    "        np.where(\n",
    "            y_true == 1.0,\n",
    "            _win_bits(y_pred, y_true),\n",
    "            _loss_bits(y_pred, y_true)\n",
    "        )\n",
    "    )\n",
    "\n",
    "\n",
    "def bits_error(y_pred, y_true):\n",
    "    # We adjust bits calculation to make a valid ML error formula such that 0 represents a correct prediction,\n",
    "    # and the further off the prediction the higher the error value.\n",
    "    return np.where(\n",
    "        y_true == 0.5,\n",
    "        -1 * _draw_bits(y_pred, y_true),\n",
    "        np.where(\n",
    "            y_true == 1.0,\n",
    "            1 - _win_bits(y_pred, y_true),\n",
    "            1 + (-1 * _loss_bits(y_pred, y_true)),\n",
    "        ),\n",
    "    )"
   ]
  },
  {
   "cell_type": "markdown",
   "metadata": {},
   "source": [
    "### XGBoost"
   ]
  },
  {
   "cell_type": "markdown",
   "metadata": {},
   "source": [
    "#### Code setup"
   ]
  },
  {
   "cell_type": "code",
   "execution_count": 7,
   "metadata": {
    "ExecuteTime": {
     "end_time": "2020-01-17T00:14:03.834007Z",
     "start_time": "2020-01-17T00:14:03.275944Z"
    }
   },
   "outputs": [],
   "source": [
    "def _draw_bits_gradient(y_pred, y_true):\n",
    "    return (y_pred - 0.5) / (math.log(2) * (y_pred - y_pred**2))\n",
    "\n",
    "def _win_bits_gradient(y_pred, y_true):\n",
    "    return -1 / (math.log(2) * y_pred)\n",
    "\n",
    "def _loss_bits_gradient(y_pred, y_true):\n",
    "    return 1 / (math.log(2) * (1 - y_pred))\n",
    "\n",
    "def _bits_gradient(y_pred, y_true):\n",
    "    return np.where(\n",
    "        y_true == 0.5,\n",
    "        _draw_bits_gradient(y_pred, y_true),\n",
    "        np.where(\n",
    "            y_true == 1.0,\n",
    "            _win_bits_gradient(y_pred, y_true),\n",
    "            _loss_bits_gradient(y_pred, y_true),\n",
    "        ),\n",
    "    )\n",
    "\n",
    "\n",
    "def _draw_bits_hessian(y_pred, y_true):\n",
    "    return (y_pred**2 - y_pred + 0.5) / (math.log(2) * y_pred**2 * (y_pred - 1)**2)\n",
    "\n",
    "def _win_bits_hessian(y_pred, y_true):\n",
    "    return 1 / (math.log(2) * y_pred**2)\n",
    "\n",
    "def _loss_bits_hessian(y_pred, y_true):\n",
    "    return 1 / (math.log(2) * (1 - y_pred)**2)\n",
    "\n",
    "def _bits_hessian(y_pred, y_true):\n",
    "    return np.where(\n",
    "        y_true == 0.5,\n",
    "        _draw_bits_hessian(y_pred, y_true),\n",
    "        np.where(\n",
    "            y_true == 1.0,\n",
    "            _win_bits_hessian(y_pred, y_true),\n",
    "            _loss_bits_hessian(y_pred, y_true),\n",
    "        ),\n",
    "    )\n",
    "\n",
    "\n",
    "# Per documentation, follows typical Scikit-learn order (true, pred), but rest of XGB callbacks\n",
    "# keep XGB default order (pred, true), so all other functions follow the latter convention\n",
    "# to minimise inconsistency\n",
    "def bits_objective(y_true, y_pred):\n",
    "    return _bits_gradient(y_pred, y_true), _bits_hessian(y_pred, y_true)\n",
    "\n",
    "\n",
    "def bits_metric(y_pred, y_true_matrix):\n",
    "    y_true = y_true_matrix.get_label()\n",
    "\n",
    "    return 'mean_bits_error', bits_error(y_pred, y_true).mean()"
   ]
  },
  {
   "cell_type": "code",
   "execution_count": 14,
   "metadata": {
    "ExecuteTime": {
     "end_time": "2020-01-16T22:02:25.517930Z",
     "start_time": "2020-01-16T22:02:25.268213Z"
    },
    "scrolled": true
   },
   "outputs": [
    {
     "data": {
      "text/html": [
       "<div>\n",
       "<style scoped>\n",
       "    .dataframe tbody tr th:only-of-type {\n",
       "        vertical-align: middle;\n",
       "    }\n",
       "\n",
       "    .dataframe tbody tr th {\n",
       "        vertical-align: top;\n",
       "    }\n",
       "\n",
       "    .dataframe thead th {\n",
       "        text-align: right;\n",
       "    }\n",
       "</style>\n",
       "<table border=\"1\" class=\"dataframe\">\n",
       "  <thead>\n",
       "    <tr style=\"text-align: right;\">\n",
       "      <th></th>\n",
       "      <th>result_label</th>\n",
       "      <th>conf_win</th>\n",
       "      <th>bits_metric</th>\n",
       "      <th>value</th>\n",
       "    </tr>\n",
       "  </thead>\n",
       "  <tbody>\n",
       "    <tr>\n",
       "      <th>0</th>\n",
       "      <td>loss</td>\n",
       "      <td>0.374540</td>\n",
       "      <td>bits</td>\n",
       "      <td>0.322989</td>\n",
       "    </tr>\n",
       "    <tr>\n",
       "      <th>1</th>\n",
       "      <td>loss</td>\n",
       "      <td>0.950714</td>\n",
       "      <td>bits</td>\n",
       "      <td>-3.342687</td>\n",
       "    </tr>\n",
       "    <tr>\n",
       "      <th>2</th>\n",
       "      <td>loss</td>\n",
       "      <td>0.731994</td>\n",
       "      <td>bits</td>\n",
       "      <td>-0.899662</td>\n",
       "    </tr>\n",
       "    <tr>\n",
       "      <th>3</th>\n",
       "      <td>loss</td>\n",
       "      <td>0.598658</td>\n",
       "      <td>bits</td>\n",
       "      <td>-0.317098</td>\n",
       "    </tr>\n",
       "    <tr>\n",
       "      <th>4</th>\n",
       "      <td>loss</td>\n",
       "      <td>0.156019</td>\n",
       "      <td>bits</td>\n",
       "      <td>0.755283</td>\n",
       "    </tr>\n",
       "    <tr>\n",
       "      <th>...</th>\n",
       "      <td>...</td>\n",
       "      <td>...</td>\n",
       "      <td>...</td>\n",
       "      <td>...</td>\n",
       "    </tr>\n",
       "    <tr>\n",
       "      <th>1195</th>\n",
       "      <td>win</td>\n",
       "      <td>0.522243</td>\n",
       "      <td>bits_hess</td>\n",
       "      <td>5.289673</td>\n",
       "    </tr>\n",
       "    <tr>\n",
       "      <th>1196</th>\n",
       "      <td>win</td>\n",
       "      <td>0.769994</td>\n",
       "      <td>bits_hess</td>\n",
       "      <td>2.433326</td>\n",
       "    </tr>\n",
       "    <tr>\n",
       "      <th>1197</th>\n",
       "      <td>win</td>\n",
       "      <td>0.215821</td>\n",
       "      <td>bits_hess</td>\n",
       "      <td>30.973268</td>\n",
       "    </tr>\n",
       "    <tr>\n",
       "      <th>1198</th>\n",
       "      <td>win</td>\n",
       "      <td>0.622890</td>\n",
       "      <td>bits_hess</td>\n",
       "      <td>3.718358</td>\n",
       "    </tr>\n",
       "    <tr>\n",
       "      <th>1199</th>\n",
       "      <td>win</td>\n",
       "      <td>0.085347</td>\n",
       "      <td>bits_hess</td>\n",
       "      <td>198.058409</td>\n",
       "    </tr>\n",
       "  </tbody>\n",
       "</table>\n",
       "<p>1200 rows × 4 columns</p>\n",
       "</div>"
      ],
      "text/plain": [
       "     result_label  conf_win bits_metric       value\n",
       "0            loss  0.374540        bits    0.322989\n",
       "1            loss  0.950714        bits   -3.342687\n",
       "2            loss  0.731994        bits   -0.899662\n",
       "3            loss  0.598658        bits   -0.317098\n",
       "4            loss  0.156019        bits    0.755283\n",
       "...           ...       ...         ...         ...\n",
       "1195          win  0.522243   bits_hess    5.289673\n",
       "1196          win  0.769994   bits_hess    2.433326\n",
       "1197          win  0.215821   bits_hess   30.973268\n",
       "1198          win  0.622890   bits_hess    3.718358\n",
       "1199          win  0.085347   bits_hess  198.058409\n",
       "\n",
       "[1200 rows x 4 columns]"
      ]
     },
     "execution_count": 14,
     "metadata": {},
     "output_type": "execute_result"
    }
   ],
   "source": [
    "bits_df = (\n",
    "    pd\n",
    "    .DataFrame(\n",
    "        np.vstack((np.repeat([0, 0.5, 1], 100), np.random.uniform(low=0.0, high=1.0, size=300))).T,\n",
    "        columns=['result', 'conf_win']\n",
    "    )\n",
    "    .astype({'result': 'category'})\n",
    "    .assign(\n",
    "        bits=lambda df: calculate_bits(df['conf_win'], df['result']),\n",
    "        bits_error=lambda df: bits_error(df['conf_win'], df['result']),\n",
    "        bits_grad=lambda df: _bits_gradient(df['conf_win'], df['result']),\n",
    "        bits_hess=lambda df: _bits_hessian(df['conf_win'], df['result']),\n",
    "        result_label=lambda df: df['result'].astype(str).map({'1.0': 'win', '0.0': 'loss', '0.5': 'draw'}),\n",
    "    ).melt(\n",
    "        id_vars=['result_label', 'conf_win'],\n",
    "        value_vars=['bits', 'bits_error', 'bits_grad', 'bits_hess'],\n",
    "        var_name='bits_metric',\n",
    "    )\n",
    ")\n",
    "\n",
    "\n",
    "bits_df"
   ]
  },
  {
   "cell_type": "code",
   "execution_count": 15,
   "metadata": {
    "ExecuteTime": {
     "end_time": "2020-01-16T22:02:27.482145Z",
     "start_time": "2020-01-16T22:02:25.523862Z"
    },
    "scrolled": true
   },
   "outputs": [
    {
     "data": {
      "text/plain": [
       "<seaborn.axisgrid.FacetGrid at 0x7f38217df690>"
      ]
     },
     "execution_count": 15,
     "metadata": {},
     "output_type": "execute_result"
    },
    {
     "data": {
      "image/png": "[encoded data removed]",
      "text/plain": [
       "<Figure size 957.875x432 with 4 Axes>"
      ]
     },
     "metadata": {
      "needs_background": "light"
     },
     "output_type": "display_data"
    }
   ],
   "source": [
    "sns.relplot(\n",
    "    data=bits_df,\n",
    "    x='conf_win',\n",
    "    y='value',\n",
    "    col=\"bits_metric\",\n",
    "    col_wrap=2,\n",
    "    hue='result_label',\n",
    "    kind='line',\n",
    "    height=3,\n",
    "    aspect=2,\n",
    "    facet_kws={'sharey': False, 'sharex': False},\n",
    ")"
   ]
  },
  {
   "cell_type": "markdown",
   "metadata": {},
   "source": [
    "#### XGBClassifier"
   ]
  },
  {
   "cell_type": "code",
   "execution_count": 16,
   "metadata": {
    "ExecuteTime": {
     "end_time": "2020-01-16T22:03:11.793327Z",
     "start_time": "2020-01-16T22:02:27.490833Z"
    },
    "scrolled": true
   },
   "outputs": [
    {
     "data": {
      "text/plain": [
       "Pipeline(memory=None,\n",
       "         steps=[('columndropper',\n",
       "                 ColumnDropper(cols_to_drop=['prev_match_oppo_team',\n",
       "                                             'oppo_prev_match_oppo_team',\n",
       "                                             'prev_match_at_home',\n",
       "                                             'oppo_prev_match_at_home',\n",
       "                                             'date'])),\n",
       "                ('correlationselector',\n",
       "                 CorrelationSelector(cols_to_keep=['team', 'oppo_team',\n",
       "                                                   'round_type', 'venue'],\n",
       "                                     labels=Adelaide          1991  1     86\n",
       "                        2    -23\n",
       "                        3     24\n",
       "                        4    -45\n",
       "                        5    -65\n",
       "                              ..\n",
       "Western Bulldogs  2016  23   -20\n",
       "                        24    47\n",
       "                        25    23...\n",
       "                 XGBClassifier(base_score=0.5, booster='gbtree',\n",
       "                               colsample_bylevel=1, colsample_bynode=1,\n",
       "                               colsample_bytree=1, gamma=0, learning_rate=0.1,\n",
       "                               max_delta_step=0, max_depth=3,\n",
       "                               min_child_weight=1, missing=None,\n",
       "                               n_estimators=100, n_jobs=1, nthread=None,\n",
       "                               objective='binary:logistic', random_state=42,\n",
       "                               reg_alpha=0, reg_lambda=1, scale_pos_weight=1,\n",
       "                               seed=None, silent=None, subsample=1,\n",
       "                               verbosity=1))],\n",
       "         verbose=False)"
      ]
     },
     "execution_count": 16,
     "metadata": {},
     "output_type": "execute_result"
    }
   ],
   "source": [
    "# Baseline without custom objective or metric\n",
    "\n",
    "xgbc = clone(ML_PIPELINE)\n",
    "# We don't need the DataFrameConverter\n",
    "xgbc.steps = xgbc.steps[1:]\n",
    "xgbc.steps[-1] = ('xgbclassifier', XGBClassifier(random_state=SEED),)\n",
    "\n",
    "xgbc.fit(X_train, y_train)"
   ]
  },
  {
   "cell_type": "code",
   "execution_count": 17,
   "metadata": {
    "ExecuteTime": {
     "end_time": "2020-01-16T22:03:12.726237Z",
     "start_time": "2020-01-16T22:03:11.797620Z"
    },
    "scrolled": true
   },
   "outputs": [
    {
     "data": {
      "text/plain": [
       "43.65319192687128"
      ]
     },
     "execution_count": 17,
     "metadata": {},
     "output_type": "execute_result"
    }
   ],
   "source": [
    "bits = bits_scorer(xgbc, X_test, y_test, proba=True)\n",
    "bits"
   ]
  },
  {
   "cell_type": "code",
   "execution_count": 280,
   "metadata": {
    "ExecuteTime": {
     "end_time": "2020-01-17T11:17:14.858931Z",
     "start_time": "2020-01-17T11:16:43.034282Z"
    },
    "scrolled": true
   },
   "outputs": [
    {
     "name": "stdout",
     "output_type": "stream",
     "text": [
      "[0]\tvalidation_0-error:0.371981\tvalidation_0-mean_bits_error:0.996387\n",
      "Multiple eval metrics have been passed: 'validation_0-mean_bits_error' will be used for early stopping.\n",
      "\n",
      "Will train until validation_0-mean_bits_error hasn't improved in 5 rounds.\n",
      "[1]\tvalidation_0-error:0.355072\tvalidation_0-mean_bits_error:0.992562\n",
      "[2]\tvalidation_0-error:0.364734\tvalidation_0-mean_bits_error:0.988947\n",
      "[3]\tvalidation_0-error:0.352657\tvalidation_0-mean_bits_error:0.985593\n",
      "[4]\tvalidation_0-error:0.357488\tvalidation_0-mean_bits_error:0.981866\n",
      "[5]\tvalidation_0-error:0.347826\tvalidation_0-mean_bits_error:0.978469\n",
      "[6]\tvalidation_0-error:0.355072\tvalidation_0-mean_bits_error:0.97544\n",
      "[7]\tvalidation_0-error:0.342995\tvalidation_0-mean_bits_error:0.972262\n",
      "[8]\tvalidation_0-error:0.352657\tvalidation_0-mean_bits_error:0.969467\n",
      "[9]\tvalidation_0-error:0.342995\tvalidation_0-mean_bits_error:0.96623\n",
      "[10]\tvalidation_0-error:0.347826\tvalidation_0-mean_bits_error:0.96333\n",
      "[11]\tvalidation_0-error:0.342995\tvalidation_0-mean_bits_error:0.960388\n",
      "[12]\tvalidation_0-error:0.342995\tvalidation_0-mean_bits_error:0.957548\n",
      "[13]\tvalidation_0-error:0.350242\tvalidation_0-mean_bits_error:0.954247\n",
      "[14]\tvalidation_0-error:0.350242\tvalidation_0-mean_bits_error:0.951689\n",
      "[15]\tvalidation_0-error:0.350242\tvalidation_0-mean_bits_error:0.94915\n",
      "[16]\tvalidation_0-error:0.355072\tvalidation_0-mean_bits_error:0.946065\n",
      "[17]\tvalidation_0-error:0.355072\tvalidation_0-mean_bits_error:0.943418\n",
      "[18]\tvalidation_0-error:0.355072\tvalidation_0-mean_bits_error:0.94038\n",
      "[19]\tvalidation_0-error:0.362319\tvalidation_0-mean_bits_error:0.938452\n",
      "[20]\tvalidation_0-error:0.359903\tvalidation_0-mean_bits_error:0.935984\n",
      "[21]\tvalidation_0-error:0.357488\tvalidation_0-mean_bits_error:0.934211\n",
      "[22]\tvalidation_0-error:0.357488\tvalidation_0-mean_bits_error:0.932332\n",
      "[23]\tvalidation_0-error:0.359903\tvalidation_0-mean_bits_error:0.929719\n",
      "[24]\tvalidation_0-error:0.357488\tvalidation_0-mean_bits_error:0.927379\n",
      "[25]\tvalidation_0-error:0.359903\tvalidation_0-mean_bits_error:0.925609\n",
      "[26]\tvalidation_0-error:0.364734\tvalidation_0-mean_bits_error:0.923674\n",
      "[27]\tvalidation_0-error:0.359903\tvalidation_0-mean_bits_error:0.921583\n",
      "[28]\tvalidation_0-error:0.359903\tvalidation_0-mean_bits_error:0.919434\n",
      "[29]\tvalidation_0-error:0.359903\tvalidation_0-mean_bits_error:0.917918\n",
      "[30]\tvalidation_0-error:0.362319\tvalidation_0-mean_bits_error:0.916475\n",
      "[31]\tvalidation_0-error:0.359903\tvalidation_0-mean_bits_error:0.915371\n",
      "[32]\tvalidation_0-error:0.357488\tvalidation_0-mean_bits_error:0.914187\n",
      "[33]\tvalidation_0-error:0.357488\tvalidation_0-mean_bits_error:0.912664\n",
      "[34]\tvalidation_0-error:0.357488\tvalidation_0-mean_bits_error:0.911081\n",
      "[35]\tvalidation_0-error:0.362319\tvalidation_0-mean_bits_error:0.90996\n",
      "[36]\tvalidation_0-error:0.355072\tvalidation_0-mean_bits_error:0.908918\n",
      "[37]\tvalidation_0-error:0.355072\tvalidation_0-mean_bits_error:0.907578\n",
      "[38]\tvalidation_0-error:0.352657\tvalidation_0-mean_bits_error:0.906714\n",
      "[39]\tvalidation_0-error:0.357488\tvalidation_0-mean_bits_error:0.905705\n",
      "[40]\tvalidation_0-error:0.352657\tvalidation_0-mean_bits_error:0.904391\n",
      "[41]\tvalidation_0-error:0.352657\tvalidation_0-mean_bits_error:0.903229\n",
      "[42]\tvalidation_0-error:0.347826\tvalidation_0-mean_bits_error:0.902454\n",
      "[43]\tvalidation_0-error:0.352657\tvalidation_0-mean_bits_error:0.901713\n",
      "[44]\tvalidation_0-error:0.355072\tvalidation_0-mean_bits_error:0.90066\n",
      "[45]\tvalidation_0-error:0.357488\tvalidation_0-mean_bits_error:0.899082\n",
      "[46]\tvalidation_0-error:0.357488\tvalidation_0-mean_bits_error:0.898817\n",
      "[47]\tvalidation_0-error:0.357488\tvalidation_0-mean_bits_error:0.897866\n",
      "[48]\tvalidation_0-error:0.357488\tvalidation_0-mean_bits_error:0.897038\n",
      "[49]\tvalidation_0-error:0.355072\tvalidation_0-mean_bits_error:0.896859\n",
      "[50]\tvalidation_0-error:0.350242\tvalidation_0-mean_bits_error:0.895869\n",
      "[51]\tvalidation_0-error:0.355072\tvalidation_0-mean_bits_error:0.895171\n",
      "[52]\tvalidation_0-error:0.350242\tvalidation_0-mean_bits_error:0.894523\n",
      "[53]\tvalidation_0-error:0.350242\tvalidation_0-mean_bits_error:0.893172\n",
      "[54]\tvalidation_0-error:0.347826\tvalidation_0-mean_bits_error:0.892741\n",
      "[55]\tvalidation_0-error:0.350242\tvalidation_0-mean_bits_error:0.891918\n",
      "[56]\tvalidation_0-error:0.347826\tvalidation_0-mean_bits_error:0.891721\n",
      "[57]\tvalidation_0-error:0.347826\tvalidation_0-mean_bits_error:0.890406\n",
      "[58]\tvalidation_0-error:0.347826\tvalidation_0-mean_bits_error:0.88999\n",
      "[59]\tvalidation_0-error:0.347826\tvalidation_0-mean_bits_error:0.889671\n",
      "[60]\tvalidation_0-error:0.345411\tvalidation_0-mean_bits_error:0.889408\n",
      "[61]\tvalidation_0-error:0.350242\tvalidation_0-mean_bits_error:0.888929\n",
      "[62]\tvalidation_0-error:0.345411\tvalidation_0-mean_bits_error:0.888327\n",
      "[63]\tvalidation_0-error:0.347826\tvalidation_0-mean_bits_error:0.887677\n",
      "[64]\tvalidation_0-error:0.347826\tvalidation_0-mean_bits_error:0.887072\n",
      "[65]\tvalidation_0-error:0.347826\tvalidation_0-mean_bits_error:0.886726\n",
      "[66]\tvalidation_0-error:0.345411\tvalidation_0-mean_bits_error:0.884981\n",
      "[67]\tvalidation_0-error:0.345411\tvalidation_0-mean_bits_error:0.884812\n",
      "[68]\tvalidation_0-error:0.345411\tvalidation_0-mean_bits_error:0.883486\n",
      "[69]\tvalidation_0-error:0.342995\tvalidation_0-mean_bits_error:0.883075\n",
      "[70]\tvalidation_0-error:0.342995\tvalidation_0-mean_bits_error:0.882776\n",
      "[71]\tvalidation_0-error:0.345411\tvalidation_0-mean_bits_error:0.882374\n",
      "[72]\tvalidation_0-error:0.338164\tvalidation_0-mean_bits_error:0.881995\n",
      "[73]\tvalidation_0-error:0.342995\tvalidation_0-mean_bits_error:0.881864\n",
      "[74]\tvalidation_0-error:0.345411\tvalidation_0-mean_bits_error:0.880879\n",
      "[75]\tvalidation_0-error:0.345411\tvalidation_0-mean_bits_error:0.880706\n",
      "[76]\tvalidation_0-error:0.345411\tvalidation_0-mean_bits_error:0.880254\n",
      "[77]\tvalidation_0-error:0.342995\tvalidation_0-mean_bits_error:0.879915\n",
      "[78]\tvalidation_0-error:0.34058\tvalidation_0-mean_bits_error:0.879208\n",
      "[79]\tvalidation_0-error:0.338164\tvalidation_0-mean_bits_error:0.87821\n",
      "[80]\tvalidation_0-error:0.342995\tvalidation_0-mean_bits_error:0.878404\n",
      "[81]\tvalidation_0-error:0.342995\tvalidation_0-mean_bits_error:0.878715\n",
      "[82]\tvalidation_0-error:0.342995\tvalidation_0-mean_bits_error:0.878413\n",
      "[83]\tvalidation_0-error:0.345411\tvalidation_0-mean_bits_error:0.878145\n",
      "[84]\tvalidation_0-error:0.345411\tvalidation_0-mean_bits_error:0.87801\n",
      "[85]\tvalidation_0-error:0.347826\tvalidation_0-mean_bits_error:0.876657\n",
      "[86]\tvalidation_0-error:0.350242\tvalidation_0-mean_bits_error:0.876495\n",
      "[87]\tvalidation_0-error:0.350242\tvalidation_0-mean_bits_error:0.876209\n",
      "[88]\tvalidation_0-error:0.350242\tvalidation_0-mean_bits_error:0.875372\n",
      "[89]\tvalidation_0-error:0.350242\tvalidation_0-mean_bits_error:0.874928\n",
      "[90]\tvalidation_0-error:0.350242\tvalidation_0-mean_bits_error:0.874802\n",
      "[91]\tvalidation_0-error:0.350242\tvalidation_0-mean_bits_error:0.873488\n",
      "[92]\tvalidation_0-error:0.350242\tvalidation_0-mean_bits_error:0.872426\n",
      "[93]\tvalidation_0-error:0.347826\tvalidation_0-mean_bits_error:0.87204\n",
      "[94]\tvalidation_0-error:0.347826\tvalidation_0-mean_bits_error:0.872105\n",
      "[95]\tvalidation_0-error:0.347826\tvalidation_0-mean_bits_error:0.870825\n",
      "[96]\tvalidation_0-error:0.347826\tvalidation_0-mean_bits_error:0.870933\n",
      "[97]\tvalidation_0-error:0.350242\tvalidation_0-mean_bits_error:0.870525\n",
      "[98]\tvalidation_0-error:0.347826\tvalidation_0-mean_bits_error:0.869306\n",
      "[99]\tvalidation_0-error:0.345411\tvalidation_0-mean_bits_error:0.868964\n"
     ]
    },
    {
     "data": {
      "text/plain": [
       "Pipeline(memory=None,\n",
       "         steps=[('columndropper',\n",
       "                 ColumnDropper(cols_to_drop=['prev_match_oppo_team',\n",
       "                                             'oppo_prev_match_oppo_team',\n",
       "                                             'prev_match_at_home',\n",
       "                                             'oppo_prev_match_at_home',\n",
       "                                             'date'])),\n",
       "                ('correlationselector',\n",
       "                 CorrelationSelector(cols_to_keep=['team', 'oppo_team',\n",
       "                                                   'round_type', 'venue'],\n",
       "                                     labels=Adelaide          1991  1     86\n",
       "                        2    -23\n",
       "                        3     24\n",
       "                        4    -45\n",
       "                        5    -65\n",
       "                              ..\n",
       "Western Bulldogs  2016  23   -20\n",
       "                        24    47\n",
       "                        25    23...\n",
       "                 XGBClassifier(base_score=0.5, booster='gbtree',\n",
       "                               colsample_bylevel=1, colsample_bynode=1,\n",
       "                               colsample_bytree=1, gamma=0, learning_rate=0.1,\n",
       "                               max_delta_step=0, max_depth=3,\n",
       "                               min_child_weight=1, missing=None,\n",
       "                               n_estimators=100, n_jobs=1, nthread=None,\n",
       "                               objective='binary:logistic', random_state=42,\n",
       "                               reg_alpha=0, reg_lambda=1, scale_pos_weight=1,\n",
       "                               seed=None, silent=None, subsample=1,\n",
       "                               verbosity=1))],\n",
       "         verbose=False)"
      ]
     },
     "execution_count": 280,
     "metadata": {},
     "output_type": "execute_result"
    }
   ],
   "source": [
    "# XGB with custom objective and metric\n",
    "\n",
    "X_val_trans = xgbc[:-1].transform(X_val)\n",
    "\n",
    "xgbc.set_params(xgbclassifier__objective=bits_objective)\n",
    "xgbc.fit(\n",
    "    X_train,\n",
    "    y_train,\n",
    "    xgbclassifier__eval_metric=bits_metric,\n",
    "    xgbclassifier__eval_set=[(X_val_trans, y_val)],\n",
    "    xgbclassifier__early_stopping_rounds=5,\n",
    ")"
   ]
  },
  {
   "cell_type": "code",
   "execution_count": 284,
   "metadata": {
    "ExecuteTime": {
     "end_time": "2020-01-17T11:19:46.941290Z",
     "start_time": "2020-01-17T11:19:45.737287Z"
    }
   },
   "outputs": [
    {
     "data": {
      "text/plain": [
       "41.478286238536334"
      ]
     },
     "execution_count": 284,
     "metadata": {},
     "output_type": "execute_result"
    }
   ],
   "source": [
    "bits = bits_scorer(xgbc, X_test, y_test, proba=True)\n",
    "bits"
   ]
  },
  {
   "cell_type": "code",
   "execution_count": 20,
   "metadata": {
    "ExecuteTime": {
     "end_time": "2020-01-16T22:04:05.176953Z",
     "start_time": "2020-01-16T22:03:59.706067Z"
    },
    "scrolled": true
   },
   "outputs": [
    {
     "name": "stdout",
     "output_type": "stream",
     "text": [
      "[0]\tvalidation_0-error:0.309179\tvalidation_0-mean_bits_error:0.986686\n",
      "Multiple eval metrics have been passed: 'validation_0-mean_bits_error' will be used for early stopping.\n",
      "\n",
      "Will train until validation_0-mean_bits_error hasn't improved in 5 rounds.\n",
      "[1]\tvalidation_0-error:0.309179\tvalidation_0-mean_bits_error:0.973975\n",
      "[2]\tvalidation_0-error:0.309179\tvalidation_0-mean_bits_error:0.961926\n",
      "[3]\tvalidation_0-error:0.309179\tvalidation_0-mean_bits_error:0.950604\n",
      "[4]\tvalidation_0-error:0.309179\tvalidation_0-mean_bits_error:0.940074\n",
      "[5]\tvalidation_0-error:0.309179\tvalidation_0-mean_bits_error:0.930404\n",
      "[6]\tvalidation_0-error:0.309179\tvalidation_0-mean_bits_error:0.921662\n",
      "[7]\tvalidation_0-error:0.309179\tvalidation_0-mean_bits_error:0.913918\n",
      "[8]\tvalidation_0-error:0.309179\tvalidation_0-mean_bits_error:0.907243\n",
      "[9]\tvalidation_0-error:0.309179\tvalidation_0-mean_bits_error:0.901705\n",
      "[10]\tvalidation_0-error:0.309179\tvalidation_0-mean_bits_error:0.897375\n",
      "[11]\tvalidation_0-error:0.309179\tvalidation_0-mean_bits_error:0.894318\n",
      "[12]\tvalidation_0-error:0.309179\tvalidation_0-mean_bits_error:0.892599\n",
      "[13]\tvalidation_0-error:0.309179\tvalidation_0-mean_bits_error:0.892277\n",
      "[14]\tvalidation_0-error:0.309179\tvalidation_0-mean_bits_error:0.89341\n",
      "[15]\tvalidation_0-error:0.309179\tvalidation_0-mean_bits_error:0.896047\n",
      "[16]\tvalidation_0-error:0.309179\tvalidation_0-mean_bits_error:0.900233\n",
      "[17]\tvalidation_0-error:0.309179\tvalidation_0-mean_bits_error:0.906006\n",
      "[18]\tvalidation_0-error:0.309179\tvalidation_0-mean_bits_error:0.913394\n",
      "Stopping. Best iteration:\n",
      "[13]\tvalidation_0-error:0.309179\tvalidation_0-mean_bits_error:0.892277\n",
      "\n"
     ]
    },
    {
     "data": {
      "text/plain": [
       "Pipeline(memory=None,\n",
       "         steps=[('standardscaler',\n",
       "                 StandardScaler(copy=True, with_mean=True, with_std=True)),\n",
       "                ('xgbclassifier',\n",
       "                 XGBClassifier(base_score=0.5, booster='gbtree',\n",
       "                               colsample_bylevel=1, colsample_bynode=1,\n",
       "                               colsample_bytree=1, gamma=0, learning_rate=0.1,\n",
       "                               max_delta_step=0, max_depth=3,\n",
       "                               min_child_weight=1, missing=None,\n",
       "                               n_estimators=100, n_jobs=1, nthread=None,\n",
       "                               objective='binary:logistic', random_state=42,\n",
       "                               reg_alpha=0, reg_lambda=1, scale_pos_weight=1,\n",
       "                               seed=None, silent=None, subsample=1,\n",
       "                               verbosity=1))],\n",
       "         verbose=False)"
      ]
     },
     "execution_count": 20,
     "metadata": {},
     "output_type": "execute_result"
    }
   ],
   "source": [
    "# XGB with custom objective and metric, based on StackingEstimator predictions\n",
    "\n",
    "xgb = make_pipeline(StandardScaler(), XGBClassifier(random_state=SEED, objective=bits_objective))\n",
    "\n",
    "X_val_trans = xgb[:-1].fit_transform(X_val_se)\n",
    "\n",
    "xgb.fit(\n",
    "    X_train_se,\n",
    "    y_train_se,\n",
    "    xgbclassifier__eval_metric=bits_metric,\n",
    "    xgbclassifier__eval_set=[(X_val_trans, y_val)],\n",
    "    xgbclassifier__early_stopping_rounds=5,\n",
    ")"
   ]
  },
  {
   "cell_type": "code",
   "execution_count": 21,
   "metadata": {
    "ExecuteTime": {
     "end_time": "2020-01-16T22:04:05.802543Z",
     "start_time": "2020-01-16T22:04:05.183105Z"
    }
   },
   "outputs": [
    {
     "data": {
      "text/plain": [
       "33.57497090471635"
      ]
     },
     "execution_count": 21,
     "metadata": {},
     "output_type": "execute_result"
    }
   ],
   "source": [
    "bits = bits_scorer(\n",
    "    xgb,\n",
    "    X_test_se,\n",
    "    y_test,\n",
    "    proba=True,\n",
    "    # Temporarily adding info_df to allow reshaping of X even when it doesn't have\n",
    "    # the usual categorical columns\n",
    "    info_df=data.test_data[0].loc[\n",
    "        (slice(None), test_years.iloc[-1], slice(None)),\n",
    "        ['team', 'oppo_team', 'year', 'round_number', 'at_home']\n",
    "    ],\n",
    ")\n",
    "bits"
   ]
  },
  {
   "cell_type": "markdown",
   "metadata": {},
   "source": [
    "#### XGBRegressor"
   ]
  },
  {
   "cell_type": "code",
   "execution_count": 22,
   "metadata": {
    "ExecuteTime": {
     "end_time": "2020-01-16T22:04:45.360517Z",
     "start_time": "2020-01-16T22:04:05.807670Z"
    },
    "scrolled": true
   },
   "outputs": [
    {
     "name": "stderr",
     "output_type": "stream",
     "text": [
      "/usr/local/lib/python3.7/site-packages/xgboost/core.py:587: FutureWarning: Series.base is deprecated and will be removed in a future version\n",
      "  if getattr(data, 'base', None) is not None and \\\n",
      "/usr/local/lib/python3.7/site-packages/xgboost/core.py:588: FutureWarning: Series.base is deprecated and will be removed in a future version\n",
      "  data.base is not None and isinstance(data, np.ndarray) \\\n"
     ]
    },
    {
     "data": {
      "text/plain": [
       "Pipeline(memory=None,\n",
       "         steps=[('columndropper',\n",
       "                 ColumnDropper(cols_to_drop=['prev_match_oppo_team',\n",
       "                                             'oppo_prev_match_oppo_team',\n",
       "                                             'prev_match_at_home',\n",
       "                                             'oppo_prev_match_at_home',\n",
       "                                             'date'])),\n",
       "                ('correlationselector',\n",
       "                 CorrelationSelector(cols_to_keep=['team', 'oppo_team',\n",
       "                                                   'round_type', 'venue'],\n",
       "                                     labels=Adelaide          1991  1     86\n",
       "                        2    -23\n",
       "                        3     24\n",
       "                        4    -45\n",
       "                        5    -65\n",
       "                              ..\n",
       "Western Bulldogs  2016  23   -20\n",
       "                        24    47\n",
       "                        25    23...\n",
       "                              colsample_bylevel=1, colsample_bynode=1,\n",
       "                              colsample_bytree=1, gamma=0,\n",
       "                              importance_type='gain', learning_rate=0.1,\n",
       "                              max_delta_step=0, max_depth=3, min_child_weight=1,\n",
       "                              missing=None, n_estimators=100, n_jobs=1,\n",
       "                              nthread=None, objective='reg:squarederror',\n",
       "                              random_state=42, reg_alpha=0, reg_lambda=1,\n",
       "                              scale_pos_weight=1, seed=None, silent=None,\n",
       "                              subsample=1, verbosity=1))],\n",
       "         verbose=False)"
      ]
     },
     "execution_count": 22,
     "metadata": {},
     "output_type": "execute_result"
    }
   ],
   "source": [
    "# Baseline without custom objective or metric\n",
    "\n",
    "xgbr = clone(ML_PIPELINE)\n",
    "# We don't need the DataFrameConverter for this\n",
    "xgbr.steps = xgbr.steps[1:]\n",
    "xgbr.steps[-1] = ('xgbregressor', XGBRegressor(random_state=SEED, objective='reg:squarederror'))\n",
    "\n",
    "xgbr.fit(X_train, y_train)"
   ]
  },
  {
   "cell_type": "code",
   "execution_count": 23,
   "metadata": {
    "ExecuteTime": {
     "end_time": "2020-01-16T22:04:46.264300Z",
     "start_time": "2020-01-16T22:04:45.372698Z"
    }
   },
   "outputs": [
    {
     "data": {
      "text/plain": [
       "12.701972067459021"
      ]
     },
     "execution_count": 23,
     "metadata": {},
     "output_type": "execute_result"
    }
   ],
   "source": [
    "bits = bits_scorer(xgbr, X_test, y_test)\n",
    "bits"
   ]
  },
  {
   "cell_type": "code",
   "execution_count": 24,
   "metadata": {
    "ExecuteTime": {
     "end_time": "2020-01-16T22:05:13.501891Z",
     "start_time": "2020-01-16T22:04:46.270836Z"
    },
    "scrolled": true
   },
   "outputs": [
    {
     "name": "stderr",
     "output_type": "stream",
     "text": [
      "/usr/local/lib/python3.7/site-packages/xgboost/core.py:587: FutureWarning: Series.base is deprecated and will be removed in a future version\n",
      "  if getattr(data, 'base', None) is not None and \\\n",
      "/usr/local/lib/python3.7/site-packages/xgboost/core.py:588: FutureWarning: Series.base is deprecated and will be removed in a future version\n",
      "  data.base is not None and isinstance(data, np.ndarray) \\\n"
     ]
    },
    {
     "name": "stdout",
     "output_type": "stream",
     "text": [
      "[22:04:52] WARNING: /workspace/src/objective/regression_obj.cu:152: reg:linear is now deprecated in favor of reg:squarederror.\n",
      "[0]\tvalidation_0-rmse:0.4952\tvalidation_0-mean_bits_error:0.986207\n",
      "Multiple eval metrics have been passed: 'validation_0-mean_bits_error' will be used for early stopping.\n",
      "\n",
      "Will train until validation_0-mean_bits_error hasn't improved in 5 rounds.\n",
      "[1]\tvalidation_0-rmse:0.490751\tvalidation_0-mean_bits_error:0.973495\n",
      "[2]\tvalidation_0-rmse:0.486262\tvalidation_0-mean_bits_error:0.960707\n",
      "[3]\tvalidation_0-rmse:0.482431\tvalidation_0-mean_bits_error:0.949786\n",
      "[4]\tvalidation_0-rmse:0.478192\tvalidation_0-mean_bits_error:0.937672\n",
      "[5]\tvalidation_0-rmse:0.475517\tvalidation_0-mean_bits_error:0.929884\n",
      "[6]\tvalidation_0-rmse:0.472348\tvalidation_0-mean_bits_error:0.920573\n",
      "[7]\tvalidation_0-rmse:0.469932\tvalidation_0-mean_bits_error:0.913343\n",
      "[8]\tvalidation_0-rmse:0.467152\tvalidation_0-mean_bits_error:0.904997\n",
      "[9]\tvalidation_0-rmse:0.466232\tvalidation_0-mean_bits_error:0.901929\n",
      "[10]\tvalidation_0-rmse:0.464518\tvalidation_0-mean_bits_error:0.896623\n",
      "[11]\tvalidation_0-rmse:0.463566\tvalidation_0-mean_bits_error:0.893272\n",
      "[12]\tvalidation_0-rmse:0.462729\tvalidation_0-mean_bits_error:0.890412\n",
      "[13]\tvalidation_0-rmse:0.462144\tvalidation_0-mean_bits_error:0.888194\n",
      "[14]\tvalidation_0-rmse:0.461321\tvalidation_0-mean_bits_error:0.88527\n",
      "[15]\tvalidation_0-rmse:0.461444\tvalidation_0-mean_bits_error:0.885036\n",
      "[16]\tvalidation_0-rmse:0.460267\tvalidation_0-mean_bits_error:0.88066\n",
      "[17]\tvalidation_0-rmse:0.459448\tvalidation_0-mean_bits_error:0.877374\n",
      "[18]\tvalidation_0-rmse:0.459239\tvalidation_0-mean_bits_error:0.876429\n",
      "[19]\tvalidation_0-rmse:0.458334\tvalidation_0-mean_bits_error:0.872992\n",
      "[20]\tvalidation_0-rmse:0.456711\tvalidation_0-mean_bits_error:0.866108\n",
      "[21]\tvalidation_0-rmse:0.456603\tvalidation_0-mean_bits_error:0.864725\n",
      "[22]\tvalidation_0-rmse:0.456694\tvalidation_0-mean_bits_error:0.864768\n",
      "[23]\tvalidation_0-rmse:0.455876\tvalidation_0-mean_bits_error:0.858825\n",
      "[24]\tvalidation_0-rmse:0.455925\tvalidation_0-mean_bits_error:0.858675\n",
      "[25]\tvalidation_0-rmse:0.455722\tvalidation_0-mean_bits_error:0.852691\n",
      "[26]\tvalidation_0-rmse:0.455483\tvalidation_0-mean_bits_error:0.850914\n",
      "[27]\tvalidation_0-rmse:0.455639\tvalidation_0-mean_bits_error:0.850941\n",
      "[28]\tvalidation_0-rmse:0.455634\tvalidation_0-mean_bits_error:0.850256\n",
      "[29]\tvalidation_0-rmse:0.455476\tvalidation_0-mean_bits_error:0.849547\n",
      "[30]\tvalidation_0-rmse:0.455454\tvalidation_0-mean_bits_error:0.849207\n",
      "[31]\tvalidation_0-rmse:0.455458\tvalidation_0-mean_bits_error:0.849343\n",
      "[32]\tvalidation_0-rmse:0.455432\tvalidation_0-mean_bits_error:0.849351\n",
      "[33]\tvalidation_0-rmse:0.455338\tvalidation_0-mean_bits_error:0.848945\n",
      "[34]\tvalidation_0-rmse:0.455253\tvalidation_0-mean_bits_error:0.848524\n",
      "[35]\tvalidation_0-rmse:0.455248\tvalidation_0-mean_bits_error:0.848233\n",
      "[36]\tvalidation_0-rmse:0.455308\tvalidation_0-mean_bits_error:0.848479\n",
      "[37]\tvalidation_0-rmse:0.455225\tvalidation_0-mean_bits_error:0.848276\n",
      "[38]\tvalidation_0-rmse:0.455148\tvalidation_0-mean_bits_error:0.84793\n",
      "[39]\tvalidation_0-rmse:0.45514\tvalidation_0-mean_bits_error:0.847674\n",
      "[40]\tvalidation_0-rmse:0.45514\tvalidation_0-mean_bits_error:0.84768\n",
      "[41]\tvalidation_0-rmse:0.455068\tvalidation_0-mean_bits_error:0.847509\n",
      "[42]\tvalidation_0-rmse:0.454895\tvalidation_0-mean_bits_error:0.846835\n",
      "[43]\tvalidation_0-rmse:0.454931\tvalidation_0-mean_bits_error:0.846996\n",
      "[44]\tvalidation_0-rmse:0.454962\tvalidation_0-mean_bits_error:0.847018\n",
      "[45]\tvalidation_0-rmse:0.45497\tvalidation_0-mean_bits_error:0.846808\n",
      "[46]\tvalidation_0-rmse:0.454906\tvalidation_0-mean_bits_error:0.846658\n",
      "[47]\tvalidation_0-rmse:0.454849\tvalidation_0-mean_bits_error:0.846388\n",
      "[48]\tvalidation_0-rmse:0.454823\tvalidation_0-mean_bits_error:0.84626\n",
      "[49]\tvalidation_0-rmse:0.45482\tvalidation_0-mean_bits_error:0.846079\n",
      "[50]\tvalidation_0-rmse:0.454913\tvalidation_0-mean_bits_error:0.8464\n",
      "[51]\tvalidation_0-rmse:0.454774\tvalidation_0-mean_bits_error:0.846713\n",
      "[52]\tvalidation_0-rmse:0.454756\tvalidation_0-mean_bits_error:0.846479\n",
      "[53]\tvalidation_0-rmse:0.454769\tvalidation_0-mean_bits_error:0.846563\n",
      "[54]\tvalidation_0-rmse:0.454803\tvalidation_0-mean_bits_error:0.846424\n",
      "Stopping. Best iteration:\n",
      "[49]\tvalidation_0-rmse:0.45482\tvalidation_0-mean_bits_error:0.846079\n",
      "\n"
     ]
    },
    {
     "data": {
      "text/plain": [
       "Pipeline(memory=None,\n",
       "         steps=[('columndropper',\n",
       "                 ColumnDropper(cols_to_drop=['prev_match_oppo_team',\n",
       "                                             'oppo_prev_match_oppo_team',\n",
       "                                             'prev_match_at_home',\n",
       "                                             'oppo_prev_match_at_home',\n",
       "                                             'date'])),\n",
       "                ('correlationselector',\n",
       "                 CorrelationSelector(cols_to_keep=['team', 'oppo_team',\n",
       "                                                   'round_type', 'venue'],\n",
       "                                     labels=Adelaide          1991  1     86\n",
       "                        2    -23\n",
       "                        3     24\n",
       "                        4    -45\n",
       "                        5    -65\n",
       "                              ..\n",
       "Western Bulldogs  2016  23   -20\n",
       "                        24    47\n",
       "                        25    23...\n",
       "                              colsample_bylevel=1, colsample_bynode=1,\n",
       "                              colsample_bytree=1, gamma=0,\n",
       "                              importance_type='gain', learning_rate=0.1,\n",
       "                              max_delta_step=0, max_depth=3, min_child_weight=1,\n",
       "                              missing=None, n_estimators=100, n_jobs=1,\n",
       "                              nthread=None,\n",
       "                              objective=<function bits_objective at 0x7f38166ad950>,\n",
       "                              random_state=42, reg_alpha=0, reg_lambda=1,\n",
       "                              scale_pos_weight=1, seed=None, silent=None,\n",
       "                              subsample=1, verbosity=1))],\n",
       "         verbose=False)"
      ]
     },
     "execution_count": 24,
     "metadata": {},
     "output_type": "execute_result"
    }
   ],
   "source": [
    "# XGB with custom objective & metric\n",
    "\n",
    "X_val_trans = xgbr[:-1].transform(X_val)\n",
    "\n",
    "xgbr.set_params(xgbregressor__objective=bits_objective)\n",
    "\n",
    "xgbr.fit(\n",
    "    X_train,\n",
    "    y_train,\n",
    "    xgbregressor__eval_metric=bits_metric,\n",
    "    xgbregressor__eval_set=[(X_val_trans, y_val)],\n",
    "    xgbregressor__early_stopping_rounds=5,\n",
    ")"
   ]
  },
  {
   "cell_type": "code",
   "execution_count": 25,
   "metadata": {
    "ExecuteTime": {
     "end_time": "2020-01-16T22:05:15.524729Z",
     "start_time": "2020-01-16T22:05:13.509160Z"
    }
   },
   "outputs": [
    {
     "data": {
      "text/plain": [
       "32.145051482555104"
      ]
     },
     "execution_count": 25,
     "metadata": {},
     "output_type": "execute_result"
    }
   ],
   "source": [
    "bits = bits_scorer(xgbr, X_test, y_test)\n",
    "bits"
   ]
  },
  {
   "cell_type": "markdown",
   "metadata": {},
   "source": [
    "#### Conclusion\n",
    "\n",
    "`XGBClassifier` without custom loss/metric for bits performs slightly better than the classifier that uses the bits loss/metric, but I imaginge some tuning would make the custom-loss model better since the defaults are set to work well together out-of-the-box. Regardless, the classifier performs noticeably better than `XGBRegressor`."
   ]
  },
  {
   "cell_type": "markdown",
   "metadata": {},
   "source": [
    "### Keras"
   ]
  },
  {
   "cell_type": "markdown",
   "metadata": {},
   "source": [
    "#### Code setup"
   ]
  },
  {
   "cell_type": "code",
   "execution_count": 7,
   "metadata": {
    "ExecuteTime": {
     "end_time": "2020-01-17T11:36:19.049283Z",
     "start_time": "2020-01-17T11:36:18.605983Z"
    },
    "code_folding": []
   },
   "outputs": [],
   "source": [
    "# Basic NN architecture copied from notebook 6.2-all-data-nn\n",
    "\n",
    "# For regressors that might try to predict negative values or 0,\n",
    "# we need a slightly positive minimum to not get errors when calculating\n",
    "# logarithms\n",
    "MIN_VAL = 1 * 10 ** -10\n",
    "N_TEAMS = data.data['team'].drop_duplicates().count()\n",
    "N_ROUND_TYPES = data.data['round_type'].drop_duplicates().count()\n",
    "N_VENUES = data.data['venue'].drop_duplicates().count()\n",
    "ELO_MODEL_COLS = [\n",
    "    \"prev_match_oppo_team\",\n",
    "    \"oppo_prev_match_oppo_team\",\n",
    "    \"prev_match_at_home\",\n",
    "    \"oppo_prev_match_at_home\",\n",
    "    \"date\",\n",
    "]\n",
    "N_FEATURES = len(data.train_data[0].columns) - len(ELO_MODEL_COLS)\n",
    "\n",
    "\n",
    "class InputLister(BaseEstimator, TransformerMixin):\n",
    "    def __init__(self, n_inputs=1):\n",
    "        self.n_inputs = n_inputs\n",
    "        \n",
    "    def fit(self, X, y=None):\n",
    "        return self\n",
    "    \n",
    "    def transform(self, X, y=None):\n",
    "        return [X[:, n] if n < self.n_inputs - 1 else X[:, n:] for n in range(self.n_inputs)]\n",
    "    \n",
    "    \n",
    "class NanFiller(BaseEstimator, TransformerMixin):\n",
    "    def fit(self, X, y=None):\n",
    "        return self\n",
    "    \n",
    "    def transform(self, X, y=None):\n",
    "        return np.nan_to_num(X)\n",
    "    \n",
    "\n",
    "def _positive_pred_tensor(y_pred):\n",
    "    return tf.where(tf.math.less_equal(y_pred, tf.constant(0.0)), tf.constant(MIN_VAL), y_pred)\n",
    "\n",
    "def _log2(x):\n",
    "    return tf.math.divide(\n",
    "        tf.math.log(_positive_pred_tensor(x)),\n",
    "        tf.math.log(tf.constant(2.0))\n",
    "    )\n",
    "\n",
    "def _draw_bits_tensor(y_true, y_pred):\n",
    "    return tf.math.add(\n",
    "        tf.constant(1.0),\n",
    "        tf.math.scalar_mul(\n",
    "            tf.constant(0.5),\n",
    "            _log2(tf.math.multiply(y_pred, tf.math.subtract(tf.constant(1.0), y_pred))),\n",
    "        ),\n",
    "    )\n",
    "\n",
    "def _win_bits_tensor(y_true, y_pred):\n",
    "    return tf.math.add(tf.constant(1.0), _log2(y_pred))\n",
    "\n",
    "def _loss_bits_tensor(y_true, y_pred):\n",
    "    return tf.math.add(tf.constant(1.0), _log2(tf.math.subtract(tf.constant(1.0), y_pred)))\n",
    "\n",
    "def bits_loss(y_true, y_pred):\n",
    "    y_true_f = tf.cast(y_true, tf.float32)\n",
    "    y_pred_win = y_pred[:, -1:]\n",
    "\n",
    "    # We adjust bits calculation to make a valid ML error formula such that 0 represents a correct prediction,\n",
    "    # and the further off the prediction the higher the error value.\n",
    "    return K.mean(\n",
    "        tf.where(\n",
    "            tf.math.equal(y_true_f, tf.constant(0.5)),\n",
    "            tf.math.scalar_mul(tf.constant(-1.0), _draw_bits_tensor(y_true_f, y_pred_win)),\n",
    "            tf.where(\n",
    "                tf.math.equal(y_true_f, tf.constant(1.0)),\n",
    "                tf.math.subtract(tf.constant(1.0), _win_bits_tensor(y_true_f, y_pred_win)),\n",
    "                tf.math.add(\n",
    "                    tf.constant(1.0),\n",
    "                    tf.math.scalar_mul(tf.constant(-1.0), _loss_bits_tensor(y_true_f, y_pred_win)),\n",
    "                ),\n",
    "            ),\n",
    "        ),\n",
    "    )\n",
    "\n",
    "\n",
    "def create_nn_model(\n",
    "    n_hidden_layers=0,\n",
    "    n_cells=50,\n",
    "    dropout_rate=0.1,\n",
    "    n_labels=1,\n",
    "    label_activation='sigmoid',\n",
    "    loss=bits_loss,\n",
    "    **kwargs,\n",
    "):\n",
    "    team_input = layers.Input(shape=(1,), dtype='int32', name='team')\n",
    "    oppo_team_input = layers.Input(shape=(1,), dtype='int32', name='oppo_team')\n",
    "    round_type_input = layers.Input(shape=(1,), dtype='int32', name='round_type')\n",
    "    venue_input = layers.Input(shape=(1,), dtype='int32', name='venue')\n",
    "    stats_input = layers.Input(shape=(N_FEATURES - 4,), dtype='float32', name='stats')\n",
    "\n",
    "    team_layer = layers.Embedding(N_TEAMS * 2, 4, input_length=1)(team_input)\n",
    "    flatten_team_layer = layers.Flatten()(team_layer)\n",
    "    oppo_team_layer = layers.Embedding(N_TEAMS * 2, 4, input_length=1)(oppo_team_input)\n",
    "    flatten_oppo_team_layer = layers.Flatten()(oppo_team_layer)\n",
    "    round_type_layer = layers.Embedding(N_ROUND_TYPES * 2, 4, input_length=1)(round_type_input)\n",
    "    flatten_round_layer = layers.Flatten()(round_type_layer)\n",
    "    venue_layer = layers.Embedding(N_VENUES * 2, 4, input_length=1)(venue_input)\n",
    "    flatten_venue_layer = layers.Flatten()(venue_layer)\n",
    "    \n",
    "    concated_layers = layers.concatenate(\n",
    "        [flatten_team_layer, flatten_oppo_team_layer, flatten_round_layer, flatten_venue_layer, stats_input]\n",
    "    )\n",
    "    \n",
    "    layer_n = layers.Dense(n_cells, input_shape=(N_FEATURES,), activation='relu')(concated_layers)\n",
    "    dropout_n = layers.Dropout(dropout_rate)(layer_n)\n",
    "    \n",
    "    for _ in range(n_hidden_layers - 1):\n",
    "        layer_n = layers.Dense(n_cells, input_shape=(N_FEATURES,), activation='relu')(dropout_n)\n",
    "        dropout_n = layers.Dropout(dropout_rate)(layer_n)\n",
    "\n",
    "    output = layers.Dense(n_labels, activation=label_activation)(dropout_n)\n",
    "\n",
    "    model = models.Model(\n",
    "        inputs=[\n",
    "            team_input,\n",
    "            oppo_team_input,\n",
    "            round_type_input,\n",
    "            venue_input,\n",
    "            stats_input\n",
    "        ],\n",
    "        outputs=output\n",
    "    )\n",
    "    model.compile(loss=loss, optimizer='adam')\n",
    "\n",
    "    return lambda: model\n",
    "\n",
    "\n",
    "class KerasWrapper(BaseEstimator, ClassifierMixin):\n",
    "    def __init__(\n",
    "        self,\n",
    "        model_func=create_nn_model,\n",
    "        n_hidden_layers=2,\n",
    "        n_cells=25,\n",
    "        dropout_rate=0.1,\n",
    "        label_activation='sigmoid',\n",
    "        n_labels=1,\n",
    "        loss=bits_loss,\n",
    "        embed_dim=4,\n",
    "        **kwargs,\n",
    "    ):\n",
    "        self.model_func = model_func\n",
    "        self.n_hidden_layers = n_hidden_layers\n",
    "        self.n_cells = n_cells\n",
    "        self.dropout_rate = dropout_rate\n",
    "        self.label_activation = label_activation\n",
    "        self.n_labels = n_labels\n",
    "        self.loss = loss\n",
    "        self.embed_dim = embed_dim\n",
    "        self.kwargs = kwargs\n",
    "        \n",
    "        self._create_model()\n",
    "        \n",
    "    def fit(self, X, y, validation_data=None):\n",
    "        self._model.fit(X, y, validation_data=validation_data)\n",
    "        \n",
    "        return self\n",
    "    \n",
    "    def predict_proba(self, X):\n",
    "        return self._model.predict(X)\n",
    "    \n",
    "    def predict(self, X):\n",
    "        return self.predict_proba(X) if self.n_labels == 1 else np.argmax(self.predict_proba(X), axis=1)\n",
    "    \n",
    "    def set_params(self, **params):\n",
    "        super().set_params(**params)\n",
    "        \n",
    "        self._create_model()\n",
    "        \n",
    "        return self\n",
    "    \n",
    "    @property\n",
    "    def history(self):\n",
    "        return self._model.model.history\n",
    "        \n",
    "    def _create_model(self):\n",
    "        K.clear_session()\n",
    "\n",
    "        self._model = wrappers.scikit_learn.KerasRegressor(\n",
    "            build_fn=self.model_func(\n",
    "                n_hidden_layers=self.n_hidden_layers,\n",
    "                n_cells=self.n_cells,\n",
    "                dropout_rate=self.dropout_rate,\n",
    "                label_activation=self.label_activation,\n",
    "                n_labels=self.n_labels,\n",
    "                loss=self.loss,\n",
    "                embed_dim=self.embed_dim,\n",
    "                **self.kwargs,\n",
    "            ),\n",
    "            epochs=20,\n",
    "            callbacks=[callbacks.EarlyStopping(monitor='val_loss', patience=5)]\n",
    "        )\n",
    "        \n",
    "    # Adapted this code from: http://zachmoshe.com/2017/04/03/pickling-keras-models.html\n",
    "    # Keras has since been updated to be picklable, but my custom tensorflow loss function is not\n",
    "    # (at least I can figure out how to pickle it). So, this is necessary\n",
    "    # for basic Scikit-learn functionality like get/set params, grid search, and multiprocessing.\n",
    "    def __getstate__(self):\n",
    "        model_str = \"\"\n",
    "        with tempfile.NamedTemporaryFile(suffix='.hdf5', delete=True) as f:\n",
    "            models.save_model(self.model, f.name, overwrite=True)\n",
    "            model_str = f.read()\n",
    "        d = {key: value for key, value in self.__dict__.items() if key != 'model'}\n",
    "        d.update({'model_str': model_str})\n",
    "        return d\n",
    "\n",
    "    def __setstate__(self, state):\n",
    "        with tempfile.NamedTemporaryFile(suffix='.hdf5', delete=True) as f:\n",
    "            f.write(state['model_str'])\n",
    "            f.flush()\n",
    "            model = models.load_model(f.name)\n",
    "        d = {value: key for value, key in state.items() if key != 'model_str'}\n",
    "        d.update({'model': model})\n",
    "        self.__dict__ = d"
   ]
  },
  {
   "cell_type": "markdown",
   "metadata": {},
   "source": [
    "#### Keras classifier"
   ]
  },
  {
   "cell_type": "code",
   "execution_count": 319,
   "metadata": {
    "ExecuteTime": {
     "end_time": "2020-01-17T11:32:18.446832Z",
     "start_time": "2020-01-17T11:32:00.175305Z"
    },
    "scrolled": true
   },
   "outputs": [
    {
     "name": "stdout",
     "output_type": "stream",
     "text": [
      "Train on 29946 samples, validate on 414 samples\n",
      "Epoch 1/20\n",
      "29946/29946 [==============================] - 4s 122us/sample - loss: 0.8952 - val_loss: 0.9184\n",
      "Epoch 2/20\n",
      "29946/29946 [==============================] - 3s 88us/sample - loss: 0.8381 - val_loss: 0.9374\n",
      "Epoch 3/20\n",
      "29946/29946 [==============================] - 3s 94us/sample - loss: 0.8259 - val_loss: 0.9437\n",
      "Epoch 4/20\n",
      "29946/29946 [==============================] - 3s 88us/sample - loss: 0.8166 - val_loss: 0.9373\n",
      "Epoch 5/20\n",
      "29946/29946 [==============================] - 3s 94us/sample - loss: 0.8070 - val_loss: 0.9184\n",
      "Epoch 6/20\n",
      "29946/29946 [==============================] - 3s 95us/sample - loss: 0.7998 - val_loss: 0.9384\n"
     ]
    },
    {
     "data": {
      "text/plain": [
       "Pipeline(memory=None,\n",
       "         steps=[('columndropper',\n",
       "                 ColumnDropper(cols_to_drop=['prev_match_oppo_team',\n",
       "                                             'oppo_prev_match_oppo_team',\n",
       "                                             'prev_match_at_home',\n",
       "                                             'oppo_prev_match_at_home',\n",
       "                                             'date'])),\n",
       "                ('columntransformer',\n",
       "                 ColumnTransformer(n_jobs=None,\n",
       "                                   remainder=StandardScaler(copy=True,\n",
       "                                                            with_mean=True,\n",
       "                                                            with_std=True),\n",
       "                                   sparse_threshold=0.3,\n",
       "                                   transformer_weights=None,\n",
       "                                   transfo...\n",
       "                                                                 verbose=0),\n",
       "                                                  slice(None, 4, None))],\n",
       "                                   verbose=False)),\n",
       "                ('nanfiller', NanFiller()),\n",
       "                ('inputlister', InputLister(n_inputs=5)),\n",
       "                ('keraswrapper',\n",
       "                 KerasWrapper(dropout_rate=0.1, embed_dim=4,\n",
       "                              label_activation='softmax',\n",
       "                              loss=<function bits_loss at 0x7f054c8710e0>,\n",
       "                              model_func=<function create_nn_model at 0x7f05502e0f80>,\n",
       "                              n_cells=25, n_hidden_layers=2, n_labels=2))],\n",
       "         verbose=False)"
      ]
     },
     "execution_count": 319,
     "metadata": {},
     "output_type": "execute_result"
    }
   ],
   "source": [
    "# Keras classifier with full data set\n",
    "\n",
    "nn = make_pipeline(\n",
    "    ColumnDropper(cols_to_drop=ELO_MODEL_COLS),\n",
    "    ColumnTransformer(\n",
    "        [\n",
    "            (\n",
    "                \"ordinalencoder\",\n",
    "                OrdinalEncoder(handle_unknown='return_nan', handle_missing='return_nan'),\n",
    "                slice(4),\n",
    "            )\n",
    "        ],\n",
    "        remainder=StandardScaler(),\n",
    "    ),\n",
    "    NanFiller(),\n",
    "    InputLister(n_inputs=5),\n",
    "    KerasWrapper(\n",
    "        n_hidden_layers=2,\n",
    "        n_cells=25,\n",
    "        dropout_rate=0.1,\n",
    "        n_labels=2,\n",
    "        label_activation='softmax',\n",
    "        loss=bits_loss,\n",
    "    ),\n",
    ")\n",
    "\n",
    "X_val_trans = nn[:-1].fit_transform(X_val)\n",
    "\n",
    "nn.fit(X_train, y_train, keraswrapper__validation_data=(X_val_trans, y_val))"
   ]
  },
  {
   "cell_type": "code",
   "execution_count": 320,
   "metadata": {
    "ExecuteTime": {
     "end_time": "2020-01-17T11:32:18.770279Z",
     "start_time": "2020-01-17T11:32:18.449789Z"
    },
    "scrolled": true
   },
   "outputs": [
    {
     "data": {
      "image/png": "[encoded data removed]",
      "text/plain": [
       "<Figure size 432x288 with 1 Axes>"
      ]
     },
     "metadata": {
      "needs_background": "light"
     },
     "output_type": "display_data"
    }
   ],
   "source": [
    "model_tracking.graph_tf_model_history(nn[-1].history)"
   ]
  },
  {
   "cell_type": "code",
   "execution_count": 321,
   "metadata": {
    "ExecuteTime": {
     "end_time": "2020-01-17T11:32:19.025341Z",
     "start_time": "2020-01-17T11:32:18.773064Z"
    },
    "scrolled": true
   },
   "outputs": [
    {
     "data": {
      "text/plain": [
       "41.08095445083279"
      ]
     },
     "execution_count": 321,
     "metadata": {},
     "output_type": "execute_result"
    }
   ],
   "source": [
    "bits = bits_scorer(nn, X_test, y_test, proba=True)\n",
    "bits"
   ]
  },
  {
   "cell_type": "markdown",
   "metadata": {},
   "source": [
    "#### Keras classifier based on predictions"
   ]
  },
  {
   "cell_type": "code",
   "execution_count": 8,
   "metadata": {
    "ExecuteTime": {
     "end_time": "2020-01-17T11:36:19.166777Z",
     "start_time": "2020-01-17T11:36:19.052790Z"
    }
   },
   "outputs": [],
   "source": [
    "N_ROWS = len(data.data)\n",
    "\n",
    "def create_embed_model(\n",
    "    n_hidden_layers=0,\n",
    "    n_cells=50,\n",
    "    dropout_rate=0.1,\n",
    "    n_labels=1,\n",
    "    label_activation='sigmoid',\n",
    "    loss=bits_loss,\n",
    "    embed_dim=4,\n",
    "    **kwargs,\n",
    "):\n",
    "    pred_input = layers.Input(shape=(1,), dtype='int32', name='preds')\n",
    "    \n",
    "    layer_n = layers.Dense(n_cells, input_shape=(1,), activation='relu')(pred_input)\n",
    "    dropout_n = layers.Dropout(dropout_rate)(layer_n)\n",
    "    \n",
    "    for _ in range(n_hidden_layers - 1):\n",
    "        layer_n = layers.Dense(n_cells, input_shape=(1,), activation='relu')(dropout_n)\n",
    "        dropout_n = layers.Dropout(dropout_rate)(layer_n)\n",
    "\n",
    "    output = layers.Dense(n_labels, activation=label_activation)(dropout_n)\n",
    "\n",
    "    model = models.Model(\n",
    "        inputs=pred_input,\n",
    "        outputs=output,\n",
    "    )\n",
    "    model.compile(loss=loss, optimizer='adam')\n",
    "\n",
    "    return lambda: model"
   ]
  },
  {
   "cell_type": "code",
   "execution_count": 9,
   "metadata": {
    "ExecuteTime": {
     "end_time": "2020-01-17T11:36:26.389559Z",
     "start_time": "2020-01-17T11:36:19.169506Z"
    },
    "scrolled": true
   },
   "outputs": [
    {
     "name": "stdout",
     "output_type": "stream",
     "text": [
      "Train on 16862 samples, validate on 414 samples\n",
      "Epoch 1/20\n",
      "16862/16862 [==============================] - 2s 104us/sample - loss: 0.2987 - val_loss: 5.4901\n",
      "Epoch 2/20\n",
      "16862/16862 [==============================] - 1s 58us/sample - loss: 0.0185 - val_loss: 6.2853\n",
      "Epoch 3/20\n",
      "16862/16862 [==============================] - 1s 57us/sample - loss: 0.0095 - val_loss: 6.8259\n",
      "Epoch 4/20\n",
      "16862/16862 [==============================] - 1s 60us/sample - loss: 0.0055 - val_loss: 7.1823\n",
      "Epoch 5/20\n",
      "16862/16862 [==============================] - 1s 70us/sample - loss: 0.0033 - val_loss: 7.5908\n",
      "Epoch 6/20\n",
      "16862/16862 [==============================] - 1s 60us/sample - loss: 0.0022 - val_loss: 7.8453\n"
     ]
    },
    {
     "data": {
      "text/plain": [
       "Pipeline(memory=None,\n",
       "         steps=[('keraswrapper',\n",
       "                 KerasWrapper(dropout_rate=0.1, embed_dim=4,\n",
       "                              label_activation='softmax',\n",
       "                              loss=<function bits_loss at 0x7efd218f2440>,\n",
       "                              model_func=<function create_embed_model at 0x7efd217f0cb0>,\n",
       "                              n_cells=25, n_hidden_layers=1, n_labels=2))],\n",
       "         verbose=False)"
      ]
     },
     "execution_count": 9,
     "metadata": {},
     "output_type": "execute_result"
    }
   ],
   "source": [
    "# Keras classifier with prediction input\n",
    "\n",
    "K.clear_session()\n",
    "\n",
    "class PredictionEncoder(BaseEstimator, TransformerMixin):\n",
    "    def fit(self, X, y):\n",
    "        self._min_pred = round(X.min())\n",
    "\n",
    "        return self\n",
    "    \n",
    "    def transform(self, X, y=None):\n",
    "        # Assumes that X is a single prediction column\n",
    "        X_np = np.array(X).reshape(-1)\n",
    "\n",
    "        # In case there are negative predicted margins smaller than our training set,\n",
    "        # we set them to zero\n",
    "        return np.maximum(X_np.round() - min(self._min_pred, 0), np.zeros(len(X_np))).astype(int).reshape(-1, 1)\n",
    "\n",
    "nnse = make_pipeline(\n",
    "    KerasWrapper(\n",
    "        model_func=create_embed_model,\n",
    "        n_hidden_layers=1,\n",
    "        n_cells=25,\n",
    "        dropout_rate=0.1,\n",
    "        n_labels=2,\n",
    "        label_activation='softmax',\n",
    "        loss=bits_loss,\n",
    "    ),\n",
    ")\n",
    "\n",
    "# nnse[:-1].fit(X_train_se)\n",
    "# X_val_trans = nnse[:-1].transform(X_val_se)\n",
    "\n",
    "nnse.fit(\n",
    "    X_train_se,\n",
    "    y_train_se,\n",
    "    keraswrapper__validation_data=(X_val_se, y_val)\n",
    ")"
   ]
  },
  {
   "cell_type": "code",
   "execution_count": 10,
   "metadata": {
    "ExecuteTime": {
     "end_time": "2020-01-17T11:36:26.734756Z",
     "start_time": "2020-01-17T11:36:26.393522Z"
    },
    "scrolled": true
   },
   "outputs": [
    {
     "data": {
      "image/png": "[encoded data removed]",
      "text/plain": [
       "<Figure size 432x288 with 1 Axes>"
      ]
     },
     "metadata": {
      "needs_background": "light"
     },
     "output_type": "display_data"
    }
   ],
   "source": [
    "model_tracking.graph_tf_model_history(nnse[-1].history)"
   ]
  },
  {
   "cell_type": "code",
   "execution_count": 11,
   "metadata": {
    "ExecuteTime": {
     "end_time": "2020-01-17T11:36:26.933755Z",
     "start_time": "2020-01-17T11:36:26.737454Z"
    },
    "scrolled": true
   },
   "outputs": [
    {
     "name": "stderr",
     "output_type": "stream",
     "text": [
      "/usr/local/lib/python3.7/site-packages/tensorflow_core/python/keras/engine/training_v2_utils.py:544: DeprecationWarning: Using or importing the ABCs from 'collections' instead of from 'collections.abc' is deprecated since Python 3.3,and in 3.9 it will stop working\n",
      "  if isinstance(inputs, collections.Sequence):\n"
     ]
    },
    {
     "data": {
      "text/plain": [
       "-997.8298418244742"
      ]
     },
     "execution_count": 11,
     "metadata": {},
     "output_type": "execute_result"
    }
   ],
   "source": [
    "bits = bits_scorer(\n",
    "    nnse,\n",
    "    X_test_se,\n",
    "    y_test,\n",
    "    proba=True,\n",
    ")\n",
    "bits"
   ]
  },
  {
   "cell_type": "markdown",
   "metadata": {},
   "source": [
    "#### Conclusion\n",
    "\n",
    "A basic neural net with the full data set performs about as well as XGBoost. The model that takes `StackingEstimator` predictions as input performs horribly, whether the model uses an embedding layer or not. Given that the results of `predict_proba` tend to be very close to 0 or 1, it probably just way over-fits, resulting in excessive confidence in its predictions."
   ]
  },
  {
   "cell_type": "markdown",
   "metadata": {},
   "source": [
    "### Conclusion\n",
    "\n",
    "Although the default `XGBClassifier` performed best, I believe some tuning would improve the version of `XGBClassifier` with the custom loss function such that it performed better. Same goes for the neural net, but `xgboost` models are simpler and train faster, so I'll stick with them for now, because I don't feel like dealing with optimising NN architectures."
   ]
  },
  {
   "cell_type": "code",
   "execution_count": null,
   "metadata": {},
   "outputs": [],
   "source": []
  }
 ],
 "metadata": {
  "kernelspec": {
   "display_name": "Python 3",
   "language": "python",
   "name": "python3"
  },
  "language_info": {
   "codemirror_mode": {
    "name": "ipython",
    "version": 3
   },
   "file_extension": ".py",
   "mimetype": "text/x-python",
   "name": "python",
   "nbconvert_exporter": "python",
   "pygments_lexer": "ipython3",
   "version": "3.7.5"
  },
  "notify_time": "30",
  "toc": {
   "base_numbering": 1,
   "nav_menu": {},
   "number_sections": true,
   "sideBar": true,
   "skip_h1_title": false,
   "title_cell": "Table of Contents",
   "title_sidebar": "Contents",
   "toc_cell": false,
   "toc_position": {},
   "toc_section_display": true,
   "toc_window_display": true
  }
 },
 "nbformat": 4,
 "nbformat_minor": 2
}
