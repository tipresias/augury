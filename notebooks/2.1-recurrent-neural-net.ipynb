{
 "cells": [
  {
   "cell_type": "markdown",
   "metadata": {},
   "source": [
    "## Trial Recurrent Neural Network\n",
    "\n",
    "With the change to the data set (i.e. dropping betting data), it seems that we have to go back to basics, because earlier experiments are no longer valid, resulting in a different set of algorithms having stronger performance. The experiments with deep learning in 2019 yielded performance comparable to simpler models, and I decided not to pursue them at the time, because comparable performance isn't worth the extra time for training/param-tuning required. With the current benchmark being a bit lower, however, it's worth seeing if a deep neural net can surpass simpler models.\n",
    "\n",
    "To avoid spending too much time on this, I'm going to focus on RNNs, because it was the best-performing architecture from earlier experiments and lends itself to the time-based nature of AFL matches."
   ]
  },
  {
   "cell_type": "markdown",
   "metadata": {},
   "source": [
    "## Code setup"
   ]
  },
  {
   "cell_type": "code",
   "execution_count": 1,
   "metadata": {
    "ExecuteTime": {
     "end_time": "2021-02-25T07:20:22.151910Z",
     "start_time": "2021-02-25T07:20:22.021376Z"
    }
   },
   "outputs": [
    {
     "name": "stderr",
     "output_type": "stream",
     "text": [
      "/usr/local/lib/python3.8/site-packages/ipykernel/ipkernel.py:283: DeprecationWarning: `should_run_async` will not call `transform_cell` automatically in the future. Please pass the result to `transformed_cell` argument and any exception that happen during thetransform in `preprocessing_exc_tuple` in IPython 7.17 and above.\n",
      "  and should_run_async(code)\n"
     ]
    }
   ],
   "source": [
    "%load_ext autoreload"
   ]
  },
  {
   "cell_type": "code",
   "execution_count": 16,
   "metadata": {
    "ExecuteTime": {
     "end_time": "2021-02-26T08:20:40.537717Z",
     "start_time": "2021-02-26T08:20:40.411363Z"
    }
   },
   "outputs": [],
   "source": [
    "%autoreload 2\n",
    "\n",
    "import pandas as pd\n",
    "import numpy as np\n",
    "import matplotlib.pyplot as plt\n",
    "from scipy import stats\n",
    "import seaborn as sns\n",
    "import tensorflow as tf\n",
    "from tensorflow import keras\n",
    "\n",
    "from sklearn.experimental import enable_halving_search_cv\n",
    "from sklearn.compose import ColumnTransformer\n",
    "from sklearn.pipeline import make_pipeline\n",
    "from sklearn.metrics import get_scorer\n",
    "from sklearn.model_selection import HalvingRandomSearchCV, RandomizedSearchCV, cross_validate\n",
    "from sklearn.preprocessing import StandardScaler, OrdinalEncoder, FunctionTransformer\n",
    "from mlxtend.feature_selection import ColumnSelector\n",
    "\n",
    "from augury.ml_data import MLData\n",
    "from augury.model_tracking import graph_tf_model_history\n",
    "from augury.settings import SEED, CV_YEAR_RANGE, CATEGORY_COLS, TEAM_NAMES, ROUND_TYPES, VENUES\n",
    "from augury.sklearn.metrics import match_accuracy_scorer\n",
    "from augury.sklearn.models import RNNRegressor\n",
    "from augury.sklearn.model_selection import year_cv_split\n",
    "from augury.sklearn.preprocessing import ColumnDropper\n",
    "\n",
    "np.random.seed(SEED)"
   ]
  },
  {
   "cell_type": "code",
   "execution_count": 3,
   "metadata": {
    "ExecuteTime": {
     "end_time": "2021-02-25T07:20:57.683185Z",
     "start_time": "2021-02-25T07:20:32.698347Z"
    },
    "scrolled": true
   },
   "outputs": [
    {
     "name": "stderr",
     "output_type": "stream",
     "text": [
      "/usr/local/lib/python3.8/site-packages/ipykernel/ipkernel.py:283: DeprecationWarning: `should_run_async` will not call `transform_cell` automatically in the future. Please pass the result to `transformed_cell` argument and any exception that happen during thetransform in `preprocessing_exc_tuple` in IPython 7.17 and above.\n",
      "  and should_run_async(code)\n"
     ]
    },
    {
     "name": "stdout",
     "output_type": "stream",
     "text": [
      "2021-02-25 07:20:32,964 - kedro.io.data_catalog - INFO - Loading data from `full_data` (JSONDataSet)...\n"
     ]
    },
    {
     "data": {
      "text/html": [
       "<div>\n",
       "<style scoped>\n",
       "    .dataframe tbody tr th:only-of-type {\n",
       "        vertical-align: middle;\n",
       "    }\n",
       "\n",
       "    .dataframe tbody tr th {\n",
       "        vertical-align: top;\n",
       "    }\n",
       "\n",
       "    .dataframe thead th {\n",
       "        text-align: right;\n",
       "    }\n",
       "</style>\n",
       "<table border=\"1\" class=\"dataframe\">\n",
       "  <thead>\n",
       "    <tr style=\"text-align: right;\">\n",
       "      <th></th>\n",
       "      <th></th>\n",
       "      <th></th>\n",
       "      <th>team</th>\n",
       "      <th>oppo_team</th>\n",
       "      <th>round_type</th>\n",
       "      <th>venue</th>\n",
       "      <th>prev_match_oppo_team</th>\n",
       "      <th>oppo_prev_match_oppo_team</th>\n",
       "      <th>date</th>\n",
       "      <th>team_goals</th>\n",
       "      <th>team_behinds</th>\n",
       "      <th>score</th>\n",
       "      <th>...</th>\n",
       "      <th>oppo_rolling_prev_match_time_on_ground_skew</th>\n",
       "      <th>oppo_rolling_prev_match_time_on_ground_std</th>\n",
       "      <th>oppo_last_year_brownlow_votes_sum</th>\n",
       "      <th>oppo_last_year_brownlow_votes_max</th>\n",
       "      <th>oppo_last_year_brownlow_votes_min</th>\n",
       "      <th>oppo_last_year_brownlow_votes_skew</th>\n",
       "      <th>oppo_last_year_brownlow_votes_std</th>\n",
       "      <th>oppo_cum_matches_played</th>\n",
       "      <th>oppo_rolling_prev_match_goals_plus_rolling_prev_match_behinds</th>\n",
       "      <th>oppo_rolling_prev_match_goals_divided_by_rolling_prev_match_goals_plus_rolling_prev_match_behinds</th>\n",
       "    </tr>\n",
       "  </thead>\n",
       "  <tbody>\n",
       "    <tr>\n",
       "      <th rowspan=\"5\" valign=\"top\">Adelaide</th>\n",
       "      <th rowspan=\"5\" valign=\"top\">1991</th>\n",
       "      <th>1</th>\n",
       "      <td>Adelaide</td>\n",
       "      <td>Hawthorn</td>\n",
       "      <td>Regular</td>\n",
       "      <td>Football Park</td>\n",
       "      <td>0</td>\n",
       "      <td>Melbourne</td>\n",
       "      <td>1991-03-22 03:56:00+00:00</td>\n",
       "      <td>24</td>\n",
       "      <td>11</td>\n",
       "      <td>155</td>\n",
       "      <td>...</td>\n",
       "      <td>0.0</td>\n",
       "      <td>0.0</td>\n",
       "      <td>72</td>\n",
       "      <td>15</td>\n",
       "      <td>0</td>\n",
       "      <td>1.565197</td>\n",
       "      <td>4.070433</td>\n",
       "      <td>80</td>\n",
       "      <td>1</td>\n",
       "      <td>0</td>\n",
       "    </tr>\n",
       "    <tr>\n",
       "      <th>2</th>\n",
       "      <td>Adelaide</td>\n",
       "      <td>Carlton</td>\n",
       "      <td>Regular</td>\n",
       "      <td>Football Park</td>\n",
       "      <td>Hawthorn</td>\n",
       "      <td>Fitzroy</td>\n",
       "      <td>1991-03-31 03:56:00+00:00</td>\n",
       "      <td>12</td>\n",
       "      <td>9</td>\n",
       "      <td>81</td>\n",
       "      <td>...</td>\n",
       "      <td>0.0</td>\n",
       "      <td>0.0</td>\n",
       "      <td>51</td>\n",
       "      <td>16</td>\n",
       "      <td>0</td>\n",
       "      <td>2.449132</td>\n",
       "      <td>3.913203</td>\n",
       "      <td>60</td>\n",
       "      <td>1</td>\n",
       "      <td>0</td>\n",
       "    </tr>\n",
       "    <tr>\n",
       "      <th>3</th>\n",
       "      <td>Adelaide</td>\n",
       "      <td>Sydney</td>\n",
       "      <td>Regular</td>\n",
       "      <td>S.C.G.</td>\n",
       "      <td>Carlton</td>\n",
       "      <td>Hawthorn</td>\n",
       "      <td>1991-04-07 03:05:00+00:00</td>\n",
       "      <td>19</td>\n",
       "      <td>18</td>\n",
       "      <td>132</td>\n",
       "      <td>...</td>\n",
       "      <td>0.0</td>\n",
       "      <td>0.0</td>\n",
       "      <td>33</td>\n",
       "      <td>7</td>\n",
       "      <td>0</td>\n",
       "      <td>1.403576</td>\n",
       "      <td>2.433862</td>\n",
       "      <td>92</td>\n",
       "      <td>1</td>\n",
       "      <td>0</td>\n",
       "    </tr>\n",
       "    <tr>\n",
       "      <th>4</th>\n",
       "      <td>Adelaide</td>\n",
       "      <td>Essendon</td>\n",
       "      <td>Regular</td>\n",
       "      <td>Windy Hill</td>\n",
       "      <td>Sydney</td>\n",
       "      <td>North Melbourne</td>\n",
       "      <td>1991-04-13 03:30:00+00:00</td>\n",
       "      <td>6</td>\n",
       "      <td>11</td>\n",
       "      <td>47</td>\n",
       "      <td>...</td>\n",
       "      <td>0.0</td>\n",
       "      <td>0.0</td>\n",
       "      <td>71</td>\n",
       "      <td>13</td>\n",
       "      <td>0</td>\n",
       "      <td>1.262708</td>\n",
       "      <td>4.524495</td>\n",
       "      <td>69</td>\n",
       "      <td>1</td>\n",
       "      <td>0</td>\n",
       "    </tr>\n",
       "    <tr>\n",
       "      <th>5</th>\n",
       "      <td>Adelaide</td>\n",
       "      <td>West Coast</td>\n",
       "      <td>Regular</td>\n",
       "      <td>Subiaco</td>\n",
       "      <td>Essendon</td>\n",
       "      <td>North Melbourne</td>\n",
       "      <td>1991-04-21 05:27:00+00:00</td>\n",
       "      <td>9</td>\n",
       "      <td>11</td>\n",
       "      <td>65</td>\n",
       "      <td>...</td>\n",
       "      <td>0.0</td>\n",
       "      <td>0.0</td>\n",
       "      <td>48</td>\n",
       "      <td>9</td>\n",
       "      <td>0</td>\n",
       "      <td>0.913203</td>\n",
       "      <td>3.218368</td>\n",
       "      <td>48</td>\n",
       "      <td>1</td>\n",
       "      <td>0</td>\n",
       "    </tr>\n",
       "    <tr>\n",
       "      <th>...</th>\n",
       "      <th>...</th>\n",
       "      <th>...</th>\n",
       "      <td>...</td>\n",
       "      <td>...</td>\n",
       "      <td>...</td>\n",
       "      <td>...</td>\n",
       "      <td>...</td>\n",
       "      <td>...</td>\n",
       "      <td>...</td>\n",
       "      <td>...</td>\n",
       "      <td>...</td>\n",
       "      <td>...</td>\n",
       "      <td>...</td>\n",
       "      <td>...</td>\n",
       "      <td>...</td>\n",
       "      <td>...</td>\n",
       "      <td>...</td>\n",
       "      <td>...</td>\n",
       "      <td>...</td>\n",
       "      <td>...</td>\n",
       "      <td>...</td>\n",
       "      <td>...</td>\n",
       "      <td>...</td>\n",
       "    </tr>\n",
       "    <tr>\n",
       "      <th rowspan=\"5\" valign=\"top\">Western Bulldogs</th>\n",
       "      <th rowspan=\"5\" valign=\"top\">2021</th>\n",
       "      <th>19</th>\n",
       "      <td>Western Bulldogs</td>\n",
       "      <td>Adelaide</td>\n",
       "      <td>Regular</td>\n",
       "      <td>Eureka Stadium</td>\n",
       "      <td>Gold Coast</td>\n",
       "      <td>West Coast</td>\n",
       "      <td>2021-07-24 02:20:00+00:00</td>\n",
       "      <td>0</td>\n",
       "      <td>0</td>\n",
       "      <td>0</td>\n",
       "      <td>...</td>\n",
       "      <td>0.0</td>\n",
       "      <td>0.0</td>\n",
       "      <td>0</td>\n",
       "      <td>0</td>\n",
       "      <td>0</td>\n",
       "      <td>0.000000</td>\n",
       "      <td>0.000000</td>\n",
       "      <td>0</td>\n",
       "      <td>0</td>\n",
       "      <td>0</td>\n",
       "    </tr>\n",
       "    <tr>\n",
       "      <th>20</th>\n",
       "      <td>Western Bulldogs</td>\n",
       "      <td>Melbourne</td>\n",
       "      <td>Regular</td>\n",
       "      <td>M.C.G.</td>\n",
       "      <td>Adelaide</td>\n",
       "      <td>Gold Coast</td>\n",
       "      <td>2021-07-31 02:20:00+00:00</td>\n",
       "      <td>0</td>\n",
       "      <td>0</td>\n",
       "      <td>0</td>\n",
       "      <td>...</td>\n",
       "      <td>0.0</td>\n",
       "      <td>0.0</td>\n",
       "      <td>0</td>\n",
       "      <td>0</td>\n",
       "      <td>0</td>\n",
       "      <td>0.000000</td>\n",
       "      <td>0.000000</td>\n",
       "      <td>0</td>\n",
       "      <td>0</td>\n",
       "      <td>0</td>\n",
       "    </tr>\n",
       "    <tr>\n",
       "      <th>21</th>\n",
       "      <td>Western Bulldogs</td>\n",
       "      <td>Essendon</td>\n",
       "      <td>Regular</td>\n",
       "      <td>Docklands</td>\n",
       "      <td>Melbourne</td>\n",
       "      <td>Sydney</td>\n",
       "      <td>2021-08-07 02:20:00+00:00</td>\n",
       "      <td>0</td>\n",
       "      <td>0</td>\n",
       "      <td>0</td>\n",
       "      <td>...</td>\n",
       "      <td>0.0</td>\n",
       "      <td>0.0</td>\n",
       "      <td>0</td>\n",
       "      <td>0</td>\n",
       "      <td>0</td>\n",
       "      <td>0.000000</td>\n",
       "      <td>0.000000</td>\n",
       "      <td>0</td>\n",
       "      <td>0</td>\n",
       "      <td>0</td>\n",
       "    </tr>\n",
       "    <tr>\n",
       "      <th>22</th>\n",
       "      <td>Western Bulldogs</td>\n",
       "      <td>Hawthorn</td>\n",
       "      <td>Regular</td>\n",
       "      <td>York Park</td>\n",
       "      <td>Essendon</td>\n",
       "      <td>Collingwood</td>\n",
       "      <td>2021-08-14 02:11:00+00:00</td>\n",
       "      <td>0</td>\n",
       "      <td>0</td>\n",
       "      <td>0</td>\n",
       "      <td>...</td>\n",
       "      <td>0.0</td>\n",
       "      <td>0.0</td>\n",
       "      <td>0</td>\n",
       "      <td>0</td>\n",
       "      <td>0</td>\n",
       "      <td>0.000000</td>\n",
       "      <td>0.000000</td>\n",
       "      <td>0</td>\n",
       "      <td>0</td>\n",
       "      <td>0</td>\n",
       "    </tr>\n",
       "    <tr>\n",
       "      <th>23</th>\n",
       "      <td>Western Bulldogs</td>\n",
       "      <td>Port Adelaide</td>\n",
       "      <td>Regular</td>\n",
       "      <td>Docklands</td>\n",
       "      <td>Hawthorn</td>\n",
       "      <td>Carlton</td>\n",
       "      <td>2021-08-21 02:20:00+00:00</td>\n",
       "      <td>0</td>\n",
       "      <td>0</td>\n",
       "      <td>0</td>\n",
       "      <td>...</td>\n",
       "      <td>0.0</td>\n",
       "      <td>0.0</td>\n",
       "      <td>0</td>\n",
       "      <td>0</td>\n",
       "      <td>0</td>\n",
       "      <td>0.000000</td>\n",
       "      <td>0.000000</td>\n",
       "      <td>0</td>\n",
       "      <td>0</td>\n",
       "      <td>0</td>\n",
       "    </tr>\n",
       "  </tbody>\n",
       "</table>\n",
       "<p>31584 rows × 284 columns</p>\n",
       "</div>"
      ],
      "text/plain": [
       "                                      team      oppo_team round_type  \\\n",
       "Adelaide         1991 1           Adelaide       Hawthorn    Regular   \n",
       "                      2           Adelaide        Carlton    Regular   \n",
       "                      3           Adelaide         Sydney    Regular   \n",
       "                      4           Adelaide       Essendon    Regular   \n",
       "                      5           Adelaide     West Coast    Regular   \n",
       "...                                    ...            ...        ...   \n",
       "Western Bulldogs 2021 19  Western Bulldogs       Adelaide    Regular   \n",
       "                      20  Western Bulldogs      Melbourne    Regular   \n",
       "                      21  Western Bulldogs       Essendon    Regular   \n",
       "                      22  Western Bulldogs       Hawthorn    Regular   \n",
       "                      23  Western Bulldogs  Port Adelaide    Regular   \n",
       "\n",
       "                                   venue prev_match_oppo_team  \\\n",
       "Adelaide         1991 1    Football Park                    0   \n",
       "                      2    Football Park             Hawthorn   \n",
       "                      3           S.C.G.              Carlton   \n",
       "                      4       Windy Hill               Sydney   \n",
       "                      5          Subiaco             Essendon   \n",
       "...                                  ...                  ...   \n",
       "Western Bulldogs 2021 19  Eureka Stadium           Gold Coast   \n",
       "                      20          M.C.G.             Adelaide   \n",
       "                      21       Docklands            Melbourne   \n",
       "                      22       York Park             Essendon   \n",
       "                      23       Docklands             Hawthorn   \n",
       "\n",
       "                         oppo_prev_match_oppo_team                      date  \\\n",
       "Adelaide         1991 1                  Melbourne 1991-03-22 03:56:00+00:00   \n",
       "                      2                    Fitzroy 1991-03-31 03:56:00+00:00   \n",
       "                      3                   Hawthorn 1991-04-07 03:05:00+00:00   \n",
       "                      4            North Melbourne 1991-04-13 03:30:00+00:00   \n",
       "                      5            North Melbourne 1991-04-21 05:27:00+00:00   \n",
       "...                                            ...                       ...   \n",
       "Western Bulldogs 2021 19                West Coast 2021-07-24 02:20:00+00:00   \n",
       "                      20                Gold Coast 2021-07-31 02:20:00+00:00   \n",
       "                      21                    Sydney 2021-08-07 02:20:00+00:00   \n",
       "                      22               Collingwood 2021-08-14 02:11:00+00:00   \n",
       "                      23                   Carlton 2021-08-21 02:20:00+00:00   \n",
       "\n",
       "                          team_goals  team_behinds  score  ...  \\\n",
       "Adelaide         1991 1           24            11    155  ...   \n",
       "                      2           12             9     81  ...   \n",
       "                      3           19            18    132  ...   \n",
       "                      4            6            11     47  ...   \n",
       "                      5            9            11     65  ...   \n",
       "...                              ...           ...    ...  ...   \n",
       "Western Bulldogs 2021 19           0             0      0  ...   \n",
       "                      20           0             0      0  ...   \n",
       "                      21           0             0      0  ...   \n",
       "                      22           0             0      0  ...   \n",
       "                      23           0             0      0  ...   \n",
       "\n",
       "                          oppo_rolling_prev_match_time_on_ground_skew  \\\n",
       "Adelaide         1991 1                                           0.0   \n",
       "                      2                                           0.0   \n",
       "                      3                                           0.0   \n",
       "                      4                                           0.0   \n",
       "                      5                                           0.0   \n",
       "...                                                               ...   \n",
       "Western Bulldogs 2021 19                                          0.0   \n",
       "                      20                                          0.0   \n",
       "                      21                                          0.0   \n",
       "                      22                                          0.0   \n",
       "                      23                                          0.0   \n",
       "\n",
       "                          oppo_rolling_prev_match_time_on_ground_std  \\\n",
       "Adelaide         1991 1                                          0.0   \n",
       "                      2                                          0.0   \n",
       "                      3                                          0.0   \n",
       "                      4                                          0.0   \n",
       "                      5                                          0.0   \n",
       "...                                                              ...   \n",
       "Western Bulldogs 2021 19                                         0.0   \n",
       "                      20                                         0.0   \n",
       "                      21                                         0.0   \n",
       "                      22                                         0.0   \n",
       "                      23                                         0.0   \n",
       "\n",
       "                          oppo_last_year_brownlow_votes_sum  \\\n",
       "Adelaide         1991 1                                  72   \n",
       "                      2                                  51   \n",
       "                      3                                  33   \n",
       "                      4                                  71   \n",
       "                      5                                  48   \n",
       "...                                                     ...   \n",
       "Western Bulldogs 2021 19                                  0   \n",
       "                      20                                  0   \n",
       "                      21                                  0   \n",
       "                      22                                  0   \n",
       "                      23                                  0   \n",
       "\n",
       "                          oppo_last_year_brownlow_votes_max  \\\n",
       "Adelaide         1991 1                                  15   \n",
       "                      2                                  16   \n",
       "                      3                                   7   \n",
       "                      4                                  13   \n",
       "                      5                                   9   \n",
       "...                                                     ...   \n",
       "Western Bulldogs 2021 19                                  0   \n",
       "                      20                                  0   \n",
       "                      21                                  0   \n",
       "                      22                                  0   \n",
       "                      23                                  0   \n",
       "\n",
       "                          oppo_last_year_brownlow_votes_min  \\\n",
       "Adelaide         1991 1                                   0   \n",
       "                      2                                   0   \n",
       "                      3                                   0   \n",
       "                      4                                   0   \n",
       "                      5                                   0   \n",
       "...                                                     ...   \n",
       "Western Bulldogs 2021 19                                  0   \n",
       "                      20                                  0   \n",
       "                      21                                  0   \n",
       "                      22                                  0   \n",
       "                      23                                  0   \n",
       "\n",
       "                          oppo_last_year_brownlow_votes_skew  \\\n",
       "Adelaide         1991 1                             1.565197   \n",
       "                      2                             2.449132   \n",
       "                      3                             1.403576   \n",
       "                      4                             1.262708   \n",
       "                      5                             0.913203   \n",
       "...                                                      ...   \n",
       "Western Bulldogs 2021 19                            0.000000   \n",
       "                      20                            0.000000   \n",
       "                      21                            0.000000   \n",
       "                      22                            0.000000   \n",
       "                      23                            0.000000   \n",
       "\n",
       "                          oppo_last_year_brownlow_votes_std  \\\n",
       "Adelaide         1991 1                            4.070433   \n",
       "                      2                            3.913203   \n",
       "                      3                            2.433862   \n",
       "                      4                            4.524495   \n",
       "                      5                            3.218368   \n",
       "...                                                     ...   \n",
       "Western Bulldogs 2021 19                           0.000000   \n",
       "                      20                           0.000000   \n",
       "                      21                           0.000000   \n",
       "                      22                           0.000000   \n",
       "                      23                           0.000000   \n",
       "\n",
       "                          oppo_cum_matches_played  \\\n",
       "Adelaide         1991 1                        80   \n",
       "                      2                        60   \n",
       "                      3                        92   \n",
       "                      4                        69   \n",
       "                      5                        48   \n",
       "...                                           ...   \n",
       "Western Bulldogs 2021 19                        0   \n",
       "                      20                        0   \n",
       "                      21                        0   \n",
       "                      22                        0   \n",
       "                      23                        0   \n",
       "\n",
       "                          oppo_rolling_prev_match_goals_plus_rolling_prev_match_behinds  \\\n",
       "Adelaide         1991 1                                                   1               \n",
       "                      2                                                   1               \n",
       "                      3                                                   1               \n",
       "                      4                                                   1               \n",
       "                      5                                                   1               \n",
       "...                                                                     ...               \n",
       "Western Bulldogs 2021 19                                                  0               \n",
       "                      20                                                  0               \n",
       "                      21                                                  0               \n",
       "                      22                                                  0               \n",
       "                      23                                                  0               \n",
       "\n",
       "                          oppo_rolling_prev_match_goals_divided_by_rolling_prev_match_goals_plus_rolling_prev_match_behinds  \n",
       "Adelaide         1991 1                                                   0                                                  \n",
       "                      2                                                   0                                                  \n",
       "                      3                                                   0                                                  \n",
       "                      4                                                   0                                                  \n",
       "                      5                                                   0                                                  \n",
       "...                                                                     ...                                                  \n",
       "Western Bulldogs 2021 19                                                  0                                                  \n",
       "                      20                                                  0                                                  \n",
       "                      21                                                  0                                                  \n",
       "                      22                                                  0                                                  \n",
       "                      23                                                  0                                                  \n",
       "\n",
       "[31584 rows x 284 columns]"
      ]
     },
     "execution_count": 3,
     "metadata": {},
     "output_type": "execute_result"
    }
   ],
   "source": [
    "data = MLData(train_year_range=(max(CV_YEAR_RANGE),))\n",
    "data.data"
   ]
  },
  {
   "cell_type": "markdown",
   "metadata": {},
   "source": [
    "### Create pipelines"
   ]
  },
  {
   "cell_type": "markdown",
   "metadata": {},
   "source": [
    "## Runn RNN"
   ]
  },
  {
   "cell_type": "markdown",
   "metadata": {},
   "source": [
    "### Basic RNN for baseline performance\n",
    "\n",
    "RNNRegressor mostly uses the defaults for a Keras RNN model with LSTM cells. It has one hidden layer and measures accuracy, but optimises toward MAE, because accuracy doesn't lend itself easily to a loss function for a regressor. I chose 6 steps for the time-series, because that's a quarter of an average season, which seems like a decent starting point."
   ]
  },
  {
   "cell_type": "code",
   "execution_count": 4,
   "metadata": {
    "ExecuteTime": {
     "end_time": "2021-02-25T07:20:58.682605Z",
     "start_time": "2021-02-25T07:20:57.686258Z"
    }
   },
   "outputs": [
    {
     "name": "stderr",
     "output_type": "stream",
     "text": [
      "/usr/local/lib/python3.8/site-packages/ipykernel/ipkernel.py:283: DeprecationWarning: `should_run_async` will not call `transform_cell` automatically in the future. Please pass the result to `transformed_cell` argument and any exception that happen during thetransform in `preprocessing_exc_tuple` in IPython 7.17 and above.\n",
      "  and should_run_async(code)\n"
     ]
    }
   ],
   "source": [
    "ELO_MODEL_COLS = [\n",
    "    \"prev_match_oppo_team\",\n",
    "    \"oppo_prev_match_oppo_team\",\n",
    "    \"prev_match_at_home\",\n",
    "    \"oppo_prev_match_at_home\",\n",
    "    \"date\",\n",
    "]\n",
    "\n",
    "N_STEPS = 6\n",
    "\n",
    "X_train, _ = data.train_data\n",
    "n_features = X_train.shape[1] - len(ELO_MODEL_COLS)\n",
    "\n",
    "rnn_pipeline = make_pipeline(\n",
    "    ColumnDropper(cols_to_drop=ELO_MODEL_COLS),\n",
    "    ColumnTransformer(\n",
    "        [\n",
    "            (\n",
    "                \"ordinalencoder\",\n",
    "                OrdinalEncoder(categories=[TEAM_NAMES, TEAM_NAMES, ROUND_TYPES, VENUES]),\n",
    "                CATEGORY_COLS,\n",
    "            )\n",
    "        ],\n",
    "        remainder=StandardScaler(),\n",
    "    ),\n",
    "    RNNRegressor(\n",
    "        n_features=n_features,\n",
    "        n_steps=N_STEPS,\n",
    "        verbose=1,\n",
    "        epochs=50,\n",
    "    ),\n",
    ")"
   ]
  },
  {
   "cell_type": "code",
   "execution_count": 33,
   "metadata": {
    "ExecuteTime": {
     "end_time": "2021-02-24T19:51:26.217681Z",
     "start_time": "2021-02-24T19:48:19.227416Z"
    },
    "scrolled": true
   },
   "outputs": [
    {
     "name": "stdout",
     "output_type": "stream",
     "text": [
      "Epoch 1/50\n",
      "770/770 [==============================] - 15s 13ms/step - loss: 30.4317 - regressor_team_match_accuracy: 0.6598 - val_loss: 29.1593 - val_regressor_team_match_accuracy: 0.6896\n",
      "Epoch 2/50\n",
      "770/770 [==============================] - 8s 11ms/step - loss: 28.5193 - regressor_team_match_accuracy: 0.6948 - val_loss: 28.6980 - val_regressor_team_match_accuracy: 0.6930\n",
      "Epoch 3/50\n",
      "770/770 [==============================] - 8s 10ms/step - loss: 27.9400 - regressor_team_match_accuracy: 0.7051 - val_loss: 28.4956 - val_regressor_team_match_accuracy: 0.6901\n",
      "Epoch 4/50\n",
      "770/770 [==============================] - 10s 12ms/step - loss: 27.6555 - regressor_team_match_accuracy: 0.7123 - val_loss: 28.2960 - val_regressor_team_match_accuracy: 0.6947\n",
      "Epoch 5/50\n",
      "770/770 [==============================] - 8s 10ms/step - loss: 27.5295 - regressor_team_match_accuracy: 0.7075 - val_loss: 27.9092 - val_regressor_team_match_accuracy: 0.6968\n",
      "Epoch 6/50\n",
      "770/770 [==============================] - 10s 13ms/step - loss: 26.7951 - regressor_team_match_accuracy: 0.7095 - val_loss: 27.8748 - val_regressor_team_match_accuracy: 0.6942\n",
      "Epoch 7/50\n",
      "770/770 [==============================] - 9s 11ms/step - loss: 26.9076 - regressor_team_match_accuracy: 0.7129 - val_loss: 27.7714 - val_regressor_team_match_accuracy: 0.6945\n",
      "Epoch 8/50\n",
      "770/770 [==============================] - 8s 10ms/step - loss: 26.6154 - regressor_team_match_accuracy: 0.7198 - val_loss: 27.6786 - val_regressor_team_match_accuracy: 0.6992\n",
      "Epoch 9/50\n",
      "770/770 [==============================] - 9s 11ms/step - loss: 26.7660 - regressor_team_match_accuracy: 0.7159 - val_loss: 27.6375 - val_regressor_team_match_accuracy: 0.6932\n",
      "Epoch 10/50\n",
      "770/770 [==============================] - 9s 11ms/step - loss: 26.5383 - regressor_team_match_accuracy: 0.7114 - val_loss: 27.5141 - val_regressor_team_match_accuracy: 0.6982\n",
      "Epoch 11/50\n",
      "770/770 [==============================] - 9s 12ms/step - loss: 26.2337 - regressor_team_match_accuracy: 0.7141 - val_loss: 27.6271 - val_regressor_team_match_accuracy: 0.6934\n",
      "Epoch 12/50\n",
      "770/770 [==============================] - 8s 10ms/step - loss: 26.4746 - regressor_team_match_accuracy: 0.7203 - val_loss: 27.5528 - val_regressor_team_match_accuracy: 0.6963\n",
      "Epoch 13/50\n",
      "770/770 [==============================] - 8s 10ms/step - loss: 26.0814 - regressor_team_match_accuracy: 0.7211 - val_loss: 27.5430 - val_regressor_team_match_accuracy: 0.6901\n",
      "Epoch 14/50\n",
      "770/770 [==============================] - 8s 10ms/step - loss: 26.3330 - regressor_team_match_accuracy: 0.7181 - val_loss: 28.0060 - val_regressor_team_match_accuracy: 0.6895\n",
      "Epoch 15/50\n",
      "770/770 [==============================] - 9s 12ms/step - loss: 26.2194 - regressor_team_match_accuracy: 0.7202 - val_loss: 27.4917 - val_regressor_team_match_accuracy: 0.6942\n",
      "Epoch 16/50\n",
      "770/770 [==============================] - 8s 10ms/step - loss: 25.6828 - regressor_team_match_accuracy: 0.7229 - val_loss: 27.5962 - val_regressor_team_match_accuracy: 0.6934\n",
      "Epoch 17/50\n",
      "770/770 [==============================] - 8s 10ms/step - loss: 25.6770 - regressor_team_match_accuracy: 0.7263 - val_loss: 27.5216 - val_regressor_team_match_accuracy: 0.6977\n",
      "Epoch 18/50\n",
      "770/770 [==============================] - 8s 11ms/step - loss: 25.5369 - regressor_team_match_accuracy: 0.7230 - val_loss: 27.5911 - val_regressor_team_match_accuracy: 0.6940\n",
      "Epoch 19/50\n",
      "770/770 [==============================] - 14s 18ms/step - loss: 25.4227 - regressor_team_match_accuracy: 0.7282 - val_loss: 27.7899 - val_regressor_team_match_accuracy: 0.6916\n",
      "Epoch 20/50\n",
      "770/770 [==============================] - 9s 11ms/step - loss: 25.5775 - regressor_team_match_accuracy: 0.7358 - val_loss: 27.4992 - val_regressor_team_match_accuracy: 0.6927\n"
     ]
    }
   ],
   "source": [
    "rnn_pipeline.fit(*data.train_data)\n",
    "None"
   ]
  },
  {
   "cell_type": "code",
   "execution_count": 34,
   "metadata": {
    "ExecuteTime": {
     "end_time": "2021-02-24T19:51:42.555789Z",
     "start_time": "2021-02-24T19:51:26.221483Z"
    },
    "scrolled": true
   },
   "outputs": [
    {
     "name": "stderr",
     "output_type": "stream",
     "text": [
      "/usr/local/lib/python3.8/site-packages/ipykernel/ipkernel.py:283: DeprecationWarning: `should_run_async` will not call `transform_cell` automatically in the future. Please pass the result to `transformed_cell` argument and any exception that happen during thetransform in `preprocessing_exc_tuple` in IPython 7.17 and above.\n",
      "  and should_run_async(code)\n"
     ]
    },
    {
     "data": {
      "image/png": "[encoded data removed]",
      "text/plain": [
       "<Figure size 432x288 with 1 Axes>"
      ]
     },
     "metadata": {
      "needs_background": "light"
     },
     "output_type": "display_data"
    },
    {
     "data": {
      "image/png": "[encoded data removed]",
      "text/plain": [
       "<Figure size 432x288 with 1 Axes>"
      ]
     },
     "metadata": {
      "needs_background": "light"
     },
     "output_type": "display_data"
    }
   ],
   "source": [
    "graph_tf_model_history(rnn_pipeline.steps[-1][1].history, metrics=['regressor_team_match_accuracy'])"
   ]
  },
  {
   "cell_type": "markdown",
   "metadata": {},
   "source": [
    "Performance is in the ballpark with other top models, though about 2% lower accuracy (this is from being trained on a full training data set and validated on 2019 data, however, rather than using a multi-fold CV from recent years, so it's not apples-to-apples)."
   ]
  },
  {
   "cell_type": "markdown",
   "metadata": {},
   "source": [
    "### SearchCV for a better model structure\n",
    "\n",
    "Given all the potential parameters for an RNN, a little trial-and-error isn't going to give us a realistic indication of the model's performance, so we'll do a small parameter search to hopefully give us a better structure (i.e. # layers, # cells per layer) to start fine tuning."
   ]
  },
  {
   "cell_type": "code",
   "execution_count": 8,
   "metadata": {
    "ExecuteTime": {
     "end_time": "2021-02-21T06:44:19.212557Z",
     "start_time": "2021-02-21T06:44:19.131429Z"
    }
   },
   "outputs": [
    {
     "data": {
      "text/plain": [
       "['rnnregressor__activity_regularizer',\n",
       " 'rnnregressor__batch_size',\n",
       " 'rnnregressor__bias_regularizer',\n",
       " 'rnnregressor__dropout',\n",
       " 'rnnregressor__epochs',\n",
       " 'rnnregressor__kernel_regularizer',\n",
       " 'rnnregressor__loss',\n",
       " 'rnnregressor__metrics',\n",
       " 'rnnregressor__n_categories',\n",
       " 'rnnregressor__n_cells',\n",
       " 'rnnregressor__n_features',\n",
       " 'rnnregressor__n_hidden_layers',\n",
       " 'rnnregressor__n_steps',\n",
       " 'rnnregressor__n_teams',\n",
       " 'rnnregressor__n_venues',\n",
       " 'rnnregressor__optimizer',\n",
       " 'rnnregressor__patience',\n",
       " 'rnnregressor__recurrent_dropout',\n",
       " 'rnnregressor__recurrent_regularizer',\n",
       " 'rnnregressor__round_type_dim',\n",
       " 'rnnregressor__team_dim',\n",
       " 'rnnregressor__venue_dim',\n",
       " 'rnnregressor__verbose']"
      ]
     },
     "execution_count": 8,
     "metadata": {},
     "output_type": "execute_result"
    }
   ],
   "source": [
    "[param for param in rnn_pipeline.get_params() if 'rnnregressor__' in param]"
   ]
  },
  {
   "cell_type": "code",
   "execution_count": 7,
   "metadata": {
    "ExecuteTime": {
     "end_time": "2021-02-25T07:56:17.567087Z",
     "start_time": "2021-02-25T07:56:11.897639Z"
    }
   },
   "outputs": [],
   "source": [
    "PARAM_GRID = {\n",
    "    'rnnregressor__dropout': stats.uniform(0.0, 0.5),\n",
    "    'rnnregressor__n_cells': np.arange(20, 201),\n",
    "    'rnnregressor__n_hidden_layers': np.arange(1, 11),\n",
    "    'rnnregressor__n_steps': np.arange(2, 13), # ~10% to ~50% of a season\n",
    "    'rnnregressor__recurrent_dropout': stats.uniform(0.0, 0.5),\n",
    "}\n",
    "\n",
    "rnn_pipeline.set_params(rnnregressor__verbose=0)\n",
    "\n",
    "X_train, y_train = data.train_data\n",
    "\n",
    "random_search = RandomizedSearchCV(\n",
    "    rnn_pipeline,\n",
    "    PARAM_GRID,\n",
    "    scoring=match_accuracy_scorer,\n",
    "    n_jobs=-1,\n",
    "    cv=year_cv_split(X_train, CV_YEAR_RANGE),\n",
    "    refit=False,\n",
    "    verbose=2,\n",
    "    error_score='raise',\n",
    "    n_iter=5,\n",
    ")"
   ]
  },
  {
   "cell_type": "code",
   "execution_count": 8,
   "metadata": {
    "ExecuteTime": {
     "end_time": "2021-02-25T10:29:28.046397Z",
     "start_time": "2021-02-25T07:56:17.571859Z"
    },
    "scrolled": true
   },
   "outputs": [
    {
     "name": "stderr",
     "output_type": "stream",
     "text": [
      "/usr/local/lib/python3.8/site-packages/ipykernel/ipkernel.py:283: DeprecationWarning: `should_run_async` will not call `transform_cell` automatically in the future. Please pass the result to `transformed_cell` argument and any exception that happen during thetransform in `preprocessing_exc_tuple` in IPython 7.17 and above.\n",
      "  and should_run_async(code)\n"
     ]
    },
    {
     "name": "stdout",
     "output_type": "stream",
     "text": [
      "Fitting 5 folds for each of 5 candidates, totalling 25 fits\n"
     ]
    },
    {
     "name": "stderr",
     "output_type": "stream",
     "text": [
      "/usr/local/lib/python3.8/site-packages/joblib/externals/loky/process_executor.py:688: UserWarning: A worker stopped while some jobs were given to the executor. This can be caused by a too short worker timeout or by a memory leak.\n",
      "  warnings.warn(\n"
     ]
    },
    {
     "data": {
      "text/plain": [
       "RandomizedSearchCV(cv=[(array([ True,  True,  True, ..., False, False, False]),\n",
       "                        array([False, False, False, ..., False, False, False])),\n",
       "                       (array([ True,  True,  True, ..., False, False, False]),\n",
       "                        array([False, False, False, ..., False, False, False])),\n",
       "                       (array([ True,  True,  True, ..., False, False, False]),\n",
       "                        array([False, False, False, ..., False, False, False])),\n",
       "                       (array([ True,  True,  True, ..., False, Fal...\n",
       "       189, 190, 191, 192, 193, 194, 195, 196, 197, 198, 199, 200]),\n",
       "                                        'rnnregressor__n_hidden_layers': array([ 1,  2,  3,  4,  5,  6,  7,  8,  9, 10]),\n",
       "                                        'rnnregressor__n_steps': array([ 2,  3,  4,  5,  6,  7,  8,  9, 10, 11, 12]),\n",
       "                                        'rnnregressor__recurrent_dropout': <scipy.stats._distn_infrastructure.rv_frozen object at 0x7f20a5f17640>},\n",
       "                   refit=False,\n",
       "                   scoring=<function match_accuracy_scorer at 0x7f219e745670>,\n",
       "                   verbose=2)"
      ]
     },
     "execution_count": 8,
     "metadata": {},
     "output_type": "execute_result"
    }
   ],
   "source": [
    "random_search.fit(X_train, y_train)"
   ]
  },
  {
   "cell_type": "code",
   "execution_count": 9,
   "metadata": {
    "ExecuteTime": {
     "end_time": "2021-02-25T10:29:30.527085Z",
     "start_time": "2021-02-25T10:29:28.113637Z"
    },
    "scrolled": true
   },
   "outputs": [
    {
     "data": {
      "text/plain": [
       "{'mean_fit_time': array([ 502.99574385, 1143.82803593, 1099.88098235, 2476.79402208,\n",
       "        1587.3754725 ]),\n",
       " 'std_fit_time': array([110.2145125 , 296.66567002, 227.8016965 , 276.95753716,\n",
       "        520.13637449]),\n",
       " 'mean_score_time': array([ 2.43665953,  6.3504952 ,  5.72126551, 14.04012208,  3.95674524]),\n",
       " 'std_score_time': array([0.28161701, 0.96080937, 1.96701075, 3.98480994, 2.23034507]),\n",
       " 'param_rnnregressor__dropout': masked_array(data=[0.06974693032602092, 0.23338144662398996,\n",
       "                    0.006632480579933264, 0.048836057003191935,\n",
       "                    0.45466020103939103],\n",
       "              mask=[False, False, False, False, False],\n",
       "        fill_value='?',\n",
       "             dtype=object),\n",
       " 'param_rnnregressor__n_cells': masked_array(data=[34, 70, 108, 103, 183],\n",
       "              mask=[False, False, False, False, False],\n",
       "        fill_value='?',\n",
       "             dtype=object),\n",
       " 'param_rnnregressor__n_hidden_layers': masked_array(data=[3, 7, 2, 7, 2],\n",
       "              mask=[False, False, False, False, False],\n",
       "        fill_value='?',\n",
       "             dtype=object),\n",
       " 'param_rnnregressor__n_steps': masked_array(data=[8, 6, 11, 9, 9],\n",
       "              mask=[False, False, False, False, False],\n",
       "        fill_value='?',\n",
       "             dtype=object),\n",
       " 'param_rnnregressor__recurrent_dropout': masked_array(data=[0.4916154429033941, 0.2252496259847715,\n",
       "                    0.15230688458668534, 0.017194260557609198,\n",
       "                    0.37768070515882624],\n",
       "              mask=[False, False, False, False, False],\n",
       "        fill_value='?',\n",
       "             dtype=object),\n",
       " 'params': [{'rnnregressor__dropout': 0.06974693032602092,\n",
       "   'rnnregressor__n_cells': 34,\n",
       "   'rnnregressor__n_hidden_layers': 3,\n",
       "   'rnnregressor__n_steps': 8,\n",
       "   'rnnregressor__recurrent_dropout': 0.4916154429033941},\n",
       "  {'rnnregressor__dropout': 0.23338144662398996,\n",
       "   'rnnregressor__n_cells': 70,\n",
       "   'rnnregressor__n_hidden_layers': 7,\n",
       "   'rnnregressor__n_steps': 6,\n",
       "   'rnnregressor__recurrent_dropout': 0.2252496259847715},\n",
       "  {'rnnregressor__dropout': 0.006632480579933264,\n",
       "   'rnnregressor__n_cells': 108,\n",
       "   'rnnregressor__n_hidden_layers': 2,\n",
       "   'rnnregressor__n_steps': 11,\n",
       "   'rnnregressor__recurrent_dropout': 0.15230688458668534},\n",
       "  {'rnnregressor__dropout': 0.048836057003191935,\n",
       "   'rnnregressor__n_cells': 103,\n",
       "   'rnnregressor__n_hidden_layers': 7,\n",
       "   'rnnregressor__n_steps': 9,\n",
       "   'rnnregressor__recurrent_dropout': 0.017194260557609198},\n",
       "  {'rnnregressor__dropout': 0.45466020103939103,\n",
       "   'rnnregressor__n_cells': 183,\n",
       "   'rnnregressor__n_hidden_layers': 2,\n",
       "   'rnnregressor__n_steps': 9,\n",
       "   'rnnregressor__recurrent_dropout': 0.37768070515882624}],\n",
       " 'split0_test_score': array([0.66019417, 0.66990291, 0.64563107, 0.67475728, 0.66019417]),\n",
       " 'split1_test_score': array([0.68115942, 0.66666667, 0.6763285 , 0.61352657, 0.6763285 ]),\n",
       " 'split2_test_score': array([0.61352657, 0.64251208, 0.68599034, 0.63285024, 0.64251208]),\n",
       " 'split3_test_score': array([0.66666667, 0.70048309, 0.63768116, 0.69082126, 0.68599034]),\n",
       " 'split4_test_score': array([0.647343  , 0.61352657, 0.647343  , 0.61835749, 0.61352657]),\n",
       " 'mean_test_score': array([0.65377797, 0.65861826, 0.65859481, 0.64606257, 0.65571033]),\n",
       " 'std_test_score': array([0.02288499, 0.0291117 , 0.01895807, 0.03107235, 0.02575172]),\n",
       " 'rank_test_score': array([4, 1, 2, 5, 3], dtype=int32)}"
      ]
     },
     "execution_count": 9,
     "metadata": {},
     "output_type": "execute_result"
    }
   ],
   "source": [
    "random_search.cv_results_"
   ]
  },
  {
   "cell_type": "code",
   "execution_count": 12,
   "metadata": {
    "ExecuteTime": {
     "end_time": "2021-02-25T20:23:10.905391Z",
     "start_time": "2021-02-25T20:23:10.472464Z"
    },
    "scrolled": true
   },
   "outputs": [
    {
     "data": {
      "text/html": [
       "<div>\n",
       "<style scoped>\n",
       "    .dataframe tbody tr th:only-of-type {\n",
       "        vertical-align: middle;\n",
       "    }\n",
       "\n",
       "    .dataframe tbody tr th {\n",
       "        vertical-align: top;\n",
       "    }\n",
       "\n",
       "    .dataframe thead th {\n",
       "        text-align: right;\n",
       "    }\n",
       "</style>\n",
       "<table border=\"1\" class=\"dataframe\">\n",
       "  <thead>\n",
       "    <tr style=\"text-align: right;\">\n",
       "      <th></th>\n",
       "      <th>mean_test_score</th>\n",
       "      <th>param_rnnregressor__dropout</th>\n",
       "      <th>param_rnnregressor__n_cells</th>\n",
       "      <th>param_rnnregressor__n_hidden_layers</th>\n",
       "      <th>param_rnnregressor__n_steps</th>\n",
       "      <th>param_rnnregressor__recurrent_dropout</th>\n",
       "    </tr>\n",
       "  </thead>\n",
       "  <tbody>\n",
       "    <tr>\n",
       "      <th>1</th>\n",
       "      <td>0.658618</td>\n",
       "      <td>0.233381</td>\n",
       "      <td>70</td>\n",
       "      <td>7</td>\n",
       "      <td>6</td>\n",
       "      <td>0.22525</td>\n",
       "    </tr>\n",
       "    <tr>\n",
       "      <th>2</th>\n",
       "      <td>0.658595</td>\n",
       "      <td>0.006632</td>\n",
       "      <td>108</td>\n",
       "      <td>2</td>\n",
       "      <td>11</td>\n",
       "      <td>0.152307</td>\n",
       "    </tr>\n",
       "    <tr>\n",
       "      <th>4</th>\n",
       "      <td>0.655710</td>\n",
       "      <td>0.45466</td>\n",
       "      <td>183</td>\n",
       "      <td>2</td>\n",
       "      <td>9</td>\n",
       "      <td>0.377681</td>\n",
       "    </tr>\n",
       "    <tr>\n",
       "      <th>0</th>\n",
       "      <td>0.653778</td>\n",
       "      <td>0.069747</td>\n",
       "      <td>34</td>\n",
       "      <td>3</td>\n",
       "      <td>8</td>\n",
       "      <td>0.491615</td>\n",
       "    </tr>\n",
       "    <tr>\n",
       "      <th>3</th>\n",
       "      <td>0.646063</td>\n",
       "      <td>0.048836</td>\n",
       "      <td>103</td>\n",
       "      <td>7</td>\n",
       "      <td>9</td>\n",
       "      <td>0.017194</td>\n",
       "    </tr>\n",
       "  </tbody>\n",
       "</table>\n",
       "</div>"
      ],
      "text/plain": [
       "   mean_test_score param_rnnregressor__dropout param_rnnregressor__n_cells  \\\n",
       "1         0.658618                    0.233381                          70   \n",
       "2         0.658595                    0.006632                         108   \n",
       "4         0.655710                     0.45466                         183   \n",
       "0         0.653778                    0.069747                          34   \n",
       "3         0.646063                    0.048836                         103   \n",
       "\n",
       "  param_rnnregressor__n_hidden_layers param_rnnregressor__n_steps  \\\n",
       "1                                   7                           6   \n",
       "2                                   2                          11   \n",
       "4                                   2                           9   \n",
       "0                                   3                           8   \n",
       "3                                   7                           9   \n",
       "\n",
       "  param_rnnregressor__recurrent_dropout  \n",
       "1                               0.22525  \n",
       "2                              0.152307  \n",
       "4                              0.377681  \n",
       "0                              0.491615  \n",
       "3                              0.017194  "
      ]
     },
     "execution_count": 12,
     "metadata": {},
     "output_type": "execute_result"
    }
   ],
   "source": [
    "results = (\n",
    "    pd\n",
    "    .DataFrame(random_search.cv_results_)\n",
    "    .sort_values('rank_test_score')\n",
    "    .filter(regex='mean_test_score|param_')\n",
    "    .sort_index(axis=1)\n",
    ")\n",
    "\n",
    "results.head(20)"
   ]
  },
  {
   "cell_type": "code",
   "execution_count": 11,
   "metadata": {
    "ExecuteTime": {
     "end_time": "2021-02-25T10:29:31.209201Z",
     "start_time": "2021-02-25T10:29:31.090292Z"
    }
   },
   "outputs": [
    {
     "name": "stderr",
     "output_type": "stream",
     "text": [
      "/usr/local/lib/python3.8/site-packages/ipykernel/ipkernel.py:283: DeprecationWarning: `should_run_async` will not call `transform_cell` automatically in the future. Please pass the result to `transformed_cell` argument and any exception that happen during thetransform in `preprocessing_exc_tuple` in IPython 7.17 and above.\n",
      "  and should_run_async(code)\n"
     ]
    }
   ],
   "source": [
    "results.to_json('2.1-recurrent-neural-net-param-scores.json', indent=2, orient='records')"
   ]
  },
  {
   "cell_type": "markdown",
   "metadata": {},
   "source": [
    "Well, that was underwhelming. I got better performance in 2019 with some configurations that I arrived at via trial-and-error. I'll give the best of those a try to see if I just got a bad batch of params."
   ]
  },
  {
   "cell_type": "markdown",
   "metadata": {},
   "source": [
    "### Try RNN from 2019\n",
    "\n",
    "This was more-or-less the configuration for the final RNN tested in `notebooks/2019_season/6.1-all-data-rnn.ipynb`, which got accuracies in the low 70s. The mix of validation seasons that we're using here are harder to predict, and thus produce lower accuracy across models, but we'll see if we can still get comparable performance."
   ]
  },
  {
   "cell_type": "code",
   "execution_count": 18,
   "metadata": {
    "ExecuteTime": {
     "end_time": "2021-02-26T08:37:05.236069Z",
     "start_time": "2021-02-26T08:37:03.741760Z"
    }
   },
   "outputs": [
    {
     "name": "stderr",
     "output_type": "stream",
     "text": [
      "/usr/local/lib/python3.8/site-packages/ipykernel/ipkernel.py:283: DeprecationWarning: `should_run_async` will not call `transform_cell` automatically in the future. Please pass the result to `transformed_cell` argument and any exception that happen during thetransform in `preprocessing_exc_tuple` in IPython 7.17 and above.\n",
      "  and should_run_async(code)\n"
     ]
    }
   ],
   "source": [
    "existing_rnn_pipeline = make_pipeline(\n",
    "    ColumnDropper(cols_to_drop=ELO_MODEL_COLS),\n",
    "    ColumnTransformer(\n",
    "        [\n",
    "            (\n",
    "                \"ordinalencoder\",\n",
    "                OrdinalEncoder(categories=[TEAM_NAMES, TEAM_NAMES, ROUND_TYPES, VENUES]),\n",
    "                CATEGORY_COLS,\n",
    "            )\n",
    "        ],\n",
    "        remainder=StandardScaler(),\n",
    "    ),\n",
    "    RNNRegressor(\n",
    "        n_features=n_features,\n",
    "        verbose=1,\n",
    "        epochs=50,\n",
    "        n_hidden_layers=2,\n",
    "        n_cells=100,\n",
    "        n_steps=5,\n",
    "        dropout=0.3,\n",
    "        recurrent_dropout=0.6,\n",
    "        patience=5,\n",
    "    ),\n",
    ")"
   ]
  },
  {
   "cell_type": "code",
   "execution_count": 21,
   "metadata": {
    "ExecuteTime": {
     "end_time": "2021-02-26T08:57:16.185753Z",
     "start_time": "2021-02-26T08:47:30.563397Z"
    },
    "scrolled": true
   },
   "outputs": [
    {
     "name": "stderr",
     "output_type": "stream",
     "text": [
      "/usr/local/lib/python3.8/site-packages/ipykernel/ipkernel.py:283: DeprecationWarning: `should_run_async` will not call `transform_cell` automatically in the future. Please pass the result to `transformed_cell` argument and any exception that happen during thetransform in `preprocessing_exc_tuple` in IPython 7.17 and above.\n",
      "  and should_run_async(code)\n",
      "[Parallel(n_jobs=1)]: Using backend SequentialBackend with 1 concurrent workers.\n"
     ]
    },
    {
     "name": "stdout",
     "output_type": "stream",
     "text": [
      "[CV] END .................................................... total time= 2.2min\n"
     ]
    },
    {
     "name": "stderr",
     "output_type": "stream",
     "text": [
      "[Parallel(n_jobs=1)]: Done   1 out of   1 | elapsed:  2.2min remaining:    0.0s\n"
     ]
    },
    {
     "name": "stdout",
     "output_type": "stream",
     "text": [
      "[CV] END .................................................... total time= 1.6min\n",
      "[CV] END .................................................... total time= 1.9min\n",
      "[CV] END .................................................... total time= 2.3min\n",
      "[CV] END .................................................... total time= 1.7min\n"
     ]
    },
    {
     "name": "stderr",
     "output_type": "stream",
     "text": [
      "[Parallel(n_jobs=1)]: Done   5 out of   5 | elapsed:  9.8min finished\n"
     ]
    },
    {
     "data": {
      "text/plain": [
       "{'fit_time': array([132.09458828,  98.06135702, 112.78712034, 135.38352323,\n",
       "        102.62480307]),\n",
       " 'score_time': array([0.6268425 , 0.58578753, 0.46472669, 0.55794644, 0.51531267]),\n",
       " 'test_score': array([0.68932039, 0.6763285 , 0.67149758, 0.69082126, 0.65700483])}"
      ]
     },
     "execution_count": 21,
     "metadata": {},
     "output_type": "execute_result"
    }
   ],
   "source": [
    "existing_rnn = cross_validate(\n",
    "    rnn_pipeline,\n",
    "    X_train,\n",
    "    y_train,\n",
    "    scoring=match_accuracy_scorer,\n",
    "    n_jobs=None,\n",
    "    cv=year_cv_split(X_train, CV_YEAR_RANGE),\n",
    "    verbose=2,\n",
    "    error_score='raise',\n",
    ")\n",
    "existing_rnn"
   ]
  },
  {
   "cell_type": "code",
   "execution_count": 22,
   "metadata": {
    "ExecuteTime": {
     "end_time": "2021-02-26T08:57:55.856903Z",
     "start_time": "2021-02-26T08:57:55.764629Z"
    },
    "scrolled": true
   },
   "outputs": [
    {
     "name": "stderr",
     "output_type": "stream",
     "text": [
      "/usr/local/lib/python3.8/site-packages/ipykernel/ipkernel.py:283: DeprecationWarning: `should_run_async` will not call `transform_cell` automatically in the future. Please pass the result to `transformed_cell` argument and any exception that happen during thetransform in `preprocessing_exc_tuple` in IPython 7.17 and above.\n",
      "  and should_run_async(code)\n"
     ]
    },
    {
     "data": {
      "text/plain": [
       "0.6769945124525115"
      ]
     },
     "execution_count": 22,
     "metadata": {},
     "output_type": "execute_result"
    }
   ],
   "source": [
    "existing_rnn['test_score'].mean()"
   ]
  },
  {
   "cell_type": "markdown",
   "metadata": {},
   "source": [
    "We have slightly better accuracy than from the best params from the CV, but it's still quite a bit worse than simple `Ridge`. I'm running low on time and patience, so I'm just going to go linear this season and look into deep learning model best practices to maybe come up with something useful for next season."
   ]
  },
  {
   "cell_type": "code",
   "execution_count": null,
   "metadata": {},
   "outputs": [],
   "source": []
  }
 ],
 "metadata": {
  "kernelspec": {
   "display_name": "augury",
   "language": "python",
   "name": "python3"
  },
  "language_info": {
   "codemirror_mode": {
    "name": "ipython",
    "version": 3
   },
   "file_extension": ".py",
   "mimetype": "text/x-python",
   "name": "python",
   "nbconvert_exporter": "python",
   "pygments_lexer": "ipython3",
   "version": "3.8.6"
  },
  "toc": {
   "base_numbering": 1,
   "nav_menu": {},
   "number_sections": true,
   "sideBar": true,
   "skip_h1_title": false,
   "title_cell": "Table of Contents",
   "title_sidebar": "Contents",
   "toc_cell": false,
   "toc_position": {},
   "toc_section_display": true,
   "toc_window_display": false
  }
 },
 "nbformat": 4,
 "nbformat_minor": 2
}
