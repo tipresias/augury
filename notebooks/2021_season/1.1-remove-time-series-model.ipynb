{
 "cells": [
  {
   "cell_type": "markdown",
   "metadata": {},
   "source": [
    "## Remove Time-Series Model\n",
    "\n",
    "While experimenting with different time-series models and trying to improve that part of the model's performance, I realised how complicated and hacky my work-arounds were to be able to include an ARIMA model in the ensemble. I couldn't get `darts` to work, for example, because they don't accept data without a consistent frequency. I could lie about the dates and just make all matches exactly a week apart, but that's not great. Also, the ARIMA model contributed almost nothing to the final ensemble, its predictions having a feature importance of about zero for the meta-estimator.\n",
    "\n",
    "I've decided that maintaining the extra dependencies and code for a time-series model isn't worth the trouble, but it's good to check the impact just to be sure."
   ]
  },
  {
   "cell_type": "markdown",
   "metadata": {},
   "source": [
    "## Code Setup"
   ]
  },
  {
   "cell_type": "code",
   "execution_count": 1,
   "metadata": {
    "ExecuteTime": {
     "end_time": "2021-02-13T08:45:31.809508Z",
     "start_time": "2021-02-13T08:45:31.744877Z"
    }
   },
   "outputs": [],
   "source": [
    "%load_ext autoreload"
   ]
  },
  {
   "cell_type": "code",
   "execution_count": 11,
   "metadata": {
    "ExecuteTime": {
     "end_time": "2021-02-13T08:53:20.936859Z",
     "start_time": "2021-02-13T08:53:20.852514Z"
    }
   },
   "outputs": [],
   "source": [
    "%autoreload 2\n",
    "\n",
    "import numpy as np\n",
    "import pandas as pd\n",
    "from sklearn.metrics import mean_absolute_error\n",
    "from sklearn.base import clone\n",
    "\n",
    "from augury.ml_estimators import StackingEstimator\n",
    "from augury.ml_data import MLData\n",
    "from augury.settings import CV_YEAR_RANGE, SEED\n",
    "from augury.model_tracking import score_model\n",
    "\n",
    "np.random.seed(SEED)"
   ]
  },
  {
   "cell_type": "code",
   "execution_count": 4,
   "metadata": {
    "ExecuteTime": {
     "end_time": "2021-02-13T08:46:14.800954Z",
     "start_time": "2021-02-13T08:45:49.013768Z"
    },
    "scrolled": true
   },
   "outputs": [
    {
     "name": "stdout",
     "output_type": "stream",
     "text": [
      "2021-02-13 08:45:49,296 - kedro.io.data_catalog - INFO - Loading data from `full_data` (JSONDataSet)...\n"
     ]
    },
    {
     "data": {
      "text/html": [
       "<div>\n",
       "<style scoped>\n",
       "    .dataframe tbody tr th:only-of-type {\n",
       "        vertical-align: middle;\n",
       "    }\n",
       "\n",
       "    .dataframe tbody tr th {\n",
       "        vertical-align: top;\n",
       "    }\n",
       "\n",
       "    .dataframe thead th {\n",
       "        text-align: right;\n",
       "    }\n",
       "</style>\n",
       "<table border=\"1\" class=\"dataframe\">\n",
       "  <thead>\n",
       "    <tr style=\"text-align: right;\">\n",
       "      <th></th>\n",
       "      <th></th>\n",
       "      <th></th>\n",
       "      <th>team</th>\n",
       "      <th>oppo_team</th>\n",
       "      <th>round_type</th>\n",
       "      <th>venue</th>\n",
       "      <th>prev_match_oppo_team</th>\n",
       "      <th>oppo_prev_match_oppo_team</th>\n",
       "      <th>date</th>\n",
       "      <th>team_goals</th>\n",
       "      <th>team_behinds</th>\n",
       "      <th>score</th>\n",
       "      <th>...</th>\n",
       "      <th>oppo_rolling_prev_match_time_on_ground_skew</th>\n",
       "      <th>oppo_rolling_prev_match_time_on_ground_std</th>\n",
       "      <th>oppo_last_year_brownlow_votes_sum</th>\n",
       "      <th>oppo_last_year_brownlow_votes_max</th>\n",
       "      <th>oppo_last_year_brownlow_votes_min</th>\n",
       "      <th>oppo_last_year_brownlow_votes_skew</th>\n",
       "      <th>oppo_last_year_brownlow_votes_std</th>\n",
       "      <th>oppo_cum_matches_played</th>\n",
       "      <th>oppo_rolling_prev_match_goals_plus_rolling_prev_match_behinds</th>\n",
       "      <th>oppo_rolling_prev_match_goals_divided_by_rolling_prev_match_goals_plus_rolling_prev_match_behinds</th>\n",
       "    </tr>\n",
       "  </thead>\n",
       "  <tbody>\n",
       "    <tr>\n",
       "      <th rowspan=\"5\" valign=\"top\">Adelaide</th>\n",
       "      <th rowspan=\"5\" valign=\"top\">1991</th>\n",
       "      <th>1</th>\n",
       "      <td>Adelaide</td>\n",
       "      <td>Hawthorn</td>\n",
       "      <td>Regular</td>\n",
       "      <td>Football Park</td>\n",
       "      <td>0</td>\n",
       "      <td>Melbourne</td>\n",
       "      <td>1991-03-22 03:56:00+00:00</td>\n",
       "      <td>24</td>\n",
       "      <td>11</td>\n",
       "      <td>155</td>\n",
       "      <td>...</td>\n",
       "      <td>0.0</td>\n",
       "      <td>0.0</td>\n",
       "      <td>72</td>\n",
       "      <td>15</td>\n",
       "      <td>0</td>\n",
       "      <td>1.565197</td>\n",
       "      <td>4.070433</td>\n",
       "      <td>80</td>\n",
       "      <td>1</td>\n",
       "      <td>0</td>\n",
       "    </tr>\n",
       "    <tr>\n",
       "      <th>2</th>\n",
       "      <td>Adelaide</td>\n",
       "      <td>Carlton</td>\n",
       "      <td>Regular</td>\n",
       "      <td>Football Park</td>\n",
       "      <td>Hawthorn</td>\n",
       "      <td>Fitzroy</td>\n",
       "      <td>1991-03-31 03:56:00+00:00</td>\n",
       "      <td>12</td>\n",
       "      <td>9</td>\n",
       "      <td>81</td>\n",
       "      <td>...</td>\n",
       "      <td>0.0</td>\n",
       "      <td>0.0</td>\n",
       "      <td>51</td>\n",
       "      <td>16</td>\n",
       "      <td>0</td>\n",
       "      <td>2.449132</td>\n",
       "      <td>3.913203</td>\n",
       "      <td>60</td>\n",
       "      <td>1</td>\n",
       "      <td>0</td>\n",
       "    </tr>\n",
       "    <tr>\n",
       "      <th>3</th>\n",
       "      <td>Adelaide</td>\n",
       "      <td>Sydney</td>\n",
       "      <td>Regular</td>\n",
       "      <td>S.C.G.</td>\n",
       "      <td>Carlton</td>\n",
       "      <td>Hawthorn</td>\n",
       "      <td>1991-04-07 03:05:00+00:00</td>\n",
       "      <td>19</td>\n",
       "      <td>18</td>\n",
       "      <td>132</td>\n",
       "      <td>...</td>\n",
       "      <td>0.0</td>\n",
       "      <td>0.0</td>\n",
       "      <td>33</td>\n",
       "      <td>7</td>\n",
       "      <td>0</td>\n",
       "      <td>1.403576</td>\n",
       "      <td>2.433862</td>\n",
       "      <td>92</td>\n",
       "      <td>1</td>\n",
       "      <td>0</td>\n",
       "    </tr>\n",
       "    <tr>\n",
       "      <th>4</th>\n",
       "      <td>Adelaide</td>\n",
       "      <td>Essendon</td>\n",
       "      <td>Regular</td>\n",
       "      <td>Windy Hill</td>\n",
       "      <td>Sydney</td>\n",
       "      <td>North Melbourne</td>\n",
       "      <td>1991-04-13 03:30:00+00:00</td>\n",
       "      <td>6</td>\n",
       "      <td>11</td>\n",
       "      <td>47</td>\n",
       "      <td>...</td>\n",
       "      <td>0.0</td>\n",
       "      <td>0.0</td>\n",
       "      <td>71</td>\n",
       "      <td>13</td>\n",
       "      <td>0</td>\n",
       "      <td>1.262708</td>\n",
       "      <td>4.524495</td>\n",
       "      <td>69</td>\n",
       "      <td>1</td>\n",
       "      <td>0</td>\n",
       "    </tr>\n",
       "    <tr>\n",
       "      <th>5</th>\n",
       "      <td>Adelaide</td>\n",
       "      <td>West Coast</td>\n",
       "      <td>Regular</td>\n",
       "      <td>Subiaco</td>\n",
       "      <td>Essendon</td>\n",
       "      <td>North Melbourne</td>\n",
       "      <td>1991-04-21 05:27:00+00:00</td>\n",
       "      <td>9</td>\n",
       "      <td>11</td>\n",
       "      <td>65</td>\n",
       "      <td>...</td>\n",
       "      <td>0.0</td>\n",
       "      <td>0.0</td>\n",
       "      <td>48</td>\n",
       "      <td>9</td>\n",
       "      <td>0</td>\n",
       "      <td>0.913203</td>\n",
       "      <td>3.218368</td>\n",
       "      <td>48</td>\n",
       "      <td>1</td>\n",
       "      <td>0</td>\n",
       "    </tr>\n",
       "    <tr>\n",
       "      <th>...</th>\n",
       "      <th>...</th>\n",
       "      <th>...</th>\n",
       "      <td>...</td>\n",
       "      <td>...</td>\n",
       "      <td>...</td>\n",
       "      <td>...</td>\n",
       "      <td>...</td>\n",
       "      <td>...</td>\n",
       "      <td>...</td>\n",
       "      <td>...</td>\n",
       "      <td>...</td>\n",
       "      <td>...</td>\n",
       "      <td>...</td>\n",
       "      <td>...</td>\n",
       "      <td>...</td>\n",
       "      <td>...</td>\n",
       "      <td>...</td>\n",
       "      <td>...</td>\n",
       "      <td>...</td>\n",
       "      <td>...</td>\n",
       "      <td>...</td>\n",
       "      <td>...</td>\n",
       "      <td>...</td>\n",
       "    </tr>\n",
       "    <tr>\n",
       "      <th rowspan=\"5\" valign=\"top\">Western Bulldogs</th>\n",
       "      <th rowspan=\"5\" valign=\"top\">2021</th>\n",
       "      <th>19</th>\n",
       "      <td>Western Bulldogs</td>\n",
       "      <td>Adelaide</td>\n",
       "      <td>Regular</td>\n",
       "      <td>Eureka Stadium</td>\n",
       "      <td>Gold Coast</td>\n",
       "      <td>West Coast</td>\n",
       "      <td>2021-07-24 02:20:00+00:00</td>\n",
       "      <td>0</td>\n",
       "      <td>0</td>\n",
       "      <td>0</td>\n",
       "      <td>...</td>\n",
       "      <td>0.0</td>\n",
       "      <td>0.0</td>\n",
       "      <td>0</td>\n",
       "      <td>0</td>\n",
       "      <td>0</td>\n",
       "      <td>0.000000</td>\n",
       "      <td>0.000000</td>\n",
       "      <td>0</td>\n",
       "      <td>0</td>\n",
       "      <td>0</td>\n",
       "    </tr>\n",
       "    <tr>\n",
       "      <th>20</th>\n",
       "      <td>Western Bulldogs</td>\n",
       "      <td>Melbourne</td>\n",
       "      <td>Regular</td>\n",
       "      <td>M.C.G.</td>\n",
       "      <td>Adelaide</td>\n",
       "      <td>Gold Coast</td>\n",
       "      <td>2021-07-31 02:20:00+00:00</td>\n",
       "      <td>0</td>\n",
       "      <td>0</td>\n",
       "      <td>0</td>\n",
       "      <td>...</td>\n",
       "      <td>0.0</td>\n",
       "      <td>0.0</td>\n",
       "      <td>0</td>\n",
       "      <td>0</td>\n",
       "      <td>0</td>\n",
       "      <td>0.000000</td>\n",
       "      <td>0.000000</td>\n",
       "      <td>0</td>\n",
       "      <td>0</td>\n",
       "      <td>0</td>\n",
       "    </tr>\n",
       "    <tr>\n",
       "      <th>21</th>\n",
       "      <td>Western Bulldogs</td>\n",
       "      <td>Essendon</td>\n",
       "      <td>Regular</td>\n",
       "      <td>Docklands</td>\n",
       "      <td>Melbourne</td>\n",
       "      <td>Sydney</td>\n",
       "      <td>2021-08-07 02:20:00+00:00</td>\n",
       "      <td>0</td>\n",
       "      <td>0</td>\n",
       "      <td>0</td>\n",
       "      <td>...</td>\n",
       "      <td>0.0</td>\n",
       "      <td>0.0</td>\n",
       "      <td>0</td>\n",
       "      <td>0</td>\n",
       "      <td>0</td>\n",
       "      <td>0.000000</td>\n",
       "      <td>0.000000</td>\n",
       "      <td>0</td>\n",
       "      <td>0</td>\n",
       "      <td>0</td>\n",
       "    </tr>\n",
       "    <tr>\n",
       "      <th>22</th>\n",
       "      <td>Western Bulldogs</td>\n",
       "      <td>Hawthorn</td>\n",
       "      <td>Regular</td>\n",
       "      <td>York Park</td>\n",
       "      <td>Essendon</td>\n",
       "      <td>Collingwood</td>\n",
       "      <td>2021-08-14 02:11:00+00:00</td>\n",
       "      <td>0</td>\n",
       "      <td>0</td>\n",
       "      <td>0</td>\n",
       "      <td>...</td>\n",
       "      <td>0.0</td>\n",
       "      <td>0.0</td>\n",
       "      <td>0</td>\n",
       "      <td>0</td>\n",
       "      <td>0</td>\n",
       "      <td>0.000000</td>\n",
       "      <td>0.000000</td>\n",
       "      <td>0</td>\n",
       "      <td>0</td>\n",
       "      <td>0</td>\n",
       "    </tr>\n",
       "    <tr>\n",
       "      <th>23</th>\n",
       "      <td>Western Bulldogs</td>\n",
       "      <td>Port Adelaide</td>\n",
       "      <td>Regular</td>\n",
       "      <td>Docklands</td>\n",
       "      <td>Hawthorn</td>\n",
       "      <td>Carlton</td>\n",
       "      <td>2021-08-21 02:20:00+00:00</td>\n",
       "      <td>0</td>\n",
       "      <td>0</td>\n",
       "      <td>0</td>\n",
       "      <td>...</td>\n",
       "      <td>0.0</td>\n",
       "      <td>0.0</td>\n",
       "      <td>0</td>\n",
       "      <td>0</td>\n",
       "      <td>0</td>\n",
       "      <td>0.000000</td>\n",
       "      <td>0.000000</td>\n",
       "      <td>0</td>\n",
       "      <td>0</td>\n",
       "      <td>0</td>\n",
       "    </tr>\n",
       "  </tbody>\n",
       "</table>\n",
       "<p>31584 rows × 284 columns</p>\n",
       "</div>"
      ],
      "text/plain": [
       "                                      team      oppo_team round_type  \\\n",
       "Adelaide         1991 1           Adelaide       Hawthorn    Regular   \n",
       "                      2           Adelaide        Carlton    Regular   \n",
       "                      3           Adelaide         Sydney    Regular   \n",
       "                      4           Adelaide       Essendon    Regular   \n",
       "                      5           Adelaide     West Coast    Regular   \n",
       "...                                    ...            ...        ...   \n",
       "Western Bulldogs 2021 19  Western Bulldogs       Adelaide    Regular   \n",
       "                      20  Western Bulldogs      Melbourne    Regular   \n",
       "                      21  Western Bulldogs       Essendon    Regular   \n",
       "                      22  Western Bulldogs       Hawthorn    Regular   \n",
       "                      23  Western Bulldogs  Port Adelaide    Regular   \n",
       "\n",
       "                                   venue prev_match_oppo_team  \\\n",
       "Adelaide         1991 1    Football Park                    0   \n",
       "                      2    Football Park             Hawthorn   \n",
       "                      3           S.C.G.              Carlton   \n",
       "                      4       Windy Hill               Sydney   \n",
       "                      5          Subiaco             Essendon   \n",
       "...                                  ...                  ...   \n",
       "Western Bulldogs 2021 19  Eureka Stadium           Gold Coast   \n",
       "                      20          M.C.G.             Adelaide   \n",
       "                      21       Docklands            Melbourne   \n",
       "                      22       York Park             Essendon   \n",
       "                      23       Docklands             Hawthorn   \n",
       "\n",
       "                         oppo_prev_match_oppo_team                      date  \\\n",
       "Adelaide         1991 1                  Melbourne 1991-03-22 03:56:00+00:00   \n",
       "                      2                    Fitzroy 1991-03-31 03:56:00+00:00   \n",
       "                      3                   Hawthorn 1991-04-07 03:05:00+00:00   \n",
       "                      4            North Melbourne 1991-04-13 03:30:00+00:00   \n",
       "                      5            North Melbourne 1991-04-21 05:27:00+00:00   \n",
       "...                                            ...                       ...   \n",
       "Western Bulldogs 2021 19                West Coast 2021-07-24 02:20:00+00:00   \n",
       "                      20                Gold Coast 2021-07-31 02:20:00+00:00   \n",
       "                      21                    Sydney 2021-08-07 02:20:00+00:00   \n",
       "                      22               Collingwood 2021-08-14 02:11:00+00:00   \n",
       "                      23                   Carlton 2021-08-21 02:20:00+00:00   \n",
       "\n",
       "                          team_goals  team_behinds  score  ...  \\\n",
       "Adelaide         1991 1           24            11    155  ...   \n",
       "                      2           12             9     81  ...   \n",
       "                      3           19            18    132  ...   \n",
       "                      4            6            11     47  ...   \n",
       "                      5            9            11     65  ...   \n",
       "...                              ...           ...    ...  ...   \n",
       "Western Bulldogs 2021 19           0             0      0  ...   \n",
       "                      20           0             0      0  ...   \n",
       "                      21           0             0      0  ...   \n",
       "                      22           0             0      0  ...   \n",
       "                      23           0             0      0  ...   \n",
       "\n",
       "                          oppo_rolling_prev_match_time_on_ground_skew  \\\n",
       "Adelaide         1991 1                                           0.0   \n",
       "                      2                                           0.0   \n",
       "                      3                                           0.0   \n",
       "                      4                                           0.0   \n",
       "                      5                                           0.0   \n",
       "...                                                               ...   \n",
       "Western Bulldogs 2021 19                                          0.0   \n",
       "                      20                                          0.0   \n",
       "                      21                                          0.0   \n",
       "                      22                                          0.0   \n",
       "                      23                                          0.0   \n",
       "\n",
       "                          oppo_rolling_prev_match_time_on_ground_std  \\\n",
       "Adelaide         1991 1                                          0.0   \n",
       "                      2                                          0.0   \n",
       "                      3                                          0.0   \n",
       "                      4                                          0.0   \n",
       "                      5                                          0.0   \n",
       "...                                                              ...   \n",
       "Western Bulldogs 2021 19                                         0.0   \n",
       "                      20                                         0.0   \n",
       "                      21                                         0.0   \n",
       "                      22                                         0.0   \n",
       "                      23                                         0.0   \n",
       "\n",
       "                          oppo_last_year_brownlow_votes_sum  \\\n",
       "Adelaide         1991 1                                  72   \n",
       "                      2                                  51   \n",
       "                      3                                  33   \n",
       "                      4                                  71   \n",
       "                      5                                  48   \n",
       "...                                                     ...   \n",
       "Western Bulldogs 2021 19                                  0   \n",
       "                      20                                  0   \n",
       "                      21                                  0   \n",
       "                      22                                  0   \n",
       "                      23                                  0   \n",
       "\n",
       "                          oppo_last_year_brownlow_votes_max  \\\n",
       "Adelaide         1991 1                                  15   \n",
       "                      2                                  16   \n",
       "                      3                                   7   \n",
       "                      4                                  13   \n",
       "                      5                                   9   \n",
       "...                                                     ...   \n",
       "Western Bulldogs 2021 19                                  0   \n",
       "                      20                                  0   \n",
       "                      21                                  0   \n",
       "                      22                                  0   \n",
       "                      23                                  0   \n",
       "\n",
       "                          oppo_last_year_brownlow_votes_min  \\\n",
       "Adelaide         1991 1                                   0   \n",
       "                      2                                   0   \n",
       "                      3                                   0   \n",
       "                      4                                   0   \n",
       "                      5                                   0   \n",
       "...                                                     ...   \n",
       "Western Bulldogs 2021 19                                  0   \n",
       "                      20                                  0   \n",
       "                      21                                  0   \n",
       "                      22                                  0   \n",
       "                      23                                  0   \n",
       "\n",
       "                          oppo_last_year_brownlow_votes_skew  \\\n",
       "Adelaide         1991 1                             1.565197   \n",
       "                      2                             2.449132   \n",
       "                      3                             1.403576   \n",
       "                      4                             1.262708   \n",
       "                      5                             0.913203   \n",
       "...                                                      ...   \n",
       "Western Bulldogs 2021 19                            0.000000   \n",
       "                      20                            0.000000   \n",
       "                      21                            0.000000   \n",
       "                      22                            0.000000   \n",
       "                      23                            0.000000   \n",
       "\n",
       "                          oppo_last_year_brownlow_votes_std  \\\n",
       "Adelaide         1991 1                            4.070433   \n",
       "                      2                            3.913203   \n",
       "                      3                            2.433862   \n",
       "                      4                            4.524495   \n",
       "                      5                            3.218368   \n",
       "...                                                     ...   \n",
       "Western Bulldogs 2021 19                           0.000000   \n",
       "                      20                           0.000000   \n",
       "                      21                           0.000000   \n",
       "                      22                           0.000000   \n",
       "                      23                           0.000000   \n",
       "\n",
       "                          oppo_cum_matches_played  \\\n",
       "Adelaide         1991 1                        80   \n",
       "                      2                        60   \n",
       "                      3                        92   \n",
       "                      4                        69   \n",
       "                      5                        48   \n",
       "...                                           ...   \n",
       "Western Bulldogs 2021 19                        0   \n",
       "                      20                        0   \n",
       "                      21                        0   \n",
       "                      22                        0   \n",
       "                      23                        0   \n",
       "\n",
       "                          oppo_rolling_prev_match_goals_plus_rolling_prev_match_behinds  \\\n",
       "Adelaide         1991 1                                                   1               \n",
       "                      2                                                   1               \n",
       "                      3                                                   1               \n",
       "                      4                                                   1               \n",
       "                      5                                                   1               \n",
       "...                                                                     ...               \n",
       "Western Bulldogs 2021 19                                                  0               \n",
       "                      20                                                  0               \n",
       "                      21                                                  0               \n",
       "                      22                                                  0               \n",
       "                      23                                                  0               \n",
       "\n",
       "                          oppo_rolling_prev_match_goals_divided_by_rolling_prev_match_goals_plus_rolling_prev_match_behinds  \n",
       "Adelaide         1991 1                                                   0                                                  \n",
       "                      2                                                   0                                                  \n",
       "                      3                                                   0                                                  \n",
       "                      4                                                   0                                                  \n",
       "                      5                                                   0                                                  \n",
       "...                                                                     ...                                                  \n",
       "Western Bulldogs 2021 19                                                  0                                                  \n",
       "                      20                                                  0                                                  \n",
       "                      21                                                  0                                                  \n",
       "                      22                                                  0                                                  \n",
       "                      23                                                  0                                                  \n",
       "\n",
       "[31584 rows x 284 columns]"
      ]
     },
     "execution_count": 4,
     "metadata": {},
     "output_type": "execute_result"
    }
   ],
   "source": [
    "data = MLData(train_year_range=(max(CV_YEAR_RANGE),))\n",
    "data.data"
   ]
  },
  {
   "cell_type": "markdown",
   "metadata": {},
   "source": [
    "## Check baseline model performance\n",
    "\n",
    "Default model still has the ARIMA model."
   ]
  },
  {
   "cell_type": "code",
   "execution_count": 5,
   "metadata": {
    "ExecuteTime": {
     "end_time": "2021-02-13T08:47:34.031564Z",
     "start_time": "2021-02-13T08:47:33.947539Z"
    }
   },
   "outputs": [],
   "source": [
    "stacking_estimator = StackingEstimator()"
   ]
  },
  {
   "cell_type": "markdown",
   "metadata": {},
   "source": [
    "### Stacking model with ARIMA model"
   ]
  },
  {
   "cell_type": "code",
   "execution_count": 6,
   "metadata": {
    "ExecuteTime": {
     "end_time": "2021-02-13T08:50:15.630448Z",
     "start_time": "2021-02-13T08:47:38.754573Z"
    },
    "scrolled": true
   },
   "outputs": [
    {
     "name": "stderr",
     "output_type": "stream",
     "text": [
      "[Parallel(n_jobs=-1)]: Using backend LokyBackend with 4 concurrent workers.\n",
      "[Parallel(n_jobs=-1)]: Done   5 out of   5 | elapsed:  2.6min finished\n"
     ]
    },
    {
     "data": {
      "text/plain": [
       "{'fit_time': array([77.07063055, 79.15697074, 81.10464835, 83.06620646, 66.62547207]),\n",
       " 'score_time': array([1.14102602, 1.16394162, 1.02003813, 1.04491282, 0.95373678]),\n",
       " 'test_neg_mean_absolute_error': array([-30.28812232, -29.43355381, -28.41689136, -26.57813729,\n",
       "        -27.75947225]),\n",
       " 'test_match_accuracy': array([0.73300971, 0.72463768, 0.67149758, 0.71014493, 0.64251208])}"
      ]
     },
     "execution_count": 6,
     "metadata": {},
     "output_type": "execute_result"
    }
   ],
   "source": [
    "stacking_estimator_scores = score_model(stacking_estimator, data, n_jobs=-1)\n",
    "\n",
    "stacking_estimator_scores"
   ]
  },
  {
   "cell_type": "code",
   "execution_count": 7,
   "metadata": {
    "ExecuteTime": {
     "end_time": "2021-02-13T08:50:15.741009Z",
     "start_time": "2021-02-13T08:50:15.633385Z"
    },
    "scrolled": true
   },
   "outputs": [
    {
     "name": "stdout",
     "output_type": "stream",
     "text": [
      "Mean accuracy: 0.6963603958538529\n",
      "Mean MAE: 28.495235406352286\n"
     ]
    }
   ],
   "source": [
    "print('Mean accuracy:', stacking_estimator_scores['test_match_accuracy'].mean())\n",
    "print('Mean MAE:', abs(stacking_estimator_scores['test_neg_mean_absolute_error'].mean()))"
   ]
  },
  {
   "cell_type": "markdown",
   "metadata": {},
   "source": [
    "### Stacking model without ARIMA model"
   ]
  },
  {
   "cell_type": "code",
   "execution_count": 29,
   "metadata": {
    "ExecuteTime": {
     "end_time": "2021-02-13T08:58:35.215575Z",
     "start_time": "2021-02-13T08:58:35.109220Z"
    }
   },
   "outputs": [
    {
     "data": {
      "text/plain": [
       "['extratreesregressor', 'eloregressor']"
      ]
     },
     "execution_count": 29,
     "metadata": {},
     "output_type": "execute_result"
    }
   ],
   "source": [
    "stacking_no_arima = clone(stacking_estimator)\n",
    "stacking_no_arima.pipeline.regressors = stacking_no_arima.pipeline.regressors[:-1]\n",
    "[regressor.steps[-1][0] for regressor in stacking_no_arima.pipeline.regressors]"
   ]
  },
  {
   "cell_type": "code",
   "execution_count": 30,
   "metadata": {
    "ExecuteTime": {
     "end_time": "2021-02-13T09:01:17.879593Z",
     "start_time": "2021-02-13T08:59:09.490260Z"
    },
    "scrolled": true
   },
   "outputs": [
    {
     "name": "stderr",
     "output_type": "stream",
     "text": [
      "[Parallel(n_jobs=-1)]: Using backend LokyBackend with 4 concurrent workers.\n",
      "[Parallel(n_jobs=-1)]: Done   5 out of   5 | elapsed:  2.1min finished\n"
     ]
    },
    {
     "data": {
      "text/plain": [
       "{'fit_time': array([61.81500745, 63.84841537, 66.91292977, 67.77418733, 54.83943653]),\n",
       " 'score_time': array([0.58800077, 0.83151627, 0.53033352, 0.46322918, 0.47495866]),\n",
       " 'test_neg_mean_absolute_error': array([-30.29299786, -29.44361589, -28.39776664, -26.59934979,\n",
       "        -27.73168043]),\n",
       " 'test_match_accuracy': array([0.74271845, 0.72463768, 0.67149758, 0.71497585, 0.63285024])}"
      ]
     },
     "execution_count": 30,
     "metadata": {},
     "output_type": "execute_result"
    }
   ],
   "source": [
    "no_arima_scores = score_model(stacking_no_arima, data, n_jobs=-1)\n",
    "\n",
    "no_arima_scores"
   ]
  },
  {
   "cell_type": "code",
   "execution_count": 32,
   "metadata": {
    "ExecuteTime": {
     "end_time": "2021-02-13T09:01:42.873572Z",
     "start_time": "2021-02-13T09:01:42.767364Z"
    },
    "scrolled": true
   },
   "outputs": [
    {
     "name": "stdout",
     "output_type": "stream",
     "text": [
      "Mean accuracy: 0.6973359598517893\n",
      "Mean MAE: 28.49308211978655\n"
     ]
    }
   ],
   "source": [
    "print('Mean accuracy:', no_arima_scores['test_match_accuracy'].mean())\n",
    "print('Mean MAE:', abs(no_arima_scores['test_neg_mean_absolute_error'].mean()))"
   ]
  },
  {
   "cell_type": "code",
   "execution_count": 34,
   "metadata": {
    "ExecuteTime": {
     "end_time": "2021-02-13T09:03:20.270431Z",
     "start_time": "2021-02-13T09:03:20.193311Z"
    }
   },
   "outputs": [
    {
     "name": "stdout",
     "output_type": "stream",
     "text": [
      "Mean accuracy gained: 0.0009755639979364128\n",
      "Mean MAE lost: -0.002153286565736323\n"
     ]
    }
   ],
   "source": [
    "print(\n",
    "    'Mean accuracy gained:',\n",
    "    no_arima_scores['test_match_accuracy'].mean() - stacking_estimator_scores['test_match_accuracy'].mean()\n",
    ")\n",
    "print(\n",
    "    'Mean MAE lost:',\n",
    "    abs(no_arima_scores['test_neg_mean_absolute_error'].mean()) - abs(stacking_estimator_scores['test_neg_mean_absolute_error'].mean())\n",
    ")"
   ]
  },
  {
   "cell_type": "markdown",
   "metadata": {},
   "source": [
    "## Conclusion\n",
    "\n",
    "There was almost no change in the performance metrics, and that tiny change was even to improve slightly with the removal of ARIMA from the ensemble."
   ]
  },
  {
   "cell_type": "code",
   "execution_count": null,
   "metadata": {},
   "outputs": [],
   "source": []
  }
 ],
 "metadata": {
  "kernelspec": {
   "display_name": "augury",
   "language": "python",
   "name": "python3"
  },
  "language_info": {
   "codemirror_mode": {
    "name": "ipython",
    "version": 3
   },
   "file_extension": ".py",
   "mimetype": "text/x-python",
   "name": "python",
   "nbconvert_exporter": "python",
   "pygments_lexer": "ipython3",
   "version": "3.8.6"
  },
  "notify_time": "30",
  "toc": {
   "base_numbering": 1,
   "nav_menu": {},
   "number_sections": true,
   "sideBar": true,
   "skip_h1_title": false,
   "title_cell": "Table of Contents",
   "title_sidebar": "Contents",
   "toc_cell": false,
   "toc_position": {},
   "toc_section_display": true,
   "toc_window_display": false
  }
 },
 "nbformat": 4,
 "nbformat_minor": 4
}
